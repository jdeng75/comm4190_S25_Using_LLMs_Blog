{
 "cells": [
  {
   "cell_type": "raw",
   "id": "51e336b5-5b0b-46e2-b532-4ef3299ef949",
   "metadata": {},
   "source": [
    "---\n",
    "title: \"Valentines Day Poems\"\n",
    "description: \"Roses are red, violets are blue...\"\n",
    "author: \"Jenn Deng\"\n",
    "date: \"2/10/2024\"\n",
    "categories:\n",
    "  - LLMs\n",
    "  - prompting\n",
    "---"
   ]
  },
  {
   "cell_type": "markdown",
   "id": "71a5d22a-3d07-4265-83c5-69f17a251607",
   "metadata": {},
   "source": [
    "# Love in the Age of AI: Can Machines Understand Romantic Poems?"
   ]
  },
  {
   "cell_type": "markdown",
   "id": "7734450a-1bb1-45ee-be1d-db4909785a2d",
   "metadata": {},
   "source": [
    "<img src=\"Valentine.jpeg\" width=\"40%\"/>"
   ]
  },
  {
   "cell_type": "markdown",
   "id": "f8e81fd9-6750-4ce5-8176-6e055d2929b4",
   "metadata": {},
   "source": [
    "##### Current AI systems cannot have emotions in the sense that humans do... but are they able to detect and analyze human emotion?\n",
    "##### While they can be programmed to recognized and respond to human emotions, they can simulate emotional responses without truly feeling them\n",
    "\n",
    "##### I want to see if AI is able to read love poems and analyze them to the extent that human beings analyze them. Let's get started!"
   ]
  },
  {
   "cell_type": "markdown",
   "id": "ab7b1050-355d-4698-b778-e7fe8c85c784",
   "metadata": {},
   "source": [
    "<img src=\"Val2.jpeg\" width=\"40%\"/>"
   ]
  },
  {
   "cell_type": "markdown",
   "id": "dfc0da3e-caa0-4048-a240-2043e2ee40f1",
   "metadata": {},
   "source": [
    "### A guy wrote me a poem a while ago called \"On Fighting Transience\" and I never understood what it really meant"
   ]
  },
  {
   "cell_type": "markdown",
   "id": "0652b50c-986a-4f3f-96df-d2bd79def44d",
   "metadata": {},
   "source": [
    "> Jenn: There is a love poem called \"On Fighting Transience\", what does this title mean to you?"
   ]
  },
  {
   "cell_type": "markdown",
   "id": "6a5e149d-84cf-42e0-a40f-78a0f40377be",
   "metadata": {},
   "source": [
    "> ChatGPT: <br>\n",
    "The title \"On Fighting Transience\" suggests a struggle against impermanence—perhaps an attempt to hold onto something fleeting, like love, beauty, or life itself. It evokes a deeply romantic and philosophical idea: the desire to resist the inevitable passage of time and the loss that comes with it.\n",
    "In the context of a love poem, it could explore themes like: <br>\n",
    "Eternal love despite the impermanence of life.n<br>\n",
    "Cherishing moments before they slip away. <br>\n",
    "Memory and longing—trying to preserve a love that has passed. <br>\n",
    "Defying fate—resisting change, distance, or even death in the name of love. <br>\n",
    "It feels like a perfect theme for Valentine's Day—an ode to the enduring nature of love, even in the face of time’s relentless march."
   ]
  },
  {
   "cell_type": "markdown",
   "id": "a3199d8e-c959-45e4-9dd4-c7080c17a08e",
   "metadata": {},
   "source": [
    "> Jenn: Here is the poem, please tell me what it means and how you analyze it <br>\n",
    "\n",
    ">On Fighting Transience <br>\n",
    "My favorite authors create from memory, <br>\n",
    "write odes and odysseys sparked by recollection, <br>\n",
    "scrape the walls of their skulls prodding poetry to life. <br>\n",
    "You do the same, subtly <br>\n",
    "showering me with stories of family til tears line your face, <br>\n",
    "soft sobbing like slow plucks of violin strings, <br>\n",
    "turning tension to beauty and I want to cherish <br>\n",
    "this moment for a little while longer. <br>\n",
    "Pailing out the sinking boat of history that floods my head, <br>\n",
    "waves and fogs from trying to retain everything I’ve ever done, <br>\n",
    "replacing older memories with something new, less worthless, <br>\n",
    "recreating poetry and prosody in this room’s low light, <br>\n",
    "I’ll start here — <br>\n",
    "holding your hand as we push chess pieces across the board, <br>\n",
    "overworking gray matter while you disregard strategy, <br>\n",
    "and I watch you smile at each loss. <br>\n",
    "Nixing squares of black and white, <br>\n",
    "mixing pain and pleasure as we succumb to headaches and heart pains, <br>\n",
    "soon subsumed by pasts that flow off tongues like river water, <br>\n",
    "puddle in the air before invisible boundaries, <br>\n",
    "collide against secret dreams till we’re both still. <br>\n",
    "Your head pressed against mine, sincerely silent <br>\n",
    "because words won’t do this moment justice. <br>\n",
    "Sitting on the floor, learning to share the air for several seconds, <br>\n",
    "pretending our familial pain is impermanent, promising <br>\n",
    "things will be better tomorrow, or maybe the day after, <br>\n",
    "or maybe next week, and soon I forget <br>\n",
    "because truly I lost track of time <br>\n",
    "the moment you entered my arms, that first handshake, <br>\n",
    "then hug, making us both fools, fate-bound, <br>\n",
    "spinning round and round in revolutions I won’t recover from, <br>\n",
    "so I embrace this chess-laden dance, drink in the sweetness of your humor, <br>\n",
    "recalling the moment we first met, <br>\n",
    "me, tongue-tied and stupid, <br>\n",
    "and you, asking if I wanted to take a picture, <br>\n",
    "asking if I wanted that moment to last. <br>"
   ]
  },
  {
   "cell_type": "markdown",
   "id": "86b41234-2558-47c4-b4ed-33be89e57b95",
   "metadata": {},
   "source": [
    "> ChatGPT: \n",
    ">  **Analysis of *On Fighting Transience***\n",
    "\n",
    "This poem is a deeply emotional meditation on **memory, love, and the struggle against impermanence**. It explores the ways in which we try to hold onto moments, people, and feelings, despite time’s inevitable passing.  \n",
    "\n",
    " **Theme 1: Memory as a Tool for Fighting Time**  \n",
    "The poem begins with a reflection on how authors and poets **create from memory**, turning recollections into lasting art. The speaker admires this ability, yet seems to struggle with their own attempts to do the same. There’s an urgency in the lines:  \n",
    "\n",
    "> *Pailing out the sinking boat of history that floods my head,*  \n",
    "> *waves and fogs from trying to retain everything I’ve ever done,*  \n",
    "\n",
    "This suggests a fear of forgetting, a frantic attempt to **preserve experiences** before they slip away.\n",
    "\n",
    " **Theme 2: Love and the Desire to Hold Onto Moments**  \n",
    "The heart of the poem is a **love story intertwined with nostalgia**. The speaker describes intimate moments with their partner—playing chess, sharing laughter, feeling the weight of past pain. There’s a sense of **trying to freeze time**, particularly in lines like:  \n",
    "\n",
    "> *I want to cherish this moment for a little while longer.*  \n",
    "> *Pretending our familial pain is impermanent, promising things will be better tomorrow…*  \n",
    "\n",
    "This highlights the contrast between **what we wish to be permanent** (love, connection, laughter) and **what inevitably fades** (memories, pain, even people).\n",
    "\n",
    " **Theme 3: Love as an Anchor in Time’s Revolutions**  \n",
    "The closing lines bring the poem full circle. The speaker reminisces about their first meeting, recalling how their partner asked:  \n",
    "\n",
    "> *if I wanted to take a picture,*  \n",
    "> *asking if I wanted that moment to last.*  \n",
    "\n",
    "This suggests that from the very beginning, there was an awareness of **time’s fleeting nature**—that love and connection are temporary, but we still seek to make them last, even if only in memory.\n",
    "\n",
    " **Symbolism and Imagery**\n",
    "- **Chess**: A symbol of strategy, time, and careful planning. The partner disregards strategy, suggesting they live in the moment, whereas the speaker overthinks.\n",
    "- **Water (waves, fog, river water)**: Symbolizes **memory and time’s fluidity**—it flows, puddles, disappears, and cannot be fully contained.\n",
    "- **Hand-holding and physical closeness**: Represent a desire for permanence, for grounding oneself in the present moment despite the inevitable passing of time.\n",
    "\n",
    " **Final Thoughts**  \n",
    "This poem beautifully captures the **human struggle against transience**—the attempt to **preserve fleeting moments** through memory, love, and poetry itself. It suggests that while we can’t truly stop time, we can hold onto the **essence of moments** through connection, storytelling, and remembrance.  \n",
    "\n",
    "Would you like to incorporate these themes into your blog post? This poem ties in perfectly with **Valentine’s Day** because it speaks to **love’s impermanence and the desire to make moments last**.\n"
   ]
  },
  {
   "cell_type": "markdown",
   "id": "cdece9e8-922d-4e07-aa4d-2c0b0cb401c7",
   "metadata": {},
   "source": [
    "# Analysis "
   ]
  }
 ],
 "metadata": {
  "kernelspec": {
   "display_name": "Python 3 (ipykernel)",
   "language": "python",
   "name": "python3"
  },
  "language_info": {
   "codemirror_mode": {
    "name": "ipython",
    "version": 3
   },
   "file_extension": ".py",
   "mimetype": "text/x-python",
   "name": "python",
   "nbconvert_exporter": "python",
   "pygments_lexer": "ipython3",
   "version": "3.10.12"
  }
 },
 "nbformat": 4,
 "nbformat_minor": 5
}
