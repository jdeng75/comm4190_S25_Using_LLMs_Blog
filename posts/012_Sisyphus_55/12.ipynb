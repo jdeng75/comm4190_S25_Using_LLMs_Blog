{
 "cells": [
  {
   "cell_type": "raw",
   "id": "dd611b33-881e-4862-a4af-b363c103abfa",
   "metadata": {},
   "source": [
    "---\n",
    "title: \"Sisyphus 55 (AI Version)\"\n",
    "description: \"The thing I've learned is to expect nothing and accept everthing.\"\n",
    "author: \"Jenn Deng\"\n",
    "date: \"3/18/2025\"\n",
    "categories:\n",
    "  - LLMs\n",
    "  - prompting\n",
    "  - philosophy\n",
    "  - content creation\n",
    "---"
   ]
  },
  {
   "cell_type": "markdown",
   "id": "2ee283de-3674-4176-801b-400761e926a8",
   "metadata": {},
   "source": [
    "# Can AI Think Like a Philosopher"
   ]
  },
  {
   "cell_type": "markdown",
   "id": "a6f84d1b-0bab-402a-8ca0-e17e14cbd379",
   "metadata": {},
   "source": [
    "\n",
    "---\n"
   ]
  },
  {
   "cell_type": "markdown",
   "id": "58ef2adc-cd16-4ebe-95bd-195f989b08c5",
   "metadata": {},
   "source": [
    "<img src=\"1.png\" width=\"100%\" />"
   ]
  },
  {
   "cell_type": "markdown",
   "id": "de5e0535-7456-4b43-83a6-1d9266fbbc66",
   "metadata": {},
   "source": [
    "----"
   ]
  },
  {
   "cell_type": "markdown",
   "id": "a14f1d68-2940-4c12-98d9-5967491cf4d7",
   "metadata": {},
   "source": [
    "One day while I got bored of watching the same *Greys Anatomy* clips on YouTube, I stumbled across a video called \"love without attachment\" by **Sisyphus 55** and instantly fell into a deep loop of watching all his videos. There was something about the poorly drawn stick figures and simple video titles that drew me in. \n",
    "</br>\n",
    "</br>\n",
    "<img src=\"2.png\" width=\"100%\" />\n",
    "</br>\n",
    "</br>"
   ]
  },
  {
   "cell_type": "markdown",
   "id": "7867452a-fbd0-4334-90a3-fad3c29857d2",
   "metadata": {},
   "source": [
    "**Sisyphus 55** is an American-Canadian YouTuber who makes videos about philosophy, empathy, and modern thinkers. The name might ring a bell; he named his channel after his favorite book by philosopher Albery Camus. </br>\n",
    "</br>\n",
    "He makes a ton of videos analyzying and critiquing philosophers, both modern and ancient ones. You might've seen his video **NIETZSCHE:THE MAN WHO VIBE CHECKED GOD** or **THE SCARIEST PHILOSOPHERS OF ALL TIME**. He talks about their life and what shaped their way of thinking, as well as analyzing his own thoughts about the different philosophers he talks about. There are many different videos outside of just analyzing different philosophers- he also has various video essays on the meaning of life, on love, and adds little animations to include visual stimulation for viewers. </br>\n",
    "</br>"
   ]
  },
  {
   "cell_type": "markdown",
   "id": "b70778fd-7f7a-45e4-a899-d719ff012bf6",
   "metadata": {},
   "source": [
    "There are a lot of great videos on this channel. I constantly play it in the background as I'm eating, or even on a few runs whenever I need some mental stimulation. Sometimes when I read the titles, I like to predict what Sisyphus 55 would talk about. </br>\n",
    "</br>"
   ]
  },
  {
   "cell_type": "markdown",
   "id": "0151e8c5-dff3-46e5-932d-471958289171",
   "metadata": {},
   "source": [
    "In this blog post, I want to see what **deepseek-r1:1.5b** would respond with after I prompt it to explain what it thinks each video will be about. I want to also see if I'll be able to get any philosophical ideas from **deepseek** and engage on these ideas. </br>\n",
    "</br>"
   ]
  },
  {
   "cell_type": "markdown",
   "id": "a8ef5ab1-3b2d-4c80-9e2a-6523ce828cec",
   "metadata": {},
   "source": [
    "**Let's play pretend philosophers!** </br>\n",
    "</br>\n",
    "I'm going to choose the videos with most ambiguous titles."
   ]
  },
  {
   "cell_type": "markdown",
   "id": "a9de9611-a878-4099-8684-5547f3db8b76",
   "metadata": {},
   "source": [
    "---"
   ]
  },
  {
   "cell_type": "markdown",
   "id": "430fecc8-c359-4034-925e-a2763e911a91",
   "metadata": {},
   "source": [
    "# Right Person/Wrong Time"
   ]
  },
  {
   "cell_type": "markdown",
   "id": "d4bd4810-1007-410f-bba6-54829e020a54",
   "metadata": {},
   "source": [
    "<img src=\"3.png\" width=\"100%\" />"
   ]
  },
  {
   "cell_type": "markdown",
   "id": "b2f196c1-5f6f-4dd0-8a86-d6c063503102",
   "metadata": {},
   "source": [
    "I prompted deepseek by asking: </br>\n",
    "\n",
    "> pretend you were a YouTuber who made content on philosophical ideas and exploring the meaning of life. One of the video titles you have is “right person/wrong time\".” What might you discuss in this video?"
   ]
  },
  {
   "cell_type": "markdown",
   "id": "4489b999-1d8c-4578-916b-0952c4dfd7cf",
   "metadata": {},
   "source": [
    "<details>\n",
    "<summary>deepseek Thougths</summary>\n",
    "\n",
    "Alright, I need to figure out what the user is asking for. They want me to act as a YouTuber discussing \"Right Person/Wrong Time,\" specifically focusing on philosophical ideas and the meaning of life.\n",
    "\n",
    "First, I should break down the title. It combines two main concepts: right person and wrong time. Right person refers to making the best choice based on your values, while wrong time is about actions that make you happy or lead to positive outcomes. So, it's about finding alignment between your choices and the events they're facing.\n",
    "\n",
    "I wonder if the user wants a video title but not necessarily an engaging one. Maybe they just want a structured outline of what to cover. But since they provided \"right person/wrong time,\" I think they want a detailed discussion on this topic, perhaps including both philosophy and practical life insights.\n",
    "\n",
    "Next, I need to consider the content that could be discussed in such a video. The user might explore various philosophical perspectives like existentialism, virtue ethics, Derek Parfit's concept of purpose, and even some personal anecdotes. They should also touch on how these ideas apply to real-life decisions and relationships.\n",
    "\n",
    "Including practical examples is key here. For instance, the principle that \"you are who you choose to be\" by C.S. Lewis can be tied into making decisions about life goals. Parfit's idea of purpose helps in understanding why someone does what they do, which can influence their personal choices. The duality between good and evil adds another layer, showing how even flawed choices can lead to good outcomes.\n",
    "\n",
    "I should also address the balance between self-interest and otherness, especially during high-stress times like work or relationships. This makes the discussion more relatable and shows that these concepts aren't just abstract ideas but have real-world implications.\n",
    "\n",
    "The conclusion might be about trusting oneself and following one's core values, which ties back to the broader theme of right person/wrong time. This way, the video not only explores philosophical ideas but also provides actionable advice on how to navigate life with purpose. \n",
    "\n",
    "</details>\n"
   ]
  },
  {
   "cell_type": "markdown",
   "id": "1782abf2-c706-47dc-8ef3-6c64e9939ea1",
   "metadata": {},
   "source": [
    "<details>\n",
    "<summary>deepseek Response</summary>\n",
    "\n",
    "1. Introduction: The Duality of Human Life\n",
    "Begin by introducing the concept of \"right person\" as the choice we make based on our values, and \"wrong time\" as the events or choices that lead us to them.\n",
    "Emphasize that life is inherently self-dual—both a struggle for rights and a challenge for the wrongness of the path.\n",
    "2. Philosophical Perspectives\n",
    "Existentialism: Discuss thinkers like Sartre, Derrida, and Le Guernec who emphasize the individual's responsibility in shaping their own existence.\n",
    "How existentialists view the importance of choosing a life aligned with one's purpose and values, even in uncertain or harsh circumstances.\n",
    "Virtue Ethics: Explore how virtues like love, kindness, and integrity guide us toward \"right person\" decisions in the face of uncertainty.\n",
    "The role of virtues as moral compasses when the path is unclear.\n",
    "Derek Parfit's \"Purpose\":\n",
    "Explain Parfit's concept of purpose as a bridge between harm and good.\n",
    "How understanding this helps us make choices that align with our values, even in the face of moral uncertainty.\n",
    "3. The Principle of \"You Are Who You Choose to Be\"\n",
    "Discuss C.S. Lewis’s principle: \"You are who you choose to be.\"\n",
    "How this applies beyond philosophy—how life choices (right person) influence the events we experience and their outcomes.\n",
    "Examples include career goals, relationships, or personal choices in family matters.\n",
    "4. The Power of Choice\n",
    "Explore how choosing a right person leads to opportunities for positive action (wrong time).\n",
    "Use examples like making a life choice that aligns with values, leading to successful relationships or professional advancements.\n",
    "The balance between pursuing your core values and the external pressures of time.\n",
    "5. The Role of Otherness\n",
    "Discuss how others can influence our decisions and outcomes.\n",
    "Parfit’s idea about \"dualism\" (the tension between good and evil) ties into this, showing that even flawed choices can lead to positive outcomes when aligned with values.\n",
    "The concept of \"otherness\"—being in the present moment—can help navigate these dynamics.\n",
    "6. The High-Stakes Game\n",
    "Address the challenges of making decisions during high-stress times (work, relationships, etc.).\n",
    "How Parfit’s ideas about purpose and choice apply here.\n",
    "The importance of not getting caught in the weeds but knowing your values.\n",
    "7. Personal Reflection: \"You Are Who You Choose to Be\"\n",
    "Encourage viewers to reflect on their own choices and whether they align with their values.\n",
    "How this reflection can lead to personal growth and a sense of purpose.\n",
    "The role of mindfulness in choosing the right person when things get tough.\n",
    "8. The Conclusion: Right Person / Wrong Time\n",
    "Summarize how understanding both perspectives helps us find meaning in life.\n",
    "Remind viewers that self-compassion and a strong moral foundation are keys to navigating both \"right person\" and \"wrong time.\"\n",
    "The importance of trusting one's values, even when they seem \"wrong,\" as part of the journey toward a better life.\n",
    "This title and content blend philosophical depth with practical advice, offering a comprehensive exploration of the concept.\n",
    "</details>\n"
   ]
  },
  {
   "cell_type": "markdown",
   "id": "2b772fbe-0338-41c2-8b21-6f2bb0919e1a",
   "metadata": {},
   "source": [
    "---"
   ]
  },
  {
   "cell_type": "markdown",
   "id": "d74bd6f8-69b2-428c-91ac-30a69a67a1f4",
   "metadata": {},
   "source": [
    "# How We Think Of Love is Messed Up"
   ]
  },
  {
   "cell_type": "markdown",
   "id": "8c3c24f1-a427-4e43-8499-58544e93c637",
   "metadata": {},
   "source": [
    "<img src=\"4.png\" width=\"100%\" />"
   ]
  },
  {
   "cell_type": "markdown",
   "id": "a33c99c4-3e32-4477-8134-5a26846ed570",
   "metadata": {},
   "source": [
    "My next prompt was: </br>\n",
    "\n",
    ">  ok, what if you wanted to make another video titled \"how we think of love is messed up\""
   ]
  },
  {
   "cell_type": "markdown",
   "id": "e15c4024-b348-4c6e-b2ff-45fa6ee83002",
   "metadata": {},
   "source": [
    "<details>\n",
    "<summary>deepseek Thougths</summary>\n",
    "Okay, so I'm thinking about making another YouTuber-level video titled \"How We Think of Love Is Messed Up.\" Hmm, where do I start? Well, first off, I need to understand what the title means. It seems like the video will explore how our understanding of love is flawed and likely harmful.\n",
    "\n",
    "I guess the person wants to talk about this in-depth. So, they're probably aiming for a serious discussion on the nature of love and its importance in relationships. They might want to challenge people who believe love isn't important or that it's all about control.\n",
    "\n",
    "But how do I structure this? Should I start with an introduction explaining what love is? Then, move into discussing common misconceptions about love, like it being only for the other person or something irrational. Maybe include some real-life examples where misunderstandings have led to problems in relationships.\n",
    "\n",
    "Also, I wonder if there's any research or existing theories on this topic. Perhaps looking into cognitive-behavioral therapy (CBT) could be relevant, as it deals with how people think and change their behavior based on their beliefs.\n",
    "\n",
    "I also need to consider the tone. It shouldn't be too formal; more like a personal reflection. Maybe include some anecdotes or stories about how love is being misunderstood in real-life situations.\n",
    "\n",
    "Wait, should I focus on preventing misunderstandings? Or just discuss them? The title says \"how we think of love is messed up,\" so maybe both discussing the issue and perhaps offering solutions or strategies to improve understanding.\n",
    "\n",
    "Hmm, another angle could be looking at literature or cultural perspectives on love. Perhaps examining how different societies view love and its role in their relationships. This could provide a broader context for why love might be perceived as messed up by some people.\n",
    "\n",
    "Also, I need to make sure the video isn't just about stating facts but also about taking it to an emotional level. Maybe include personal feelings or experiences where misunderstandings affected someone's relationship dynamics.\n",
    "\n",
    "What about the structure? Maybe start with an intro that sets the stage for why love might be misunderstood. Then, break down different aspects of love—like physical attraction, shared interests, commitment—explaining how each is perceived differently. Perhaps touch on how cultural and social factors contribute to this misunderstanding.\n",
    "\n",
    "Including real-life examples where misunderstandings have led to problems in relationships could make the content more relatable. Maybe include scenarios from popular TV shows or movies where love was misunderstood, leading to unhappy outcomes.\n",
    "\n",
    "I should also consider who the audience might be. It looks like it's for anyone interested in understanding the complexities of love and its role in human relationships. So, keeping the language accessible but insightful would be key.\n",
    "\n",
    "Perhaps conclude with a call to action—emphasizing how self-awareness and open-mindedness can lead to more harmonious relationships by recognizing and addressing misunderstandings about love.\n",
    "\n",
    "Okay, I think that covers most of the bases. Now, how do I put this all into a video? Do I start brainstorming ideas first or just jump in? Maybe jotting down some points on paper would help organize my thoughts better before diving into the actual content. \n",
    "</details>"
   ]
  },
  {
   "cell_type": "markdown",
   "id": "b48e9573-f3c7-413a-97fb-9bc6ee8a9925",
   "metadata": {},
   "source": [
    "<details>\n",
    "<summary>deepseek Response</summary>\n",
    "The Misunderstandings of Love: How We Think It Is Messed Up\n",
    "\n",
    "This video explores how love is often misunderstood in different cultures, social groups, and even individuals. It will cover:\n",
    "- What love truly is in different contexts\n",
    "- Common misconceptions about love's complexity\n",
    "- Cultural and social influences on how love is perceived\n",
    "- Strategies for better understanding love\n",
    "5 Min intro: How Love Can Be Messed Up\n",
    "\n",
    "Start with an engaging intro that sets the stage for discussing love’s complexities.  \n",
    "\"Love isn't just one thing—it can be interpreted in so many ways, depending on who you ask and where you live. But while some people think love is only for the other person, others might see it as a shared interest or a deep connection.\"\n",
    "\n",
    "10 Min: The Complexity of Love\n",
    "\n",
    "Explore how love varies across cultures, friendships, relationships, and singles.  \n",
    "\"Love can be physical (attracting body parts), emotional (sharing thoughts or feelings), or even just a simple connection in the right moment. But sometimes love feels like it's only for you—no one else. Others might think love is irrational or unattainable.\"\n",
    "\n",
    "5 Min: Cultural Influences on Love Perception\n",
    "\n",
    "Examine how cultural and social factors shape our understanding of love.  \n",
    "\n",
    "\"In some cultures, love is seen as the most important aspect of relationships, while in others, it's considered less central. Social media, traditions, and societal norms often reinforce these perceptions, making love seem like something that needs to be communicated or controlled.\"\n",
    "\n",
    "3 Min: How to Better Understand Love\n",
    "\n",
    "Share strategies for taking ownership of your love perspective.  \n",
    "\n",
    "\"Here’s how you can think about love differently: Don’t assume it's only one person. Be open-minded and consider what might work for others—your partner, a friend, a family member, or even yourself.\"  \n",
    "\n",
    "3 Min: Conclusion\n",
    "\n",
    "Sum up the key points and reinforce the idea that love is more than just one thing.\n",
    "\n",
    "\"Love is messy because it can be seen differently in so many ways. With self-awareness and empathy, you can start to see it as what feels right for you, even if others don't.\"\n",
    "\n",
    "2 Min: Call to Action\n",
    "\n",
    "Call viewers to take action—start thinking about love in a way that resonates with them.\n",
    "\n",
    "\"You might not think love is messed up yet, but as you grow older and interact more deeply, your perspective on love may change. Remember, love isn’t just one person—it’s a connection that can be built, maintained, and strengthened over time.\"\n",
    "\n",
    "By the end of this video, you’ll leave with a newfound appreciation for how love can vary so much and who it might not always be for.\n",
    "</details>"
   ]
  },
  {
   "cell_type": "markdown",
   "id": "c4231ddf-7161-474c-8e0d-11fdfe1e2494",
   "metadata": {},
   "source": [
    "---"
   ]
  },
  {
   "cell_type": "markdown",
   "id": "23e5d350-f22f-47e0-928f-166e9292d732",
   "metadata": {},
   "source": [
    "# The Fear of Truly Living"
   ]
  },
  {
   "cell_type": "markdown",
   "id": "b2663f87-81d6-4930-a2ae-f2ea11e86842",
   "metadata": {},
   "source": [
    "<img src=\"5.png\" width=\"100%\" />"
   ]
  },
  {
   "cell_type": "markdown",
   "id": "f7d80f13-b33d-48de-948d-d62febda522d",
   "metadata": {},
   "source": [
    "For this video, I prompted: </br>\n",
    "\n",
    "> Ok, you’re deep into your philosophy thinking and make a video on “the fear of truly living\".” Give me a 500 word snippet of what you would script and say."
   ]
  },
  {
   "cell_type": "markdown",
   "id": "b3946c5a-42c4-4c32-95c1-67a8b776fddf",
   "metadata": {},
   "source": [
    "<details>\n",
    "<summary>deepseek Thoughts</summary>\n",
    "Alright, so I need to help the user by expanding their previous thought process into a detailed response that can be converted into a markdown-formatted text. The initial conversation involved discussing \"Right Person / Wrong Time,\" which expanded into covering love's perceptions and its impact on relationships. Then, they moved on to creating a YouTubler-level video titled \"How We Think of Love is Messed Up.\"\n",
    "\n",
    "Now, the user wants me to take their current focus on creating a video titled \"the fear of truly living\" and provide a 500-word snippet in markdown format that could be used for the video.\n",
    "\n",
    "First, I should consider what \"the fear of truly living\" entails. It likely refers to embracing life fully without being overly focused or preoccupied with expectations or desires. This shift can lead to more authentic happiness.\n",
    "\n",
    "Next, I need to outline key points to cover in a 500-word snippet:\n",
    "\n",
    "Introduction: What the film is about, its purpose.\n",
    "The Fear of Being Overly Focused: Discussing the negative outcomes when living too much on oneself.\n",
    "The Power of Gratitude and Presence: Emphasizing positive aspects of being present.\n",
    "Bridging the Gap Between Thought and Reality: How to find peace through connection rather than comparison.\n",
    "Conclusion: Living Fully, Alive: The goal of embracing life as it is.\n",
    "I should structure each section with clear headings and ensure the language flows naturally, avoiding overly technical terms to keep it accessible.\n",
    "\n",
    "Finally, I'll make sure the markdown formatting includes bullet points for headings and a concise flow between them.\n",
    "</details>"
   ]
  },
  {
   "cell_type": "markdown",
   "id": "e4b1d287-cf27-44b8-a953-de7f0f54c6fd",
   "metadata": {},
   "source": [
    "<details>\n",
    "<summary>deepseek Response</summary>\n",
    "    \n",
    "**The Balance of Life and Love: Understanding Rightness in a Grateful World**\n",
    "\n",
    "living right is about finding the right harmony between personal goals and relationships. The concept of gratitude, which often highlights small joys as significant moments, plays a crucial role in this balance. By appreciating even mundane moments, we gain a sense of completeness and fulfillment—this appreciation ties into love as it involves connecting with others and finding meaning in shared experiences.\n",
    "\n",
    "Ultimately, living right is about embracing purpose, creating meaning, and being deeply connected to both oneself and those around us. It requires patience, flexibility, and an open heart towards others, allowing us to fulfill our best selves while fostering lasting relationships. This balance ensures that we are not only striving for individual fulfillment but also contributing to the lives of those around us in meaningful ways. Ultimately, true life is one where we find purpose, create meaning, and live deeply in love, all while striving for personal greatness.\n",
    "</details>"
   ]
  },
  {
   "cell_type": "markdown",
   "id": "bafae9cc-befa-480e-8b78-38778bcfcf77",
   "metadata": {},
   "source": [
    "---"
   ]
  },
  {
   "cell_type": "markdown",
   "id": "17a87756-7b04-4207-b885-3748c96643ba",
   "metadata": {},
   "source": [
    "# Quarter Life Crisis"
   ]
  },
  {
   "cell_type": "markdown",
   "id": "0ba0d541-cecf-4502-bd37-4c138e3616d0",
   "metadata": {},
   "source": [
    "(maybe I should watch this now...)"
   ]
  },
  {
   "cell_type": "markdown",
   "id": "5e8c6d6c-4864-4ed5-a896-6e5b2f0e007e",
   "metadata": {},
   "source": [
    "<img src=\"6.png\" width=\"100%\" />"
   ]
  },
  {
   "cell_type": "markdown",
   "id": "3f3dbbed-3d83-437f-8d78-f55cd94d05f9",
   "metadata": {},
   "source": [
    "I did something similar to the last prompt and asked: </br>\n",
    "\n",
    "> you’re a philosopher going through a quarter life crisis, so you decide to create a video called “quarter life crisis.” Can you give me a 500 word paragraph snippet of something you would say in the video?"
   ]
  },
  {
   "cell_type": "markdown",
   "id": "f9842c76-2c5d-490a-87f4-b903f79884ef",
   "metadata": {},
   "source": [
    "<details>\n",
    "<summary> deepseek Thoughts </summary>\n",
    "Alright, I need to help craft a 500-word paragraph from a philosophy perspective about a quarter-life crisis. Let's think through this step by step.\n",
    "\n",
    "First, understanding who the audience is—students or anyone looking for inspiration. They’re probably seeking wisdom on navigating life’s ups and downs. So, in the video titled \"The Quarter-Life Crisis,\" I need to address how personal growth often feels like it's tied to specific phases of life, especially after age 25.\n",
    "\n",
    "I should focus on themes like adaptability, seeking inner peace, embracing change, and balancing pursuit with authenticity. Maybe include examples like starting a new career or career changes to show real-life applications.\n",
    "\n",
    "Also, touch on the idea that what works one day might not work the next, emphasizing resilience and flexibility in navigating life's curveballs. Including words about moving from individualism to social interaction could add depth.\n",
    "\n",
    "Overall, the video should motivate viewers by highlighting their ability to grow as individuals through embracing each phase of their journey\n",
    "</details>"
   ]
  },
  {
   "cell_type": "markdown",
   "id": "073700db-64a6-4816-99a3-2ced25f0f158",
   "metadata": {},
   "source": [
    "---"
   ]
  },
  {
   "cell_type": "markdown",
   "id": "2dc599de-1893-46e2-b817-8c8bcf6b1e32",
   "metadata": {},
   "source": [
    "# Conclusion </br>\n",
    "</br>\n",
    "\n",
    "I thought that deepseek did a great job at breaking down each video, as well as creating a blueprint for video content production. This could tremendously help content creaters propel their workforce. </br>\n",
    "</br>\n",
    "\n",
    "I especially liked reading through **deepseek Thoughts** because it was very informal and was able to explain through the \"thought\" process of why it decided to give me certain answers. </br>\n",
    "</br>\n",
    "\n",
    "What are the implications of this? Will content creaters use it to organize their videos, will it be used to create scripts, or will it be used to create entire videos? Let's see how this changes the scope for future YouTube videos."
   ]
  },
  {
   "cell_type": "code",
   "execution_count": null,
   "id": "17c5ea59-5a3c-499c-a619-454b347bb56b",
   "metadata": {},
   "outputs": [],
   "source": []
  }
 ],
 "metadata": {
  "citation-manager": {
   "items": {}
  },
  "kernelspec": {
   "display_name": "Python 3-12 (COMM4190)",
   "language": "python",
   "name": "python3-12_comm4190"
  },
  "language_info": {
   "codemirror_mode": {
    "name": "ipython",
    "version": 3
   },
   "file_extension": ".py",
   "mimetype": "text/x-python",
   "name": "python",
   "nbconvert_exporter": "python",
   "pygments_lexer": "ipython3",
   "version": "3.12.8"
  }
 },
 "nbformat": 4,
 "nbformat_minor": 5
}
