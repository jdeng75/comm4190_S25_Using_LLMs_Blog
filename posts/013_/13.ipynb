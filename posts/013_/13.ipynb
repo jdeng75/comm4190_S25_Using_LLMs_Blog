{
 "cells": [
  {
   "cell_type": "raw",
   "id": "25a87727-e293-46e2-afa6-dfb2a9acdaeb",
   "metadata": {},
   "source": [
    "---\n",
    "title: \"Playing Around With Gemini 2.0\"\n",
    "description: \"wowowow this is exciting\"\n",
    "author: \"Jenn Deng\"\n",
    "date: \"3/25/2025\"\n",
    "categories:\n",
    "  - LLMs\n",
    "  - prompting\n",
    "  - logic\n",
    "---"
   ]
  },
  {
   "cell_type": "markdown",
   "id": "8adfa50b-f823-4e4a-97ff-f8d4e8ddae80",
   "metadata": {},
   "source": [
    "# Gemini 2.0 Flash Experimental !!!"
   ]
  },
  {
   "cell_type": "markdown",
   "id": "526fb44e-ce73-48cc-840b-f3a72ac64f65",
   "metadata": {},
   "source": [
    "The class recently got an announcement about Google's latest multi-modal text to image model, **Gemini 2.0 Flash Experimental.** </br>\n",
    "The model can edit images on the gly without generating them entirely new, which is crazy. </br>\n",
    "Around the same time, I also stumbled upon a **Tik Tok video by @hes_a_nerd.** "
   ]
  },
  {
   "cell_type": "markdown",
   "id": "7cf13f9a-b15a-453e-9b3b-a2e27c063b7b",
   "metadata": {},
   "source": [
    "<img src=\"1.png\" width=\"100%\"/>"
   ]
  },
  {
   "cell_type": "markdown",
   "id": "3a41f2c5-7c2f-40e9-a724-2d7573c8264f",
   "metadata": {},
   "source": [
    "At first, he explains how this photo looks like a normal photo taken with a group of people... but it's actually **ChatGPT 4.0s** latest ability with photos. It can now generate photos with direct prompting and it's way *better than DALLE.* </br>\n",
    "Here's their statement about this new update: </br>\n",
    "> At OpenAI, we have long believed image generation should be a primary capability of our language models. That’s why we’ve built our most advanced image generator yet into GPT‑4o. The result—image generation that is not only beautiful, but useful.\n",
    "\n",
    "You might wonder, how did someone create this image. Here's what they typed in."
   ]
  },
  {
   "cell_type": "markdown",
   "id": "6c4ec0e8-1d72-4827-94d5-04740172e1cb",
   "metadata": {},
   "source": [
    "```\n",
    "prompt: Create an image that looks like it was taken from an iPhone 6, a group of college aged kids, 3 or 4 smiling while outside. It is dusk, and they are on a city campus. It should be noisy and look authentic not cinematic, this photo was lazily taken in the November cold.\n",
    "```"
   ]
  },
  {
   "cell_type": "markdown",
   "id": "d47ffd1b-e435-4a8d-8d91-605332695a1a",
   "metadata": {},
   "source": [
    "There's nothing that stands out about it that looks like it's from AI. It can generate text the most flawlessly, and it can create text on the boards. There's even a reflection and the details are insane. You can edit with one sentence. That's crazy. Take a look."
   ]
  },
  {
   "cell_type": "markdown",
   "id": "1927832d-f968-4f9a-a795-f35e38905e86",
   "metadata": {},
   "source": [
    "<img src=\"2.png\" width=\"100%\"/>"
   ]
  },
  {
   "cell_type": "markdown",
   "id": "a3382833-57e5-4eb4-b982-39061d105e27",
   "metadata": {},
   "source": [
    "You can tell that in the prompt, they create specific text to have in the imaging. This is a next level, new update. **It's scary.** </br>\n",
    "The improved capabilities are made to train models on the joint distribution of online images and text, learning not just how images relate to language, but how they relate to each other. It's combined with aggressive post-training and is able to produce visual fluency, capable of generating images that are useful, consistent, and context-aware. </br>\n",
    "Text rendering is possible. 4o's ability to blend precise symbls with imagery turns image generation into a tool for visual communication."
   ]
  },
  {
   "cell_type": "markdown",
   "id": "f680e516-4b5c-4e17-bf9d-e5de4c480e67",
   "metadata": {},
   "source": [
    "For this blog post, I want to experiment with Gemini 2.0 Flash Experimental. Let's see if I can replicate these images above and prompt it to create realistic photos."
   ]
  },
  {
   "cell_type": "markdown",
   "id": "4d48abca-ca7f-4aca-8f79-8b3fb1cd64cb",
   "metadata": {},
   "source": [
    "### Let's Create the College Group Photo"
   ]
  },
  {
   "cell_type": "markdown",
   "id": "34db75d9-50a3-41a3-bee4-bf76064a8f5e",
   "metadata": {},
   "source": [
    "<img src=\"3.png\" width=\"100%\"/>"
   ]
  },
  {
   "cell_type": "markdown",
   "id": "05fe72be-f4bf-47e7-a43a-bc33f4ce6202",
   "metadata": {},
   "source": [
    "Woah, I've never used this before. I like how they have examples of what you can ask it to do. But I'm going to stick to entering the prompt for the photo. Let's see if it generates something similar to ChatGPT's model."
   ]
  },
  {
   "cell_type": "markdown",
   "id": "b06eeb73-a2a8-4d49-a277-276c4d24c4c6",
   "metadata": {},
   "source": [
    "<img src=\"4.png\" width=\"100%\"/>"
   ]
  },
  {
   "cell_type": "markdown",
   "id": "9368ead6-801a-4750-8e2c-c062970252e2",
   "metadata": {},
   "source": [
    "Erm.... why is this not working."
   ]
  },
  {
   "cell_type": "markdown",
   "id": "7e573ac9-593c-4dbb-a404-9dedeef4e57c",
   "metadata": {},
   "source": [
    "<img src=\"5.png\" width=\"100%\"/>"
   ]
  },
  {
   "cell_type": "markdown",
   "id": "5eb90f20-0a25-4b01-aa3c-d6ac9ef972b2",
   "metadata": {},
   "source": [
    "Ok, maybe the prompt was too complicated. I'll just... simplify it and ask: </br>\n",
    "\n",
    "```\n",
    "prompt: Can you create a photo of college kids on their campus.\n",
    "```\n",
    "The output is this: </br>\n",
    "```\n",
    "{\n",
    "  \"prompt\": \"A photorealistic image of a diverse group of four college students (early 20s, mixed gender and ethnicity) sitting together casually on a sunny green lawn (quad) on a university campus. They are dressed in casual clothes like jeans, t-shirts, and hoodies, with backpacks resting beside them on the grass. One student is smiling while looking at a laptop open on their lap, while the others are engaged in relaxed conversation, looking at each other or the laptop screen. In the background, classic brick university buildings with large windows and mature trees are visible under a clear blue sky with soft sunlight. The atmosphere is bright, relaxed, and friendly. Medium shot, natural lighting.\",\n",
    "  \"negative_prompt\": \"blurry, unfocused, poorly lit, distorted faces, unnatural poses, empty campus, children, high school students, business attire, overly staged\",\n",
    "  \"style_raw\": \"photorealistic\",\n",
    "  \"aspect_ratio\": \"16:9\"\n",
    "}\n",
    "```"
   ]
  },
  {
   "cell_type": "markdown",
   "id": "7616e506-4dad-4770-8a79-3d8fd00e6939",
   "metadata": {},
   "source": [
    "What I did with this output was I inputted into ChatGPT 4o. This is what it gave me."
   ]
  },
  {
   "cell_type": "markdown",
   "id": "fdbb1893-2fe9-4d17-85c0-d1cad21e067c",
   "metadata": {},
   "source": [
    "<img src=\"6.png\" width=\"100%\"/>"
   ]
  },
  {
   "cell_type": "markdown",
   "id": "5af5517a-6b96-40e5-8df0-88b91f29b5d4",
   "metadata": {},
   "source": [
    "This isn't as realistic as the original. I wonder why."
   ]
  },
  {
   "cell_type": "markdown",
   "id": "7a7cf73e-8f2a-4be0-87ef-b49b0c15e84c",
   "metadata": {},
   "source": [
    "There's a toggle where I can click Gemini's **Thoughts**, so here's what it explains. It explains the thinking process that could lead to the image and description that I provided: </br>"
   ]
  },
  {
   "cell_type": "markdown",
   "id": "eb1263bc-22df-44b1-8619-fa26fad67b53",
   "metadata": {},
   "source": [
    "```\n",
    "Understand the Request: The user wants a photo of \"college kids on their campus.\" This is a fairly broad request, so I need to make some assumptions or choose a common, relatable scenario.\n",
    "\n",
    "Identify Key Elements:\n",
    "\n",
    "Subject: College students (\"kids\" implies younger, undergraduate age, probably diverse).\n",
    "\n",
    "Setting: A college campus. This needs typical campus elements.\n",
    "\n",
    "Action/Mood: What are they doing? How do they feel? Needs to look natural and characteristic of college life.\n",
    "\n",
    "Brainstorm Campus Scenarios:\n",
    "\n",
    "Walking between classes.\n",
    "\n",
    "Sitting on a quad/lawn, studying or relaxing.\n",
    "\n",
    "Gathered near a prominent building (library, student union, academic hall).\n",
    "\n",
    "Interacting in a group.\n",
    "\n",
    "Carrying backpacks, books, laptops.\n",
    "\n",
    "Laughing, talking, focused.\n",
    "\n",
    "Choose a Specific Scenario: Sitting on the grass on a sunny day seems like a classic, positive, and visually appealing campus scene. It allows for group interaction and showcases the campus environment. Let's go with a small group relaxing and maybe chatting or looking at something together (like a laptop or phone).\n",
    "\n",
    "Flesh out the Details for the Image Generation:\n",
    "\n",
    "Number of students: A small group, maybe 3-5, feels natural for a casual gathering.\n",
    "\n",
    "Diversity: Aim for a mix of genders and ethnicities to represent a typical modern campus.\n",
    "\n",
    "Appearance: Casual college attire – jeans, t-shirts, hoodies, sneakers. Backpacks nearby. Maybe one has a laptop or notebook out.\n",
    "\n",
    "Setting Details: Green grass (a quad or lawn). Some recognizable campus architecture in the background – perhaps brick buildings, trees, pathways. Maybe hints of other students further away to add life.\n",
    "\n",
    "Lighting/Atmosphere: Bright, sunny day. Warm, relaxed, friendly atmosphere. Natural lighting.\n",
    "\n",
    "Composition: Medium shot, showing the students and some of the surrounding campus. Eye-level perspective.\n",
    "\n",
    "Formulate the Prompt for the AI Image Generator: Based on the above details, construct a prompt. It needs to be descriptive.\n",
    "\n",
    "Initial thought: \"College students on campus lawn.\" (Too simple)\n",
    "\n",
    "Adding detail: \"Photo of a diverse group of 4 college students (2 male, 2 female) sitting casually on a sunny green lawn on their university campus.\"\n",
    "\n",
    "Adding action/mood: \"Photo of a diverse group of 4 college students (early 20s) laughing and talking together, sitting casually on a sunny green quad lawn on their university campus.\"\n",
    "\n",
    "Adding background/atmosphere: \"Photorealistic image of a diverse group of 4 college students (early 20s, mixed gender/ethnicity) sitting together casually on a bright, sunny green lawn (quad) on a university campus. They are dressed in casual clothes (jeans, t-shirts, hoodies) and have backpacks nearby. One might be looking at a laptop. In the background, classic brick university buildings and trees are visible under a clear blue sky. Warm, relaxed, friendly atmosphere. Natural lighting.\" (This is getting good and detailed).\n",
    "\n",
    "Refining for style: \"Photorealistic style, natural lighting, medium shot.\"\n",
    "\n",
    "Generate the Image: Use the refined prompt with the AI image generator.\n",
    "\n",
    "Review the Output: Look at the generated image. Does it match the request and the intended details?\n",
    "\n",
    "Are they college-aged? Yes.\n",
    "\n",
    "Is it a campus setting? Yes, lawn, buildings.\n",
    "\n",
    "Is the group diverse? Yes.\n",
    "\n",
    "Is the mood right? Yes, looks relaxed/interactive.\n",
    "\n",
    "Is the quality good? Yes, photorealistic.\n",
    "\n",
    "Write the Description: Describe the generated image for the user, highlighting the key elements and confirming it meets their request.\n",
    "\n",
    "Start by stating what the image shows.\n",
    "\n",
    "Describe the subjects (students, their appearance, actions).\n",
    "\n",
    "Describe the setting (lawn, buildings, weather).\n",
    "\n",
    "Mention the overall mood/atmosphere.\n",
    "\n",
    "Offer to generate variations if needed.\n",
    "\n",
    "Final Check: Read the request, the generated image, and the description together. Does it all align? Yes.\n",
    "```"
   ]
  },
  {
   "cell_type": "markdown",
   "id": "0cf861e0-f5a6-4944-be2f-7094e03ac103",
   "metadata": {},
   "source": [
    "Well. Let's see if it can edit current photos. I'll use the college campus one that it generated, and I'll add a few things here and there."
   ]
  },
  {
   "cell_type": "markdown",
   "id": "ed60b4e0-d821-4f5c-86df-05f012ecf415",
   "metadata": {},
   "source": [
    "### Attempting to Generate Words in A Photo"
   ]
  },
  {
   "cell_type": "markdown",
   "id": "c2462300-9724-4211-99fb-58d613eef7cf",
   "metadata": {},
   "source": [
    "Let's see if Gemini is able to create readable words in an image. </br>\n",
    "```\n",
    "Create an image of someone taking a picture of a person writing on a white board. On the white board, the title is \"transfer between modalities\" on the top left. Under this text, have this sentence \"Suppose we directly model. Under this text, have a pros and cons. To the right, have a paragraph that says \"Fixes: * model compressed representations *compose autoregressive prior with a powerful decoder.\n",
    "```\n",
    "Here's the output: </br>\n",
    "```\n",
    "{\n",
    "  \"prompt\": \"Photorealistic image capturing a scene from slightly behind a person holding a smartphone horizontally, taking a picture. The main focus is another person (e.g., a researcher or student) standing in front of a large, brightly lit whiteboard in a modern office or classroom setting. The person at the whiteboard is holding a black marker, perhaps pointing towards the text. The whiteboard clearly displays the following handwritten text:\\n\\nTop left corner: Title 'Transfer Between Modalities'\\nDirectly below the title: Sentence 'Suppose we directly model.'\\nBelow that sentence, a section structured for 'Pros:' and 'Cons:' (perhaps with a few placeholder bullet points or lines under each label).\\nPositioned to the right of the 'Pros and Cons' section: A paragraph titled 'Fixes:' followed by two distinct bullet points (using asterisks):\\n'* model compressed representations'\\n'* compose autoregressive prior with a powerful decoder'\\n\\nThe lighting is bright and naturalistic, typical of an indoor office environment. The focus should be sharp on the whiteboard content and the person writing/presenting. The photographer's hands and phone are partially visible in the foreground framing the shot. Minimal background clutter.\",\n",
    "  \"negative_prompt\": \"blurry text, illegible writing, misspelled words, incorrect text layout, distorted hands, multiple people writing, chalkboard, dark room, messy handwriting, cartoon, illustration, drawing, sketch, cluttered background, empty whiteboard\",\n",
    "  \"style_raw\": \"photorealistic\",\n",
    "  \"aspect_ratio\": \"16:9\"\n",
    "}\n",
    "```"
   ]
  },
  {
   "cell_type": "markdown",
   "id": "d32955b2-6b1f-4dc9-9a57-f7a70fbd1a87",
   "metadata": {},
   "source": [
    "<img src=\"7.png\" width=\"100%\"/>"
   ]
  },
  {
   "cell_type": "markdown",
   "id": "c81841c7-7e86-4d40-a223-e5b14a62ab80",
   "metadata": {},
   "source": [
    "Well, this looks nothing like the example that was given above. It was able to create some words, but there's still some slight mistakes with the words in the photo. The photo also doesn't look realistic, which is also a big con."
   ]
  },
  {
   "cell_type": "markdown",
   "id": "d74a068d-7249-4018-a534-9540113f034c",
   "metadata": {},
   "source": [
    "### Modifying Images"
   ]
  },
  {
   "cell_type": "markdown",
   "id": "49256fa3-78e1-44d7-8db0-5b838ec4c6ef",
   "metadata": {},
   "source": [
    "Another tool Gemini can be used for is creating edits of images. A friend of mine a few days ago posted \"Studio Ghibli\" versions of his photos. Here's an example of what Studio Ghibli art is like: </br>"
   ]
  },
  {
   "cell_type": "markdown",
   "id": "bf6bc8f0-b11e-4ca7-bcc8-1771ed937808",
   "metadata": {},
   "source": [
    "::: {style=\"display: grid;grid-template-columns: repeat(auto-fill, minmax(150px, 1fr));grid-gap: 1em;\"}\n",
    "\n",
    "![A Lovely Image](8.png){group=\"my-gallery\"}\n",
    "\n",
    "![Another Lovely Image](9.png){group=\"my-gallery\"}\n",
    "\n",
    "![The Last Lovely Image](10.png){group=\"my-gallery\"}\n",
    "\n",
    ":::"
   ]
  },
  {
   "cell_type": "markdown",
   "id": "8babf612-87aa-4962-a6eb-c4f4e83b528f",
   "metadata": {},
   "source": [
    "I wonder if this will be possible using Gemini. Let's try it out."
   ]
  },
  {
   "cell_type": "markdown",
   "id": "6a412c14-b108-449a-a2a1-0cb040874647",
   "metadata": {},
   "source": [
    "```\n",
    "{\n",
    "  \"prompt\": \"A group of five diverse college students (mixed gender and ethnicity, resembling the original photo's subjects) sitting together casually on a lush green lawn on a university campus quad, rendered in the iconic Studio Ghibli anime style. They are dressed in simple, casual clothes (jeans, t-shirts, sweaters). Backpacks, a slightly stylized laptop, and books rest beside them on the grass. They have expressive, kind faces with characteristic Ghibli eyes, smiling and engaged in relaxed conversation. In the background, charming, slightly weathered brick university buildings with large windows and hints of ivy are depicted with soft, painterly detail. The scene is bathed in warm, gentle sunlight under a vibrant blue sky with fluffy, hand-painted Ghibli clouds. The overall atmosphere is peaceful, nostalgic, and heartwarming. Hand-drawn aesthetic, vibrant but soft color palette, medium shot.\",\n",
    "  \"negative_prompt\": \"photorealistic, 3D render, CGI, photo, photograph, realistic proportions, overly detailed textures, modern anime style, harsh lines, dark, gloomy, watermark, text, signature, blurry, unfocused\",\n",
    "  \"style_raw\": \"Studio Ghibli anime style\",\n",
    "  \"aspect_ratio\": \"16:9\"\n",
    "}\n",
    "```"
   ]
  },
  {
   "cell_type": "markdown",
   "id": "98acc00c-8ec5-4ac8-a052-c57a05beb478",
   "metadata": {},
   "source": [
    "| Original | Edited Version |\n",
    "|----------|----------------|\n",
    "|<img src=\"6.png\" width=\"50%\"/>|<img src=\"11.png\" width=\"50%\"/>|"
   ]
  },
  {
   "cell_type": "markdown",
   "id": "47037893-c557-409b-ab7a-dc9df64c69ac",
   "metadata": {},
   "source": [
    "This was **successful**! </br>\n",
    "Gemini was able to edit photos correctly. </br>"
   ]
  },
  {
   "cell_type": "markdown",
   "id": "fe573ce4-1e25-459d-a072-6029825f5263",
   "metadata": {},
   "source": [
    "# Conclusion"
   ]
  },
  {
   "cell_type": "markdown",
   "id": "46bda0ea-5f60-46dd-b20d-5d73ace2f70e",
   "metadata": {},
   "source": [
    "Although Gemini 2.0 Flash Experimental didn't create the most realistic photos, nor did it do the best with text in an image, it did a create job of editing the style of the photo when I asked it to create a \"Studio Ghibli\" version. </br>\n",
    "Perhaps there was something wrong with my versions, because it only provided the prompt for the images and I had to enter it into ChatGPT 4o to create the images. </br>\n",
    "I really liked the **thoughts** section of Gemini, it breaks down how it interpretted my prompting and was able to explain most of how it created these images. </br>\n",
    "All in all, I would use Gemini to modify the style of pictures in the future. I wouldn't use it for text, but it's great for a more creative use. "
   ]
  }
 ],
 "metadata": {
  "citation-manager": {
   "items": {}
  },
  "kernelspec": {
   "display_name": "Python 3-12 (COMM4190)",
   "language": "python",
   "name": "python3-12_comm4190"
  },
  "language_info": {
   "codemirror_mode": {
    "name": "ipython",
    "version": 3
   },
   "file_extension": ".py",
   "mimetype": "text/x-python",
   "name": "python",
   "nbconvert_exporter": "python",
   "pygments_lexer": "ipython3",
   "version": "3.12.8"
  }
 },
 "nbformat": 4,
 "nbformat_minor": 5
}
