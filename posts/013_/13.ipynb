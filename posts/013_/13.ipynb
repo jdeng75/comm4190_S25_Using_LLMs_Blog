{
 "cells": [
  {
   "cell_type": "raw",
   "id": "25a87727-e293-46e2-afa6-dfb2a9acdaeb",
   "metadata": {},
   "source": [
    "---\n",
    "title: \"Playing Around With Gemini 2.0\"\n",
    "description: \"wowowow this is exciting\"\n",
    "author: \"Jenn Deng\"\n",
    "date: \"3/25/2025\"\n",
    "categories:\n",
    "  - LLMs\n",
    "  - prompting\n",
    "  - logic\n",
    "---"
   ]
  },
  {
   "cell_type": "markdown",
   "id": "8adfa50b-f823-4e4a-97ff-f8d4e8ddae80",
   "metadata": {},
   "source": [
    "# Gemini 2.0 Flash Experimental !!!"
   ]
  },
  {
   "cell_type": "markdown",
   "id": "526fb44e-ce73-48cc-840b-f3a72ac64f65",
   "metadata": {},
   "source": [
    "The class recently got an announcement about Google's latest multi-modal text to image model, **Gemini 2.0 Flash Experimental.** </br>\n",
    "The model can edit images on the gly without generating them entirely new, which is crazy. </br>\n",
    "Around the same time, I also stumbled upon a **Tik Tok video by @hes_a_nerd.** "
   ]
  },
  {
   "cell_type": "markdown",
   "id": "7cf13f9a-b15a-453e-9b3b-a2e27c063b7b",
   "metadata": {},
   "source": [
    "<img src=\"1.png\" width=\"100%\"/>"
   ]
  },
  {
   "cell_type": "markdown",
   "id": "3a41f2c5-7c2f-40e9-a724-2d7573c8264f",
   "metadata": {},
   "source": [
    "At first, he explains how this photo looks like a normal photo taken with a group of people... but it's actually **ChatGPT 4.0s** latest ability with photos. It can now generate photos with direct prompting and it's way *better than DALLE.* </br>\n",
    "You might wonder, how did someone create this image. Here's what they typed in."
   ]
  },
  {
   "cell_type": "markdown",
   "id": "6c4ec0e8-1d72-4827-94d5-04740172e1cb",
   "metadata": {},
   "source": [
    "```\n",
    "prompt: Create an image that looks like it was taken from an iPhone 6, a group of college aged kids, 3 or 4 smiling while outside. It is dusk, and they are on a city campus. It should be noisy and look authentic not cinematic, this photo was lazily taken in the November cold.\n",
    "```"
   ]
  },
  {
   "cell_type": "markdown",
   "id": "d47ffd1b-e435-4a8d-8d91-605332695a1a",
   "metadata": {},
   "source": [
    "There's nothing that stands out about it that looks like it's from AI. It can generate text the most flawlessly, and it can create text on the boards. There's even a reflection and the details are insane. You can edit with one sentence. That's crazy. Take a look."
   ]
  },
  {
   "cell_type": "markdown",
   "id": "1927832d-f968-4f9a-a795-f35e38905e86",
   "metadata": {},
   "source": [
    "<img src=\"2.png\" width=\"100%\"/>"
   ]
  },
  {
   "cell_type": "markdown",
   "id": "a3382833-57e5-4eb4-b982-39061d105e27",
   "metadata": {},
   "source": [
    "You can tell that in the prompt, they create specific text to have in the imaging. This is a next level, new update. **It's scary.**"
   ]
  },
  {
   "cell_type": "markdown",
   "id": "f680e516-4b5c-4e17-bf9d-e5de4c480e67",
   "metadata": {},
   "source": [
    "For this blog post, I want to experiment with Gemini 2.0 Flash Experimental. Let's see if I can replicate these images above and prompt it to create realistic photos."
   ]
  },
  {
   "cell_type": "markdown",
   "id": "4d48abca-ca7f-4aca-8f79-8b3fb1cd64cb",
   "metadata": {},
   "source": [
    "### Let's Create the College Group Photo"
   ]
  },
  {
   "cell_type": "markdown",
   "id": "34db75d9-50a3-41a3-bee4-bf76064a8f5e",
   "metadata": {},
   "source": [
    "<img src=\"3.png\" width=\"100%\"/>"
   ]
  },
  {
   "cell_type": "markdown",
   "id": "05fe72be-f4bf-47e7-a43a-bc33f4ce6202",
   "metadata": {},
   "source": [
    "Woah, I've never used this before. I like how they have examples of what you can ask it to do. But I'm going to stick to entering the prompt for the photo. Let's see if it generates something similar to ChatGPT's model."
   ]
  },
  {
   "cell_type": "markdown",
   "id": "b06eeb73-a2a8-4d49-a277-276c4d24c4c6",
   "metadata": {},
   "source": [
    "<img src=\"4.png\" width=\"100%\"/>"
   ]
  },
  {
   "cell_type": "markdown",
   "id": "9368ead6-801a-4750-8e2c-c062970252e2",
   "metadata": {},
   "source": [
    "Erm.... why is this not working."
   ]
  },
  {
   "cell_type": "markdown",
   "id": "7e573ac9-593c-4dbb-a404-9dedeef4e57c",
   "metadata": {},
   "source": [
    "<img src=\"5.png\" width=\"100%\"/>"
   ]
  },
  {
   "cell_type": "markdown",
   "id": "5eb90f20-0a25-4b01-aa3c-d6ac9ef972b2",
   "metadata": {},
   "source": [
    "Ok, maybe the prompt was too complicated. I'll just... simplify it and ask: </br>\n",
    "\n",
    "```\n",
    "prompt: Can you create a photo of college kids on their campus.\n",
    "```\n",
    "The output is this: </br>\n",
    "```\n",
    "{\n",
    "  \"prompt\": \"A photorealistic image of a diverse group of four college students (early 20s, mixed gender and ethnicity) sitting together casually on a sunny green lawn (quad) on a university campus. They are dressed in casual clothes like jeans, t-shirts, and hoodies, with backpacks resting beside them on the grass. One student is smiling while looking at a laptop open on their lap, while the others are engaged in relaxed conversation, looking at each other or the laptop screen. In the background, classic brick university buildings with large windows and mature trees are visible under a clear blue sky with soft sunlight. The atmosphere is bright, relaxed, and friendly. Medium shot, natural lighting.\",\n",
    "  \"negative_prompt\": \"blurry, unfocused, poorly lit, distorted faces, unnatural poses, empty campus, children, high school students, business attire, overly staged\",\n",
    "  \"style_raw\": \"photorealistic\",\n",
    "  \"aspect_ratio\": \"16:9\"\n",
    "}\n",
    "```"
   ]
  },
  {
   "cell_type": "markdown",
   "id": "7616e506-4dad-4770-8a79-3d8fd00e6939",
   "metadata": {},
   "source": [
    "What I did with this output was I inputted into ChatGPT 4o. This is what it gave me."
   ]
  },
  {
   "cell_type": "markdown",
   "id": "fdbb1893-2fe9-4d17-85c0-d1cad21e067c",
   "metadata": {},
   "source": [
    "<img src=\"6.png\" width=\"100%\"/>"
   ]
  },
  {
   "cell_type": "markdown",
   "id": "5af5517a-6b96-40e5-8df0-88b91f29b5d4",
   "metadata": {},
   "source": [
    "This isn't as realistic as the original. I wonder why."
   ]
  },
  {
   "cell_type": "markdown",
   "id": "7a7cf73e-8f2a-4be0-87ef-b49b0c15e84c",
   "metadata": {},
   "source": [
    "There's a toggle where I can click Gemini's **Thoughts**, so here's what it explains. It explains the thinking process that could lead to the image and description that I provided: </br>"
   ]
  },
  {
   "cell_type": "markdown",
   "id": "eb1263bc-22df-44b1-8619-fa26fad67b53",
   "metadata": {},
   "source": [
    "```\n",
    "Understand the Request: The user wants a photo of \"college kids on their campus.\" This is a fairly broad request, so I need to make some assumptions or choose a common, relatable scenario.\n",
    "\n",
    "Identify Key Elements:\n",
    "\n",
    "Subject: College students (\"kids\" implies younger, undergraduate age, probably diverse).\n",
    "\n",
    "Setting: A college campus. This needs typical campus elements.\n",
    "\n",
    "Action/Mood: What are they doing? How do they feel? Needs to look natural and characteristic of college life.\n",
    "\n",
    "Brainstorm Campus Scenarios:\n",
    "\n",
    "Walking between classes.\n",
    "\n",
    "Sitting on a quad/lawn, studying or relaxing.\n",
    "\n",
    "Gathered near a prominent building (library, student union, academic hall).\n",
    "\n",
    "Interacting in a group.\n",
    "\n",
    "Carrying backpacks, books, laptops.\n",
    "\n",
    "Laughing, talking, focused.\n",
    "\n",
    "Choose a Specific Scenario: Sitting on the grass on a sunny day seems like a classic, positive, and visually appealing campus scene. It allows for group interaction and showcases the campus environment. Let's go with a small group relaxing and maybe chatting or looking at something together (like a laptop or phone).\n",
    "\n",
    "Flesh out the Details for the Image Generation:\n",
    "\n",
    "Number of students: A small group, maybe 3-5, feels natural for a casual gathering.\n",
    "\n",
    "Diversity: Aim for a mix of genders and ethnicities to represent a typical modern campus.\n",
    "\n",
    "Appearance: Casual college attire – jeans, t-shirts, hoodies, sneakers. Backpacks nearby. Maybe one has a laptop or notebook out.\n",
    "\n",
    "Setting Details: Green grass (a quad or lawn). Some recognizable campus architecture in the background – perhaps brick buildings, trees, pathways. Maybe hints of other students further away to add life.\n",
    "\n",
    "Lighting/Atmosphere: Bright, sunny day. Warm, relaxed, friendly atmosphere. Natural lighting.\n",
    "\n",
    "Composition: Medium shot, showing the students and some of the surrounding campus. Eye-level perspective.\n",
    "\n",
    "Formulate the Prompt for the AI Image Generator: Based on the above details, construct a prompt. It needs to be descriptive.\n",
    "\n",
    "Initial thought: \"College students on campus lawn.\" (Too simple)\n",
    "\n",
    "Adding detail: \"Photo of a diverse group of 4 college students (2 male, 2 female) sitting casually on a sunny green lawn on their university campus.\"\n",
    "\n",
    "Adding action/mood: \"Photo of a diverse group of 4 college students (early 20s) laughing and talking together, sitting casually on a sunny green quad lawn on their university campus.\"\n",
    "\n",
    "Adding background/atmosphere: \"Photorealistic image of a diverse group of 4 college students (early 20s, mixed gender/ethnicity) sitting together casually on a bright, sunny green lawn (quad) on a university campus. They are dressed in casual clothes (jeans, t-shirts, hoodies) and have backpacks nearby. One might be looking at a laptop. In the background, classic brick university buildings and trees are visible under a clear blue sky. Warm, relaxed, friendly atmosphere. Natural lighting.\" (This is getting good and detailed).\n",
    "\n",
    "Refining for style: \"Photorealistic style, natural lighting, medium shot.\"\n",
    "\n",
    "Generate the Image: Use the refined prompt with the AI image generator.\n",
    "\n",
    "Review the Output: Look at the generated image. Does it match the request and the intended details?\n",
    "\n",
    "Are they college-aged? Yes.\n",
    "\n",
    "Is it a campus setting? Yes, lawn, buildings.\n",
    "\n",
    "Is the group diverse? Yes.\n",
    "\n",
    "Is the mood right? Yes, looks relaxed/interactive.\n",
    "\n",
    "Is the quality good? Yes, photorealistic.\n",
    "\n",
    "Write the Description: Describe the generated image for the user, highlighting the key elements and confirming it meets their request.\n",
    "\n",
    "Start by stating what the image shows.\n",
    "\n",
    "Describe the subjects (students, their appearance, actions).\n",
    "\n",
    "Describe the setting (lawn, buildings, weather).\n",
    "\n",
    "Mention the overall mood/atmosphere.\n",
    "\n",
    "Offer to generate variations if needed.\n",
    "\n",
    "Final Check: Read the request, the generated image, and the description together. Does it all align? Yes.\n",
    "```"
   ]
  },
  {
   "cell_type": "code",
   "execution_count": null,
   "id": "d24ed599-b186-4cd9-8b2e-ad6050b45aaa",
   "metadata": {},
   "outputs": [],
   "source": []
  }
 ],
 "metadata": {
  "citation-manager": {
   "items": {}
  },
  "kernelspec": {
   "display_name": "Python 3-12 (COMM4190)",
   "language": "python",
   "name": "python3-12_comm4190"
  },
  "language_info": {
   "codemirror_mode": {
    "name": "ipython",
    "version": 3
   },
   "file_extension": ".py",
   "mimetype": "text/x-python",
   "name": "python",
   "nbconvert_exporter": "python",
   "pygments_lexer": "ipython3",
   "version": "3.12.8"
  }
 },
 "nbformat": 4,
 "nbformat_minor": 5
}
