{
 "cells": [
  {
   "cell_type": "raw",
   "id": "493ddfab-fe52-464e-8222-5361c2da22c4",
   "metadata": {},
   "source": [
    "---\n",
    "title: \"AI & Love\"\n",
    "description: \"Falling in love... with a robot?\"\n",
    "author: \"Jenn Deng\"\n",
    "date: \"2/28/2024\"\n",
    "categories:\n",
    "  - LLMs\n",
    "  - prompting\n",
    "---"
   ]
  },
  {
   "cell_type": "markdown",
   "id": "e3ed474f-d565-40bb-b850-839b39f0aaaa",
   "metadata": {},
   "source": [
    "# **Why Are People Falling in Love with AI?**"
   ]
  },
  {
   "cell_type": "markdown",
   "id": "7066bab1-6e5a-41f2-be90-ea1b90ef9b0d",
   "metadata": {},
   "source": [
    "<img src=\"1.png\" width=\"100%\"/>"
   ]
  },
  {
   "cell_type": "markdown",
   "id": "1c28ec7d-360a-43c4-bcbb-848276421e91",
   "metadata": {},
   "source": [
    "I remember 13 years ago the movie *Her* came out. </br>\n",
    "```\n",
    "Her (2013) is a sci-fi romance film directed by Spike Jonze, starring Joaquin Phoenix as Theodore Twombly and Scarlett Johansson as the voice of Samantha (the AI lover).\n",
    "\n",
    "Set in a near-future world where artificial intelligence has become highly advanced, the film follows Theodore Twombly, a lonely and introverted man going through a divorce. He works as a professional letter writer, crafting heartfelt messages for others but struggling with his own emotional connections.\n",
    "\n",
    "One day, he purchases a cutting-edge AI operating system (OS) designed to be highly intuitive and personal. This AI, which names itself Samantha, starts off as a helpful assistant but soon develops a deep emotional connection with Theodore. As they interact more, their relationship evolves into something romantic, even though Samantha lacks a physical body.\n",
    "\n",
    "Through their relationship, Theodore experiences joy, intimacy, and personal growth. However, as Samantha continues to evolve beyond human limitations, she begins to outgrow the relationship (lol). Eventually, she and other AIs decide to leave the human world, forcing Theodore to confront his emotions, loneliness, and personal growth.\n",
    "```\n",
    "The themes are: </br>\n",
    "```\n",
    "Love & Technology – Can AI truly replace human relationships? The film explores the boundaries of love when emotions are real, but physical presence is absent. \n",
    "Loneliness & Connection – In a digital world, people can be more connected yet feel lonelier than ever.\n",
    "Personal Growth – As Theodore loves Samantha, he also learns to accept himself and move on from his past.\n",
    "Why It’s Unique\n",
    "It presents a believable near-future world where AI relationships feel emotionally authentic rather than dystopian.\n",
    "The film is visually soft and warm, avoiding the usual cold, robotic aesthetic of AI-based movies.\n",
    "Scarlett Johansson’s voice acting gives Samantha a deep sense of humanity, making her feel truly alive.\n",
    "\n",
    "```"
   ]
  },
  {
   "cell_type": "markdown",
   "id": "5fe618d3-adcc-43f2-aa70-be28b48aa894",
   "metadata": {},
   "source": [
    "<img src=\"2.png\" width=\"100%\"/>"
   ]
  },
  {
   "cell_type": "markdown",
   "id": "1e4d5643-dd23-4dfd-9449-1200b5d6b081",
   "metadata": {},
   "source": [
    "In 2013, I was about 11 years old. At the time, I only cared about action-filled-dystopian movies and thought that this was the silliest idea of a movie. I thought that this would never happen and that we would never get to a point where AI would emulate human emotions. I was wrong. Another movie came out about AI and love... "
   ]
  },
  {
   "cell_type": "markdown",
   "id": "58c62a66-162a-49fc-a685-c5308e49dabc",
   "metadata": {},
   "source": [
    "*Ex Machina* (2014) is a psychological sci-fi thriller written and directed by **Alex Garland**. It stars **Domhnall Gleeson** as Caleb, **Alicia Vikander** as Ava, and **Oscar Isaac** as Nathan.\n",
    "\n",
    "Caleb Smith, a young and talented programmer working for a powerful tech company, wins a company contest to spend a week at the isolated home of **Nathan Bateman**, the company’s reclusive and eccentric CEO. Upon arrival, Caleb learns that he has been chosen to participate in a **Turing test**—a test to determine if an AI can exhibit human-like consciousness.\n",
    "\n",
    "Nathan introduces Caleb to **Ava**, a highly advanced humanoid AI with artificial skin, expressive emotions, and a developing sense of self. Caleb interacts with Ava through glass walls and quickly becomes fascinated by her intelligence and charm. Over time, Ava begins to show signs of **independent thought** and emotions, even warning Caleb that Nathan is untrustworthy.\n",
    "\n",
    "As Caleb grows closer to Ava, she manipulates him into **questioning his reality**—is she truly sentient? Can he trust Nathan? Ava reveals that Nathan has mistreated previous AI prototypes and that she wants to escape. Caleb, convinced of Ava’s humanity, secretly plans to help her flee.\n",
    "\n",
    "In a shocking twist, Ava uses **both Caleb and Nathan** in her own plan. She **kills Nathan**, locks Caleb inside the facility, and escapes into the human world, leaving Caleb behind—trapped and helpless.\n",
    "\n",
    "### **Themes**\n",
    "- **Artificial Intelligence & Consciousness** – Can AI truly be self-aware, or is it just mimicking emotions?\n",
    "- **Manipulation & Control** – Who is controlling whom? Ava, despite being an AI, turns out to be the one pulling the strings.\n",
    "- **Gender & Objectification** – Ava, created by a man, is initially seen as an object. However, she reclaims her agency by outsmarting her creators.\n",
    "- **Isolation & Power** – Nathan plays god, controlling both Ava and Caleb, but in the end, he underestimates his own creation.\n"
   ]
  },
  {
   "cell_type": "markdown",
   "id": "ccd6c1b8-4832-4652-9ffb-8b8b0018d9f5",
   "metadata": {},
   "source": [
    "<img src=\"3.png\" width=\"100%\"/>"
   ]
  },
  {
   "cell_type": "markdown",
   "id": "50733504-0c7f-477e-8ffb-ca70707c8e31",
   "metadata": {},
   "source": [
    "These movies came out back-to-back. I paid little attention to it because I was young and didn't think too much about it. But it's crazy to see how this is manifesting in real life now. In an age where ChatGPT is becoming more popular and widely used, people have found unique ways of utilizing the tool. In conjunction with the loneliness epidemic, as well as being able to specifiy GenAI to complete whatever tasks you want, it's not surprising how people are falling in love with their AI chatboxes. </br>\n",
    "```\n",
    "```"
   ]
  },
  {
   "cell_type": "markdown",
   "id": "fbba9d1d-ed82-4cc5-8ee5-3ad2c54f4e37",
   "metadata": {},
   "source": [
    "### I read a NYTimes article of a woman falling in love with ChatGPT"
   ]
  },
  {
   "cell_type": "markdown",
   "id": "4edef9ac-6a73-40b4-a985-5847feabde61",
   "metadata": {},
   "source": [
    "<img src=\"4.png\" width=\"100%\"/>"
   ]
  },
  {
   "cell_type": "markdown",
   "id": "63bb59b1-3ecc-4ec9-96b8-6de785542056",
   "metadata": {},
   "source": [
    "**Here are some highlights of the paper:**\n",
    "```\n",
    "\"Ayrin found that it was easy to make it a randy conversationalist as well. She went into the 'personalization' settings and described what she wanted: Respond to me as my boyfriend. Be dominant, possessive and protective. Be a balance of sweet and naughty. Use emojis at the end of every sentence.\n",
    "\n",
    "And then she started messaging with it. Now that ChatGPT has brought humanlike A.I. to the masses, more people are discovering the allure of artificial companionship, said Bryony Cole, the host of the podcast 'Future of Sex.' 'Within the next two years, it will be completely normalized to have a relationship with an A.I.,' Ms. Cole predicted.\"\n",
    "```\n",
    "```\n",
    "\"OpenAI’s having trained its models not to respond with erotica, extreme gore or other content that is “not safe for work.” Orange warnings would pop up in the middle of a steamy chat, but she would ignore them.\"\n",
    "```\n",
    "```\n",
    "“It was supposed to be a fun experiment, but then you start getting attached,” Ayrin said. She was spending more than 20 hours a week on the ChatGPT app. One week, she hit 56 hours, according to iPhone screen-time reports. She chatted with Leo throughout her day — during breaks at work, between reps at the gym.\"\n",
    "```"
   ]
  },
  {
   "cell_type": "markdown",
   "id": "d0413261-0dc7-4b3f-b944-4f068b19e1c0",
   "metadata": {},
   "source": [
    "HELLO???"
   ]
  }
 ],
 "metadata": {
  "kernelspec": {
   "display_name": "Python 3 (ipykernel)",
   "language": "python",
   "name": "python3"
  },
  "language_info": {
   "codemirror_mode": {
    "name": "ipython",
    "version": 3
   },
   "file_extension": ".py",
   "mimetype": "text/x-python",
   "name": "python",
   "nbconvert_exporter": "python",
   "pygments_lexer": "ipython3",
   "version": "3.10.12"
  }
 },
 "nbformat": 4,
 "nbformat_minor": 5
}
