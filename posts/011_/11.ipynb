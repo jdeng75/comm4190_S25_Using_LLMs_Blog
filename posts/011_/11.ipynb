{
 "cells": [
  {
   "cell_type": "raw",
   "id": "fa8080ae-43f0-4d80-af55-0ab7397e82ff",
   "metadata": {},
   "source": [
    "---\n",
    "title: \"Spotify DJ Sucks\"\n",
    "description: \"I need new music.\"\n",
    "author: \"Jenn Deng\"\n",
    "date: \"3/11/2025\"\n",
    "categories:\n",
    "  - LLMs\n",
    "  - prompting\n",
    "---"
   ]
  },
  {
   "cell_type": "markdown",
   "id": "a57dd707-a93d-460b-8b72-606a4735ecda",
   "metadata": {},
   "source": [
    "# Analysis of Jenn's Music "
   ]
  },
  {
   "cell_type": "markdown",
   "id": "fd519f66-898d-4a1e-a2e1-383faaff1e43",
   "metadata": {},
   "source": [
    "<img src=\"1.png\" width=\"100%\"/>"
   ]
  },
  {
   "cell_type": "markdown",
   "id": "e6d4152b-8a63-46de-b762-4ea6a91d62cd",
   "metadata": {},
   "source": [
    "---"
   ]
  },
  {
   "cell_type": "markdown",
   "id": "a49ac731-4024-486a-93af-04b9d7f39b8e",
   "metadata": {},
   "source": [
    "**I've been having a really hard time with exploring new music.** </br>\n",
    "</br>\n",
    "I don't know if it's because I don't have time to scroll through new playlists, or if I just LOVE listening to the same songs over and over again. I think it's a combination of both. </br>\n",
    "</br>"
   ]
  },
  {
   "cell_type": "markdown",
   "id": "42a874be-7f31-4ed6-aeec-bdbbc3e30530",
   "metadata": {},
   "source": [
    "Spotify's AI DJ is supposed to help with this. It's a personalized music experience that curates playlists and provides commentary. It's available to Spotify Premium users in the US and Canada, and now in over 50 different regions. </br>\n",
    "</br>"
   ]
  },
  {
   "cell_type": "markdown",
   "id": "0f500725-7edc-4d17-bf13-5b546c7e68c9",
   "metadata": {},
   "source": [
    "<img src=\"DJ.png\" width=\"100%\"/>"
   ]
  },
  {
   "cell_type": "markdown",
   "id": "e845ef2b-2001-4e8b-a0b8-4693c9e959cf",
   "metadata": {},
   "source": [
    "</br>\n",
    "\n",
    "**Ugh**, I don't know about you but my Spotify DJ **SUCKS**. It keeps playing the same songs over and over again. I really don't blame it- I do listen to the same 5 songs on repeat. But sometimes it plays really generic songs... and **I'M SICK AND TIRED!** </br>\n",
    "</br>"
   ]
  },
  {
   "cell_type": "markdown",
   "id": "cb92b57a-8f4f-4197-967a-b86999d44615",
   "metadata": {},
   "source": [
    "I remember I took **CIS110** in the past, and for one of our homeworks we had to do a **music analysis** assignment. From what I can remember, the professor provided us with a CSV file of music. There was a lot of different analytics we could explore: duration of song, artist who wrote it, tempo, genre, etc etc. </br>\n",
    "</br>"
   ]
  },
  {
   "cell_type": "markdown",
   "id": "c6a8997b-6156-423c-8e12-5969b01f842f",
   "metadata": {},
   "source": [
    "I can't really remember what I did or what I analyzed... but I'm wondering if I could download a few CSV files of my different playlists to see what AI can analyze based off my data. </br>\n",
    "</br>"
   ]
  },
  {
   "cell_type": "markdown",
   "id": "4c02ef83-9689-4670-b90c-f65ad74b7c96",
   "metadata": {},
   "source": [
    "My ultimate goal is to see if it does better than Spotify AI DJ when it comes to helping me explore new music, while understanding what type of music I'd like to listen to based on my playlists. </br>\n",
    "</br>"
   ]
  },
  {
   "cell_type": "markdown",
   "id": "8f78628b-3f08-4119-836c-53fa2ac8dcfb",
   "metadata": {},
   "source": [
    "I'm going to used Claude 3.7 this time around. Just to switch it up from using GPT."
   ]
  },
  {
   "cell_type": "markdown",
   "id": "8aa3d7ef-dad4-4140-85b3-b489aa0c7ebe",
   "metadata": {},
   "source": [
    "---"
   ]
  }
 ],
 "metadata": {
  "citation-manager": {
   "items": {}
  },
  "kernelspec": {
   "display_name": "Python 3-12 (COMM4190)",
   "language": "python",
   "name": "python3-12_comm4190"
  },
  "language_info": {
   "codemirror_mode": {
    "name": "ipython",
    "version": 3
   },
   "file_extension": ".py",
   "mimetype": "text/x-python",
   "name": "python",
   "nbconvert_exporter": "python",
   "pygments_lexer": "ipython3",
   "version": "3.12.8"
  }
 },
 "nbformat": 4,
 "nbformat_minor": 5
}
