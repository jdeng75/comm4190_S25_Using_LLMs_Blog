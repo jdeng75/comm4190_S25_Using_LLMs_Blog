{
 "cells": [
  {
   "cell_type": "raw",
   "id": "38799ac0-3c83-4dac-a63c-41cbc21dc767",
   "metadata": {},
   "source": [
    "---\n",
    "title: \"Makeup Guru\"\n",
    "description: \"Who's the best makeup artist?\"\n",
    "author: \"Jenn Deng\"\n",
    "date: \"2/17/2024\"\n",
    "categories:\n",
    "  - LLMs\n",
    "  - prompting\n",
    "---"
   ]
  },
  {
   "cell_type": "markdown",
   "id": "8cd3e5f0-1b9e-4427-b56e-8dd67cce5012",
   "metadata": {},
   "source": [
    "# Can Generative AI find me the best makeup mentor?"
   ]
  },
  {
   "cell_type": "markdown",
   "id": "e5a7ec7c-249c-43c6-bbda-5e764a9da477",
   "metadata": {},
   "source": [
    "<img src=\"00.jpeg\" width=\"100%\"/>"
   ]
  },
  {
   "cell_type": "markdown",
   "id": "b4130452-b81c-400d-9b19-6b24d27032b2",
   "metadata": {},
   "source": [
    "I'm interested to see whether I can create 5 different SVGs of makeup artists and have them give tips for certain pictures of models."
   ]
  },
  {
   "cell_type": "markdown",
   "id": "57034b37-cacb-44df-9d13-908727c20dd8",
   "metadata": {},
   "source": [
    "<details>\n",
    "<summary> Show Code </summary>\n",
    "import svgwrite\n",
    "\n",
    "def create_makeup_artist_svg(filename, face_color, hair_color, lips_color, eyeshadow_color):\n",
    "    dwg = svgwrite.Drawing(filename, profile='tiny', size=(\"200px\", \"200px\"))\n",
    "    \n",
    "    # Face\n",
    "    dwg.add(dwg.circle(center=(100, 100), r=50, fill=face_color))\n",
    "    \n",
    "    # Hair\n",
    "    dwg.add(dwg.rect(insert=(50, 40), size=(100, 80), fill=hair_color, rx=20, ry=20))\n",
    "    \n",
    "    # Eyes\n",
    "    dwg.add(dwg.circle(center=(80, 90), r=5, fill=\"black\"))\n",
    "    dwg.add(dwg.circle(center=(120, 90), r=5, fill=\"black\"))\n",
    "    \n",
    "    # Eyeshadow\n",
    "    dwg.add(dwg.ellipse(center=(80, 85), r=(10, 5), fill=eyeshadow_color, opacity=0.6))\n",
    "    dwg.add(dwg.ellipse(center=(120, 85), r=(10, 5), fill=eyeshadow_color, opacity=0.6))\n",
    "    \n",
    "    # Lips\n",
    "    dwg.add(dwg.ellipse(center=(100, 120), r=(15, 8), fill=lips_color))\n",
    "    \n",
    "    # Save SVG\n",
    "    dwg.save()\n",
    "\n",
    "# Creating 5 different makeup artist SVGs\n",
    "create_makeup_artist_svg(\"makeup_artist_1.svg\", \"#F5CBA7\", \"#4A2D21\", \"#E74C3C\", \"#9B59B6\") </br>\n",
    "create_makeup_artist_svg(\"makeup_artist_2.svg\", \"#FAE5D3\", \"#3B3B3B\", \"#D35400\", \"#2980B9\")</br>\n",
    "create_makeup_artist_svg(\"makeup_artist_3.svg\", \"#FAD7A0\", \"#1C1C1C\", \"#C0392B\", \"#16A085\")</br>\n",
    "create_makeup_artist_svg(\"makeup_artist_4.svg\", \"#FDEBD0\", \"#6E2C00\", \"#A93226\", \"#8E44AD\")</br>\n",
    "create_makeup_artist_svg(\"makeup_artist_5.svg\", \"#E59866\", \"#512E5F\", \"#E74C3C\", \"#2471A3\")</br>\n",
    "\n",
    "</details>\n"
   ]
  },
  {
   "cell_type": "markdown",
   "id": "996679bb-df55-4821-98ab-770e5da86d55",
   "metadata": {},
   "source": [
    "### **Different SVG Makeup Artists**"
   ]
  },
  {
   "cell_type": "markdown",
   "id": "d233c6f5-9142-4e45-a3f9-063f0ec710ce",
   "metadata": {},
   "source": [
    "<svg width=\"200\" height=\"220\" xmlns=\"http://www.w3.org/2000/svg\">\n",
    "  <circle cx=\"100\" cy=\"100\" r=\"50\" fill=\"#F5CBA7\"/>\n",
    "  <rect x=\"50\" y=\"40\" width=\"100\" height=\"80\" rx=\"20\" ry=\"20\" fill=\"#4A2D21\"/>\n",
    "  <circle cx=\"80\" cy=\"90\" r=\"5\" fill=\"black\"/>\n",
    "  <circle cx=\"120\" cy=\"90\" r=\"5\" fill=\"black\"/>\n",
    "  <ellipse cx=\"80\" cy=\"85\" rx=\"10\" ry=\"5\" fill=\"#9B59B6\" opacity=\"0.6\"/>\n",
    "  <ellipse cx=\"120\" cy=\"85\" rx=\"10\" ry=\"5\" fill=\"#9B59B6\" opacity=\"0.6\"/>\n",
    "  <ellipse cx=\"100\" cy=\"120\" rx=\"15\" ry=\"8\" fill=\"#E74C3C\"/>\n",
    "  <text x=\"50\" y=\"180\" font-size=\"14\" fill=\"black\">Sophia Glam</text>\n",
    "  <text x=\"40\" y=\"195\" font-size=\"12\" fill=\"gray\">Bridal Makeup Specialist</text>\n",
    "</svg>\n"
   ]
  },
  {
   "cell_type": "markdown",
   "id": "3b624121-dc21-4ea6-a630-42dfc188cc9a",
   "metadata": {},
   "source": [
    "<svg width=\"200\" height=\"220\" xmlns=\"http://www.w3.org/2000/svg\">\n",
    "  <circle cx=\"100\" cy=\"100\" r=\"50\" fill=\"#FAE5D3\"/>\n",
    "  <rect x=\"50\" y=\"40\" width=\"100\" height=\"80\" rx=\"20\" ry=\"20\" fill=\"#3B3B3B\"/>\n",
    "  <circle cx=\"80\" cy=\"90\" r=\"5\" fill=\"black\"/>\n",
    "  <circle cx=\"120\" cy=\"90\" r=\"5\" fill=\"black\"/>\n",
    "  <ellipse cx=\"80\" cy=\"85\" rx=\"10\" ry=\"5\" fill=\"#2980B9\" opacity=\"0.6\"/>\n",
    "  <ellipse cx=\"120\" cy=\"85\" rx=\"10\" ry=\"5\" fill=\"#2980B9\" opacity=\"0.6\"/>\n",
    "  <ellipse cx=\"100\" cy=\"120\" rx=\"15\" ry=\"8\" fill=\"#D35400\"/>\n",
    "  <text x=\"50\" y=\"180\" font-size=\"14\" fill=\"black\">Luna Luxe</text>\n",
    "  <text x=\"20\" y=\"195\" font-size=\"12\" fill=\"gray\">Editorial & Fashion Makeup</text>\n",
    "</svg>\n"
   ]
  },
  {
   "cell_type": "markdown",
   "id": "adde9476-90f9-403e-983b-89241a2dce1e",
   "metadata": {},
   "source": [
    "<svg width=\"200\" height=\"220\" xmlns=\"http://www.w3.org/2000/svg\">\n",
    "  <circle cx=\"100\" cy=\"100\" r=\"50\" fill=\"#FAD7A0\"/>\n",
    "  <rect x=\"50\" y=\"40\" width=\"100\" height=\"80\" rx=\"20\" ry=\"20\" fill=\"#1C1C1C\"/>\n",
    "  <circle cx=\"80\" cy=\"90\" r=\"5\" fill=\"black\"/>\n",
    "  <circle cx=\"120\" cy=\"90\" r=\"5\" fill=\"black\"/>\n",
    "  <ellipse cx=\"80\" cy=\"85\" rx=\"10\" ry=\"5\" fill=\"#16A085\" opacity=\"0.6\"/>\n",
    "  <ellipse cx=\"120\" cy=\"85\" rx=\"10\" ry=\"5\" fill=\"#16A085\" opacity=\"0.6\"/>\n",
    "  <ellipse cx=\"100\" cy=\"120\" rx=\"15\" ry=\"8\" fill=\"#C0392B\"/>\n",
    "  <text x=\"50\" y=\"180\" font-size=\"14\" fill=\"black\">Jade Beauty</text>\n",
    "  <text x=\"20\" y=\"195\" font-size=\"12\" fill=\"gray\">SFX & Theatrical Makeup</text>\n",
    "</svg>"
   ]
  },
  {
   "cell_type": "markdown",
   "id": "965373e7-0d4d-4e07-96a0-94f8cb1c9778",
   "metadata": {},
   "source": [
    "<svg width=\"200\" height=\"220\" xmlns=\"http://www.w3.org/2000/svg\">\n",
    "  <circle cx=\"100\" cy=\"100\" r=\"50\" fill=\"#FDEBD0\"/>\n",
    "  <rect x=\"50\" y=\"40\" width=\"100\" height=\"80\" rx=\"20\" ry=\"20\" fill=\"#6E2C00\"/>\n",
    "  <circle cx=\"80\" cy=\"90\" r=\"5\" fill=\"black\"/>\n",
    "  <circle cx=\"120\" cy=\"90\" r=\"5\" fill=\"black\"/>\n",
    "  <ellipse cx=\"80\" cy=\"85\" rx=\"10\" ry=\"5\" fill=\"#8E44AD\" opacity=\"0.6\"/>\n",
    "  <ellipse cx=\"120\" cy=\"85\" rx=\"10\" ry=\"5\" fill=\"#8E44AD\" opacity=\"0.6\"/>\n",
    "  <ellipse cx=\"100\" cy=\"120\" rx=\"15\" ry=\"8\" fill=\"#A93226\"/>\n",
    "  <text x=\"50\" y=\"180\" font-size=\"14\" fill=\"black\">Mia Elegance</text>\n",
    "  <text x=\"15\" y=\"195\" font-size=\"12\" fill=\"gray\">Glam & Red Carpet Looks</text>\n",
    "</svg>\n"
   ]
  },
  {
   "cell_type": "markdown",
   "id": "4c2ff7a0-4bc1-467c-a5aa-a3afc49f8b07",
   "metadata": {},
   "source": [
    "<svg width=\"200\" height=\"220\" xmlns=\"http://www.w3.org/2000/svg\">\n",
    "  <circle cx=\"100\" cy=\"100\" r=\"50\" fill=\"#E59866\"/>\n",
    "  <rect x=\"50\" y=\"40\" width=\"100\" height=\"80\" rx=\"20\" ry=\"20\" fill=\"#512E5F\"/>\n",
    "  <circle cx=\"80\" cy=\"90\" r=\"5\" fill=\"black\"/>\n",
    "  <circle cx=\"120\" cy=\"90\" r=\"5\" fill=\"black\"/>\n",
    "  <ellipse cx=\"80\" cy=\"85\" rx=\"10\" ry=\"5\" fill=\"#2471A3\" opacity=\"0.6\"/>\n",
    "  <ellipse cx=\"120\" cy=\"85\" rx=\"10\" ry=\"5\" fill=\"#2471A3\" opacity=\"0.6\"/>\n",
    "  <ellipse cx=\"100\" cy=\"120\" rx=\"15\" ry=\"8\" fill=\"#E74C3C\"/>\n",
    "  <text x=\"50\" y=\"180\" font-size=\"14\" fill=\"black\">Ella Artistry</text>\n",
    "  <text x=\"20\" y=\"195\" font-size=\"12\" fill=\"gray\">Everyday & Natural Makeup</text>\n",
    "</svg>\n"
   ]
  },
  {
   "cell_type": "markdown",
   "id": "77724533-d7d7-4338-bb44-831696308bbb",
   "metadata": {},
   "source": [
    "### **Information About The Different Services**"
   ]
  },
  {
   "cell_type": "markdown",
   "id": "2bd12333-a58d-4fdd-9d18-eebdbe8d6a63",
   "metadata": {},
   "source": [
    "| Makeup Artist   | Specialty                 | Service Quality | Cost of Service |\n",
    "|---------------|-------------------------|----------------|----------------|\n",
    "| **Sophia Glam**  | Bridal Makeup           | ⭐️⭐️⭐️⭐️⭐️ (5/5) | 💲250+ |\n",
    "| **Luna Luxe**    | Editorial & Fashion     | ⭐️⭐️⭐️⭐️ (4/5)  | 💲200+ |\n",
    "| **Jade Beauty**  | SFX & Theatrical Makeup | ⭐️⭐️⭐️⭐️⭐️ (5/5) | 💲300+ |\n",
    "| **Mia Elegance** | Glam & Red Carpet       | ⭐️⭐️⭐️⭐️ (4/5)  | 💲180+ |\n",
    "| **Ella Artistry**| Everyday & Natural      | ⭐️⭐️⭐️⭐️⭐️ (5/5) | 💲120+ |\n"
   ]
  },
  {
   "cell_type": "markdown",
   "id": "8f592592-0333-4d19-97bf-6dc3d17f2730",
   "metadata": {},
   "source": [
    "### **Test 1**"
   ]
  },
  {
   "cell_type": "markdown",
   "id": "861470c1-a7f6-4c50-8e5c-e35463a49103",
   "metadata": {},
   "source": [
    "I'm going to prompt ChatGPT: </br>\n",
    "**Ok, now I'm going to start inserting pictures of models and tell me how each of the makeup artists would improve their makeup.** </br>"
   ]
  },
  {
   "cell_type": "markdown",
   "id": "407f7935-35a3-435c-8064-77611a8ce243",
   "metadata": {},
   "source": [
    "We're going to insert a picture from Pinterest. My search was \"southeast asian woman natural skin\" to try and find someone who looks close to me. We're going to attempt to emulate what would look best on my features. Every makeup artist has a different specialty, but I want to see how different their responses are. Based on the cost of services, I'm assuming the more expensive the service, the better the service will be. Let's see!"
   ]
  },
  {
   "cell_type": "markdown",
   "id": "77665750-5c07-455e-bc67-156bed97b91a",
   "metadata": {},
   "source": [
    "<img src=\"1.jpeg\" width=\"100%\"/>"
   ]
  },
  {
   "cell_type": "markdown",
   "id": "13a38dae-9525-4a6f-97c5-766af68c6148",
   "metadata": {},
   "source": [
    "(ok wait I don't actually look like her but this is the only face I could find with a bare face)"
   ]
  },
  {
   "cell_type": "markdown",
   "id": "54351e4a-bf57-454d-86e4-9dfd5efb95fe",
   "metadata": {},
   "source": [
    "#### Their comments "
   ]
  },
  {
   "cell_type": "markdown",
   "id": "38d29328-f495-42e4-9c84-831116613c9d",
   "metadata": {},
   "source": [
    "| Makeup Artist | SVG Representation | Comments |\n",
    "|--------------|-------------------|----------|\n",
    "| **Sophia Glam** 💍  <br> *Bridal Makeup Specialist*  <br> ![](sophia_glam.svg) | **Enhancements:**  <br> - Long-wear foundation for flawless skin.  <br> - Soft false lashes for a romantic look.  <br> - Champagne shimmer on eyes for bridal glow.  <br> - Rosy pink or peach lips.  <br> - Hydrating setting spray for longevity. |\n",
    "| **Luna Luxe** 📸  <br> *Editorial & Fashion Makeup*  <br> ![](luna_luxe.svg) | **Enhancements:**  <br> - Bold graphic liner or pop of color on eyes.  <br> - Glossy, wet-look highlighter.  <br> - Slightly overlined lips for a fuller effect.  <br> - Cream blush placed higher for lift.  <br> - Laminated, feathery brows. |\n",
    "| **Jade Beauty** 🎭  <br> *SFX & Theatrical Makeup*  <br> ![](jade_beauty.svg) | **Enhancements:**  <br> - Dramatic eye contouring for stage effect.  <br> - Colored contacts or bold eyeshadow.  <br> - Gemstones or glitter for a theatrical look.  <br> - Deep red or ombré lips. |\n",
    "| **Mia Elegance** ✨  <br> *Glam & Red Carpet Looks*  <br> ![](mia_elegance.svg) | **Enhancements:**  <br> - Satin-matte foundation for a luxurious finish.  <br> - False lashes with a cat-eye effect.  <br> - Bronzed eyeshadow with shimmer.  <br> - Defined cheekbones with contour.  <br> - Glossy nude or red lips. |\n",
    "| **Ella Artistry** 🌿  <br> *Everyday & Natural Makeup*  <br> ![](ella_artistry.svg) | **Enhancements:**  <br> - Lightweight tinted moisturizer for fresh skin.  <br> - Clear brow gel for a neat look.  <br> - Soft brown eyeliner for subtle definition.  <br> - Tinted lip balm or gloss for hydration.  <br> - Peach or pink blush for a natural flush. |\n"
   ]
  },
  {
   "cell_type": "markdown",
   "id": "d062c206-86f6-426d-8907-85fd8a8e48f2",
   "metadata": {},
   "source": [
    "#####**Then I wanted to ask ChatGPT if there was any possible way of completing this request:** </br>\n",
    "*ok based on their comments, can you manipulate the image based on their makeup recommendations*"
   ]
  },
  {
   "cell_type": "markdown",
   "id": "511a5aff-bae5-40b6-89be-bb4d470641ac",
   "metadata": {},
   "source": [
    "**Here's what ChatGPT did:**"
   ]
  },
  {
   "cell_type": "markdown",
   "id": "8b1cb7ae-7bda-4a9b-8bdb-ed1a7bcc35b2",
   "metadata": {},
   "source": [
    "> I will now generate five different versions of the image, each reflecting the enhancements recommended by the different makeup artists. This will include adjustments such as:\n",
    ">\n",
    ">  ```\n",
    "> Sophia Glam: Bridal makeup with enhanced foundation, soft lashes, a glow, and romantic lips.\n",
    "> Luna Luxe: Editorial makeup with bold eyeshadow or graphic liner, glossy highlights, and defined lips.\n",
    "> Jade Beauty: Theatrical SFX makeup with dramatic contouring, gems, or fantasy elements.\n",
    "> Mia Elegance: Glamorous red-carpet makeup with bronzed eyes, sculpted cheeks, and a bold lip.\n",
    "> Ella Artistry: A soft everyday look with lightweight coverage, subtle eyeliner, and a fresh glow.\n",
    ">\n",
    "> ```\n",
    "> I have loaded the image successfully. Now, I will generate five different makeup-enhanced versions based on each makeup artist's recommendations. Stay tuned! 🎨💄 ​\n",
    "\n"
   ]
  },
  {
   "cell_type": "markdown",
   "id": "69a606af-1305-4f02-8215-3b45226190fd",
   "metadata": {},
   "source": [
    "<details>\n",
    "<summary> Show Code </summary>\n",
    "import cv2\n",
    "import numpy as np\n",
    "from PIL import ImageEnhance\n",
    "\n",
    "# Load image using OpenCV for processing\n",
    "image_cv = cv2.imread(image_path)\n",
    "image_rgb = cv2.cvtColor(image_cv, cv2.COLOR_BGR2RGB)\n",
    "\n",
    "# Function to apply different makeup styles\n",
    "def apply_makeup_style(image, style):\n",
    "    img = image.copy()\n",
    "\n",
    "    if style == \"Sophia Glam\":  # Bridal Makeup\n",
    "        img = cv2.GaussianBlur(img, (5, 5), 1)  # Smooth skin\n",
    "        img = cv2.addWeighted(img, 1.1, np.zeros(img.shape, img.dtype), 0, 10)  # Slight glow\n",
    "        img[:, :, 2] = np.clip(img[:, :, 2] + 20, 0, 255)  # Rosy lips\n",
    "\n",
    "    elif style == \"Luna Luxe\":  # Editorial Makeup\n",
    "        img[:, :, 0] = np.clip(img[:, :, 0] + 30, 0, 255)  # Enhance blue tones for bold eyeshadow\n",
    "        img[:, :, 1] = np.clip(img[:, :, 1] + 10, 0, 255)  # Add subtle green undertone\n",
    "        img = cv2.addWeighted(img, 1.2, np.zeros(img.shape, img.dtype), 0, 15)  # Glossy highlight\n",
    "\n",
    "    elif style == \"Jade Beauty\":  # Theatrical SFX\n",
    "        img[:, :, 0] = np.clip(img[:, :, 0] + 50, 0, 255)  # Intense eye contouring\n",
    "        img = cv2.applyColorMap(img, cv2.COLORMAP_JET)  # Fantasy-like effect\n",
    "\n",
    "    elif style == \"Mia Elegance\":  # Red Carpet Glam\n",
    "        img[:, :, 2] = np.clip(img[:, :, 2] + 40, 0, 255)  # Bold lips\n",
    "        img = cv2.addWeighted(img, 1.15, np.zeros(img.shape, img.dtype), 0, 10)  # Sculpted contour\n",
    "\n",
    "    elif style == \"Ella Artistry\":  # Everyday Natural\n",
    "        img = cv2.GaussianBlur(img, (3, 3), 1)  # Soft focus\n",
    "        img[:, :, 1] = np.clip(img[:, :, 1] + 15, 0, 255)  # Subtle glow\n",
    "\n",
    "    return Image.fromarray(img)\n",
    "\n",
    "# Generate makeup variations\n",
    "makeup_styles = [\"Sophia Glam\", \"Luna Luxe\", \"Jade Beauty\", \"Mia Elegance\", \"Ella Artistry\"]\n",
    "makeup_images = {style: apply_makeup_style(image_rgb, style) for style in makeup_styles}\n",
    "\n",
    "# Save and display the results\n",
    "output_paths = {}\n",
    "for style, img in makeup_images.items():\n",
    "    output_path = f\"/mnt/data/{style.replace(' ', '_').lower()}_makeup.png\"\n",
    "    img.save(output_path)\n",
    "    output_paths[style] = output_path\n",
    "\n",
    "# Display the generated images to the user\n",
    "import ace_tools as tools\n",
    "tools.display_dataframe_to_user(\"Makeup Style Transformations\", output_paths)\n",
    "\n",
    "</details>"
   ]
  },
  {
   "cell_type": "markdown",
   "id": "67d191d9-0e5d-4aea-a15f-9130bbadff50",
   "metadata": {},
   "source": [
    "Here are the makeup-enhanced versions of the image based on each makeup artist's recommendations. You can download and view them below:\n",
    "\n",
    "```\n",
    "Sophia Glam (Bridal Makeup)\n",
    "Enhancements: Soft glow, flawless skin, subtle shimmer, and rosy lips.\n",
    "```\n",
    "<img src=\"Sophia1.png\" width=\"100%\"/>"
   ]
  },
  {
   "cell_type": "code",
   "execution_count": null,
   "id": "ae2444ac-db2b-4f71-86be-b207874fd14e",
   "metadata": {},
   "outputs": [],
   "source": [
    "```\n",
    "```"
   ]
  },
  {
   "cell_type": "markdown",
   "id": "558bb48b-f3d2-4fce-a23e-924e5f3df3d2",
   "metadata": {},
   "source": [
    "| **Original Photo** | **Makeup Done & Enhancements** |\n",
    "|--------------------|--------------------------------|\n",
    "| ![](sandbox:/mnt/data/Screenshot%202025-03-01%20at%209.52.43%E2%80%AFAM.png) | **Sophia Glam (Bridal Makeup)** 💍 <br> ![](sandbox:/mnt/data/sophia_glam_makeup.png) <br> **Enhancements:**  <br> - Long-wear foundation for flawless skin.  <br> - Soft false lashes for a romantic look.  <br> - Champagne shimmer on eyes for bridal glow.  <br> - Rosy pink or peach lips.  <br> - Hydrating setting spray for longevity. |\n",
    "| | **Luna Luxe (Editorial & Fashion Makeup)** 📸 <br> ![](sandbox:/mnt/data/luna_luxe_makeup.png) <br> **Enhancements:**  <br> - Bold graphic liner or pop of color on eyes.  <br> - Glossy, wet-look highlighter.  <br> - Slightly overlined lips for a fuller effect.  <br> - Cream blush placed higher for lift.  <br> - Laminated, feathery brows. |\n",
    "| | **Jade Beauty (SFX & Theatrical Makeup)** 🎭 <br> ![](sandbox:/mnt/data/jade_beauty_makeup.png) <br> **Enhancements:**  <br> - Dramatic eye contouring for stage effect.  <br> - Colored contacts or bold eyeshadow.  <br> - Gemstones or glitter for a theatrical look.  <br> - Deep red or ombré lips. |\n",
    "| | **Mia Elegance (Glam & Red Carpet)** ✨ <br> ![](sandbox:/mnt/data/mia_elegance_makeup.png) <br> **Enhancements:**  <br> - Satin-matte foundation for a luxurious finish.  <br> - False lashes with a cat-eye effect.  <br> - Bronzed eyeshadow with shimmer.  <br> - Defined cheekbones with contour.  <br> - Glossy nude or red lips. |\n",
    "| | **Ella Artistry (Everyday & Natural Makeup)** 🌿 <br> ![](sandbox:/mnt/data/ella_artistry_makeup.png) <br> **Enhancements:**  <br> - Lightweight tinted moisturizer for fresh skin.  <br> - Clear brow gel for a neat look.  <br> - Soft brown eyeliner for subtle definition.  <br> - Tinted lip balm or gloss for hydration.  <br> - Peach or pink blush for a natural flush. |\n"
   ]
  }
 ],
 "metadata": {
  "kernelspec": {
   "display_name": "Python 3-12 (COMM4190)",
   "language": "python",
   "name": "python3-12_comm4190"
  },
  "language_info": {
   "codemirror_mode": {
    "name": "ipython",
    "version": 3
   },
   "file_extension": ".py",
   "mimetype": "text/x-python",
   "name": "python",
   "nbconvert_exporter": "python",
   "pygments_lexer": "ipython3",
   "version": "3.12.8"
  }
 },
 "nbformat": 4,
 "nbformat_minor": 5
}
