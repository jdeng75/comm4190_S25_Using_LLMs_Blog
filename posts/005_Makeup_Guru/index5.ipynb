{
 "cells": [
  {
   "cell_type": "raw",
   "id": "38799ac0-3c83-4dac-a63c-41cbc21dc767",
   "metadata": {},
   "source": [
    "---\n",
    "title: \"Makeup Guru\"\n",
    "description: \"Who's the best makeup artist?\"\n",
    "author: \"Jenn Deng\"\n",
    "date: \"2/17/2024\"\n",
    "categories:\n",
    "  - LLMs\n",
    "  - prompting\n",
    "---"
   ]
  },
  {
   "cell_type": "markdown",
   "id": "8cd3e5f0-1b9e-4427-b56e-8dd67cce5012",
   "metadata": {},
   "source": [
    "# Can Generative AI find me the best makeup mentor?"
   ]
  },
  {
   "cell_type": "markdown",
   "id": "b4130452-b81c-400d-9b19-6b24d27032b2",
   "metadata": {},
   "source": [
    "<svg width=\"800\" height=\"400\" viewBox=\"0 0 800 400\" xmlns=\"http://www.w3.org/2000/svg\">\n",
    "  <!-- Modern Makeup Artist -->\n",
    "  <circle cx=\"80\" cy=\"100\" r=\"40\" fill=\"#FFCC99\" stroke=\"#000\" stroke-width=\"2\"/>\n",
    "  <rect x=\"60\" y=\"140\" width=\"40\" height=\"60\" fill=\"#FFC0CB\"/>\n",
    "  <line x1=\"80\" y1=\"160\" x2=\"110\" y2=\"150\" stroke=\"#000\" stroke-width=\"3\"/>\n",
    "  <circle cx=\"115\" cy=\"150\" r=\"5\" fill=\"#000\"/>\n",
    "  \n",
    "  <!-- Vintage Glam Makeup Artist -->\n",
    "  <circle cx=\"240\" cy=\"100\" r=\"40\" fill=\"#FFB6C1\" stroke=\"#000\" stroke-width=\"2\"/>\n",
    "  <rect x=\"220\" y=\"140\" width=\"40\" height=\"60\" fill=\"#D87093\"/>\n",
    "  <path d=\"M 230 110 Q 240 90, 250 110\" stroke=\"#000\" stroke-width=\"2\" fill=\"none\"/>\n",
    "  <circle cx=\"230\" cy=\"100\" r=\"5\" fill=\"#000\"/>\n",
    "  <circle cx=\"250\" cy=\"100\" r=\"5\" fill=\"#000\"/>\n",
    "  \n",
    "  <!-- Avant-Garde Makeup Artist -->\n",
    "  <circle cx=\"400\" cy=\"100\" r=\"40\" fill=\"#FFD700\" stroke=\"#000\" stroke-width=\"2\"/>\n",
    "  <rect x=\"380\" y=\"140\" width=\"40\" height=\"60\" fill=\"#FF4500\"/>\n",
    "  <polygon points=\"390,90 410,90 400,120\" fill=\"#000\"/>\n",
    "  <circle cx=\"390\" cy=\"100\" r=\"5\" fill=\"#000\"/>\n",
    "  <circle cx=\"410\" cy=\"100\" r=\"5\" fill=\"#000\"/>\n",
    "  \n",
    "  <!-- Minimalist Beauty Makeup Artist -->\n",
    "  <circle cx=\"560\" cy=\"100\" r=\"40\" fill=\"#F0E68C\" stroke=\"#000\" stroke-width=\"2\"/>\n",
    "  <rect x=\"540\" y=\"140\" width=\"40\" height=\"60\" fill=\"#98FB98\"/>\n",
    "  <line x1=\"550\" y1=\"110\" x2=\"570\" y2=\"110\" stroke=\"#000\" stroke-width=\"2\"/>\n",
    "  <circle cx=\"550\" cy=\"100\" r=\"5\" fill=\"#000\"/>\n",
    "  <circle cx=\"570\" cy=\"100\" r=\"5\" fill=\"#000\"/>\n",
    "  \n",
    "  <!-- Futuristic Makeup Artist -->\n",
    "  <circle cx=\"720\" cy=\"100\" r=\"40\" fill=\"#ADD8E6\" stroke=\"#000\" stroke-width=\"2\"/>\n",
    "  <rect x=\"700\" y=\"140\" width=\"40\" height=\"60\" fill=\"#4682B4\"/>\n",
    "  <ellipse cx=\"720\" cy=\"100\" rx=\"10\" ry=\"15\" fill=\"#000\"/>\n",
    "  <line x1=\"700\" y1=\"120\" x2=\"740\" y2=\"120\" stroke=\"#000\" stroke-width=\"3\"/>\n",
    "</svg>\n"
   ]
  }
 ],
 "metadata": {
  "kernelspec": {
   "display_name": "Python 3-12 (COMM4190)",
   "language": "python",
   "name": "python3-12_comm4190"
  },
  "language_info": {
   "codemirror_mode": {
    "name": "ipython",
    "version": 3
   },
   "file_extension": ".py",
   "mimetype": "text/x-python",
   "name": "python",
   "nbconvert_exporter": "python",
   "pygments_lexer": "ipython3",
   "version": "3.12.8"
  }
 },
 "nbformat": 4,
 "nbformat_minor": 5
}
