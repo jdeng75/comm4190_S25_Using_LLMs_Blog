{
 "cells": [
  {
   "cell_type": "code",
   "execution_count": null,
   "id": "5e666621-9ea8-453d-8045-4a18a0bf764c",
   "metadata": {},
   "outputs": [],
   "source": [
    "---\n",
    "title: \"Makeup Guru\"\n",
    "description: \"Can ChatGPT enhance the way that makeup looks on someone's face\"\n",
    "author: \"Jenn Deng\"\n",
    "date: \"2/17/2024\"\n",
    "categories:\n",
    "  - LLMs\n",
    "  - prompting\n",
    "---"
   ]
  },
  {
   "cell_type": "markdown",
   "id": "8cd3e5f0-1b9e-4427-b56e-8dd67cce5012",
   "metadata": {},
   "source": [
    "# Can ChatGPT be the best makeup guru?"
   ]
  },
  {
   "cell_type": "code",
   "execution_count": null,
   "id": "bc66b004-98f6-4b2d-84d5-dbc6291a7137",
   "metadata": {},
   "outputs": [],
   "source": []
  },
  {
   "cell_type": "code",
   "execution_count": null,
   "id": "c48557cd-09d2-4712-8706-1a452caf26e1",
   "metadata": {},
   "outputs": [],
   "source": []
  }
 ],
 "metadata": {
  "kernelspec": {
   "display_name": "Python 3 (ipykernel)",
   "language": "python",
   "name": "python3"
  },
  "language_info": {
   "codemirror_mode": {
    "name": "ipython",
    "version": 3
   },
   "file_extension": ".py",
   "mimetype": "text/x-python",
   "name": "python",
   "nbconvert_exporter": "python",
   "pygments_lexer": "ipython3",
   "version": "3.10.12"
  }
 },
 "nbformat": 4,
 "nbformat_minor": 5
}
