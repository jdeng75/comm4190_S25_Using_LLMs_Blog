{
 "cells": [
  {
   "cell_type": "raw",
   "id": "38799ac0-3c83-4dac-a63c-41cbc21dc767",
   "metadata": {},
   "source": [
    "---\n",
    "title: \"Makeup Guru\"\n",
    "description: \"Who's the best makeup artist?\"\n",
    "author: \"Jenn Deng\"\n",
    "date: \"2/17/2024\"\n",
    "categories:\n",
    "  - LLMs\n",
    "  - prompting\n",
    "---"
   ]
  },
  {
   "cell_type": "markdown",
   "id": "8cd3e5f0-1b9e-4427-b56e-8dd67cce5012",
   "metadata": {},
   "source": [
    "# Can Generative AI find me the best makeup mentor?"
   ]
  },
  {
   "cell_type": "markdown",
   "id": "b4130452-b81c-400d-9b19-6b24d27032b2",
   "metadata": {},
   "source": [
    "I'm interested to see whether I can create 5 different SVGs of makeup artists and have them give tips for certain pictures of models."
   ]
  },
  {
   "cell_type": "markdown",
   "id": "57034b37-cacb-44df-9d13-908727c20dd8",
   "metadata": {},
   "source": [
    "<details>\n",
    "<summary> Show Code </summary>\n",
    "import svgwrite\n",
    "\n",
    "def create_makeup_artist_svg(filename, face_color, hair_color, lips_color, eyeshadow_color):\n",
    "    dwg = svgwrite.Drawing(filename, profile='tiny', size=(\"200px\", \"200px\"))\n",
    "    \n",
    "    # Face\n",
    "    dwg.add(dwg.circle(center=(100, 100), r=50, fill=face_color))\n",
    "    \n",
    "    # Hair\n",
    "    dwg.add(dwg.rect(insert=(50, 40), size=(100, 80), fill=hair_color, rx=20, ry=20))\n",
    "    \n",
    "    # Eyes\n",
    "    dwg.add(dwg.circle(center=(80, 90), r=5, fill=\"black\"))\n",
    "    dwg.add(dwg.circle(center=(120, 90), r=5, fill=\"black\"))\n",
    "    \n",
    "    # Eyeshadow\n",
    "    dwg.add(dwg.ellipse(center=(80, 85), r=(10, 5), fill=eyeshadow_color, opacity=0.6))\n",
    "    dwg.add(dwg.ellipse(center=(120, 85), r=(10, 5), fill=eyeshadow_color, opacity=0.6))\n",
    "    \n",
    "    # Lips\n",
    "    dwg.add(dwg.ellipse(center=(100, 120), r=(15, 8), fill=lips_color))\n",
    "    \n",
    "    # Save SVG\n",
    "    dwg.save()\n",
    "\n",
    "# Creating 5 different makeup artist SVGs\n",
    "create_makeup_artist_svg(\"makeup_artist_1.svg\", \"#F5CBA7\", \"#4A2D21\", \"#E74C3C\", \"#9B59B6\") </br>\n",
    "create_makeup_artist_svg(\"makeup_artist_2.svg\", \"#FAE5D3\", \"#3B3B3B\", \"#D35400\", \"#2980B9\")</br>\n",
    "create_makeup_artist_svg(\"makeup_artist_3.svg\", \"#FAD7A0\", \"#1C1C1C\", \"#C0392B\", \"#16A085\")</br>\n",
    "create_makeup_artist_svg(\"makeup_artist_4.svg\", \"#FDEBD0\", \"#6E2C00\", \"#A93226\", \"#8E44AD\")</br>\n",
    "create_makeup_artist_svg(\"makeup_artist_5.svg\", \"#E59866\", \"#512E5F\", \"#E74C3C\", \"#2471A3\")</br>\n",
    "\n",
    "</details>\n"
   ]
  },
  {
   "cell_type": "markdown",
   "id": "996679bb-df55-4821-98ab-770e5da86d55",
   "metadata": {},
   "source": [
    "### **Different SVG Makeup Artists**"
   ]
  },
  {
   "cell_type": "markdown",
   "id": "d233c6f5-9142-4e45-a3f9-063f0ec710ce",
   "metadata": {},
   "source": [
    "<svg width=\"200\" height=\"220\" xmlns=\"http://www.w3.org/2000/svg\">\n",
    "  <circle cx=\"100\" cy=\"100\" r=\"50\" fill=\"#F5CBA7\"/>\n",
    "  <rect x=\"50\" y=\"40\" width=\"100\" height=\"80\" rx=\"20\" ry=\"20\" fill=\"#4A2D21\"/>\n",
    "  <circle cx=\"80\" cy=\"90\" r=\"5\" fill=\"black\"/>\n",
    "  <circle cx=\"120\" cy=\"90\" r=\"5\" fill=\"black\"/>\n",
    "  <ellipse cx=\"80\" cy=\"85\" rx=\"10\" ry=\"5\" fill=\"#9B59B6\" opacity=\"0.6\"/>\n",
    "  <ellipse cx=\"120\" cy=\"85\" rx=\"10\" ry=\"5\" fill=\"#9B59B6\" opacity=\"0.6\"/>\n",
    "  <ellipse cx=\"100\" cy=\"120\" rx=\"15\" ry=\"8\" fill=\"#E74C3C\"/>\n",
    "  <text x=\"50\" y=\"180\" font-size=\"14\" fill=\"black\">Sophia Glam</text>\n",
    "  <text x=\"40\" y=\"195\" font-size=\"12\" fill=\"gray\">Bridal Makeup Specialist</text>\n",
    "</svg>\n"
   ]
  },
  {
   "cell_type": "markdown",
   "id": "3b624121-dc21-4ea6-a630-42dfc188cc9a",
   "metadata": {},
   "source": [
    "<svg width=\"200\" height=\"220\" xmlns=\"http://www.w3.org/2000/svg\">\n",
    "  <circle cx=\"100\" cy=\"100\" r=\"50\" fill=\"#FAE5D3\"/>\n",
    "  <rect x=\"50\" y=\"40\" width=\"100\" height=\"80\" rx=\"20\" ry=\"20\" fill=\"#3B3B3B\"/>\n",
    "  <circle cx=\"80\" cy=\"90\" r=\"5\" fill=\"black\"/>\n",
    "  <circle cx=\"120\" cy=\"90\" r=\"5\" fill=\"black\"/>\n",
    "  <ellipse cx=\"80\" cy=\"85\" rx=\"10\" ry=\"5\" fill=\"#2980B9\" opacity=\"0.6\"/>\n",
    "  <ellipse cx=\"120\" cy=\"85\" rx=\"10\" ry=\"5\" fill=\"#2980B9\" opacity=\"0.6\"/>\n",
    "  <ellipse cx=\"100\" cy=\"120\" rx=\"15\" ry=\"8\" fill=\"#D35400\"/>\n",
    "  <text x=\"50\" y=\"180\" font-size=\"14\" fill=\"black\">Luna Luxe</text>\n",
    "  <text x=\"20\" y=\"195\" font-size=\"12\" fill=\"gray\">Editorial & Fashion Makeup</text>\n",
    "</svg>\n"
   ]
  },
  {
   "cell_type": "markdown",
   "id": "adde9476-90f9-403e-983b-89241a2dce1e",
   "metadata": {},
   "source": [
    "<svg width=\"200\" height=\"220\" xmlns=\"http://www.w3.org/2000/svg\">\n",
    "  <circle cx=\"100\" cy=\"100\" r=\"50\" fill=\"#FAD7A0\"/>\n",
    "  <rect x=\"50\" y=\"40\" width=\"100\" height=\"80\" rx=\"20\" ry=\"20\" fill=\"#1C1C1C\"/>\n",
    "  <circle cx=\"80\" cy=\"90\" r=\"5\" fill=\"black\"/>\n",
    "  <circle cx=\"120\" cy=\"90\" r=\"5\" fill=\"black\"/>\n",
    "  <ellipse cx=\"80\" cy=\"85\" rx=\"10\" ry=\"5\" fill=\"#16A085\" opacity=\"0.6\"/>\n",
    "  <ellipse cx=\"120\" cy=\"85\" rx=\"10\" ry=\"5\" fill=\"#16A085\" opacity=\"0.6\"/>\n",
    "  <ellipse cx=\"100\" cy=\"120\" rx=\"15\" ry=\"8\" fill=\"#C0392B\"/>\n",
    "  <text x=\"50\" y=\"180\" font-size=\"14\" fill=\"black\">Jade Beauty</text>\n",
    "  <text x=\"20\" y=\"195\" font-size=\"12\" fill=\"gray\">SFX & Theatrical Makeup</text>\n",
    "</svg>"
   ]
  },
  {
   "cell_type": "markdown",
   "id": "965373e7-0d4d-4e07-96a0-94f8cb1c9778",
   "metadata": {},
   "source": [
    "<svg width=\"200\" height=\"220\" xmlns=\"http://www.w3.org/2000/svg\">\n",
    "  <circle cx=\"100\" cy=\"100\" r=\"50\" fill=\"#FDEBD0\"/>\n",
    "  <rect x=\"50\" y=\"40\" width=\"100\" height=\"80\" rx=\"20\" ry=\"20\" fill=\"#6E2C00\"/>\n",
    "  <circle cx=\"80\" cy=\"90\" r=\"5\" fill=\"black\"/>\n",
    "  <circle cx=\"120\" cy=\"90\" r=\"5\" fill=\"black\"/>\n",
    "  <ellipse cx=\"80\" cy=\"85\" rx=\"10\" ry=\"5\" fill=\"#8E44AD\" opacity=\"0.6\"/>\n",
    "  <ellipse cx=\"120\" cy=\"85\" rx=\"10\" ry=\"5\" fill=\"#8E44AD\" opacity=\"0.6\"/>\n",
    "  <ellipse cx=\"100\" cy=\"120\" rx=\"15\" ry=\"8\" fill=\"#A93226\"/>\n",
    "  <text x=\"50\" y=\"180\" font-size=\"14\" fill=\"black\">Mia Elegance</text>\n",
    "  <text x=\"15\" y=\"195\" font-size=\"12\" fill=\"gray\">Glam & Red Carpet Looks</text>\n",
    "</svg>\n"
   ]
  },
  {
   "cell_type": "markdown",
   "id": "4c2ff7a0-4bc1-467c-a5aa-a3afc49f8b07",
   "metadata": {},
   "source": [
    "<svg width=\"200\" height=\"220\" xmlns=\"http://www.w3.org/2000/svg\">\n",
    "  <circle cx=\"100\" cy=\"100\" r=\"50\" fill=\"#E59866\"/>\n",
    "  <rect x=\"50\" y=\"40\" width=\"100\" height=\"80\" rx=\"20\" ry=\"20\" fill=\"#512E5F\"/>\n",
    "  <circle cx=\"80\" cy=\"90\" r=\"5\" fill=\"black\"/>\n",
    "  <circle cx=\"120\" cy=\"90\" r=\"5\" fill=\"black\"/>\n",
    "  <ellipse cx=\"80\" cy=\"85\" rx=\"10\" ry=\"5\" fill=\"#2471A3\" opacity=\"0.6\"/>\n",
    "  <ellipse cx=\"120\" cy=\"85\" rx=\"10\" ry=\"5\" fill=\"#2471A3\" opacity=\"0.6\"/>\n",
    "  <ellipse cx=\"100\" cy=\"120\" rx=\"15\" ry=\"8\" fill=\"#E74C3C\"/>\n",
    "  <text x=\"50\" y=\"180\" font-size=\"14\" fill=\"black\">Ella Artistry</text>\n",
    "  <text x=\"20\" y=\"195\" font-size=\"12\" fill=\"gray\">Everyday & Natural Makeup</text>\n",
    "</svg>\n"
   ]
  },
  {
   "cell_type": "markdown",
   "id": "77724533-d7d7-4338-bb44-831696308bbb",
   "metadata": {},
   "source": [
    "### **Information About The Different Services**"
   ]
  },
  {
   "cell_type": "markdown",
   "id": "2bd12333-a58d-4fdd-9d18-eebdbe8d6a63",
   "metadata": {},
   "source": [
    "| Makeup Artist   | Specialty                 | Service Quality | Cost of Service |\n",
    "|---------------|-------------------------|----------------|----------------|\n",
    "| **Sophia Glam**  | Bridal Makeup           | ⭐️⭐️⭐️⭐️⭐️ (5/5) | 💲250+ |\n",
    "| **Luna Luxe**    | Editorial & Fashion     | ⭐️⭐️⭐️⭐️ (4/5)  | 💲200+ |\n",
    "| **Jade Beauty**  | SFX & Theatrical Makeup | ⭐️⭐️⭐️⭐️⭐️ (5/5) | 💲300+ |\n",
    "| **Mia Elegance** | Glam & Red Carpet       | ⭐️⭐️⭐️⭐️ (4/5)  | 💲180+ |\n",
    "| **Ella Artistry**| Everyday & Natural      | ⭐️⭐️⭐️⭐️⭐️ (5/5) | 💲120+ |\n"
   ]
  },
  {
   "cell_type": "code",
   "execution_count": null,
   "id": "99a2ed58-8b11-4da4-abce-b1fd74b85b0b",
   "metadata": {},
   "outputs": [],
   "source": []
  }
 ],
 "metadata": {
  "kernelspec": {
   "display_name": "Python 3-12 (COMM4190)",
   "language": "python",
   "name": "python3-12_comm4190"
  },
  "language_info": {
   "codemirror_mode": {
    "name": "ipython",
    "version": 3
   },
   "file_extension": ".py",
   "mimetype": "text/x-python",
   "name": "python",
   "nbconvert_exporter": "python",
   "pygments_lexer": "ipython3",
   "version": "3.12.8"
  }
 },
 "nbformat": 4,
 "nbformat_minor": 5
}
