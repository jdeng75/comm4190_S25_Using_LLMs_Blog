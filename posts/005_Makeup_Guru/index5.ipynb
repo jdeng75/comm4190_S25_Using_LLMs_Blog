{
 "cells": [
  {
   "cell_type": "raw",
   "id": "38799ac0-3c83-4dac-a63c-41cbc21dc767",
   "metadata": {},
   "source": [
    "---\n",
    "title: \"Makeup Guru\"\n",
    "description: \"Who's the best makeup artist?\"\n",
    "author: \"Jenn Deng\"\n",
    "date: \"2/17/2024\"\n",
    "categories:\n",
    "  - LLMs\n",
    "  - prompting\n",
    "---"
   ]
  },
  {
   "cell_type": "markdown",
   "id": "8cd3e5f0-1b9e-4427-b56e-8dd67cce5012",
   "metadata": {},
   "source": [
    "# Can Generative AI find me the best makeup mentor?"
   ]
  },
  {
   "cell_type": "markdown",
   "id": "b4130452-b81c-400d-9b19-6b24d27032b2",
   "metadata": {},
   "source": [
    "I'm interested to see whether I can create 5 different SVGs of makeup artists and have them give tips for certain pictures of models."
   ]
  },
  {
   "cell_type": "code",
   "execution_count": null,
   "id": "a1cf97b1-a7a1-45b0-8e6a-ebbf8ae224b3",
   "metadata": {},
   "outputs": [],
   "source": []
  }
 ],
 "metadata": {
  "kernelspec": {
   "display_name": "Python 3-12 (COMM4190)",
   "language": "python",
   "name": "python3-12_comm4190"
  },
  "language_info": {
   "codemirror_mode": {
    "name": "ipython",
    "version": 3
   },
   "file_extension": ".py",
   "mimetype": "text/x-python",
   "name": "python",
   "nbconvert_exporter": "python",
   "pygments_lexer": "ipython3",
   "version": "3.12.8"
  }
 },
 "nbformat": 4,
 "nbformat_minor": 5
}
