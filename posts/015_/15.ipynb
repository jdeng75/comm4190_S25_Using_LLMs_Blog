{
 "cells": [
  {
   "cell_type": "raw",
   "id": "1d61f648-71af-4259-8be4-8d83b0879e17",
   "metadata": {},
   "source": [
    "---\n",
    "title: \"ChatGPT Helped Me Find My Village Language\"\n",
    "description: \"Đầy dô mẻ?\"\n",
    "author: \"Jenn Deng\"\n",
    "date: \"04/21/2025\"\n",
    "categories:\n",
    "  - LLMs\n",
    "  - prompting\n",
    "  - logic\n",
    "---"
   ]
  },
  {
   "cell_type": "markdown",
   "id": "61a59a63-df7f-4791-b842-e6fa15175274",
   "metadata": {},
   "source": [
    "# ChatGPT Helped Me Find My Village Language"
   ]
  },
  {
   "cell_type": "markdown",
   "id": "c9674c75-5a8e-4d57-8ce9-05ec3f1a01e8",
   "metadata": {},
   "source": [
    "<img src=\"1.jpg\" width=90%/>"
   ]
  },
  {
   "cell_type": "markdown",
   "id": "e98b05b2-23b5-429a-883f-a9d4d7138379",
   "metadata": {},
   "source": [
    "----"
   ]
  },
  {
   "cell_type": "markdown",
   "id": "61e7ed4a-d939-4884-8cad-04401548703f",
   "metadata": {},
   "source": [
    "I grew up in a polyglot household. I grew up with my mom, dad, paternal aunt (姑妈 gū mā), and paternal grandparents (阿嫲 a maa and 阿爺 a ye). Everyone spoke at least 5 languages: **Mom** knew Mandarin, Cantonese, Vietnamese, Hakka, and English. **Dad** and his side spoke their **village language**, Mandarin, Cantonese, Vietnamese, English, Thai and Lao. </br>\n",
    "</br>\n",
    "So...it came to no surprise that I didn't know how to speak any language properly. Like. Seriously. I was put in ESL until second grade. My guma told me that I used to be able to sing in Vietnamese and the village language, while my mom told me that I used to mix up Cantonese and Mandarin all the time. The languages congealed, and I would always create odd sentence structures through a combination of everything I heard. No wonder why, even as an adult, I end up making my own words and creating sentences that only make sense to me. </br>\n",
    "</br>\n",
    "I decided on English because it was the easiest and most used language. But by deciding on that, I lost a lot of retention in these other Asian languages. Especially after my grandparents died, my vocabulary reduced 10 fold. </br>\n",
    "</br>\n",
    "\"It's ok though\" I thought. Half the world speaks Mandarin. No one in my family really speaks Hakka. Cantonese is a little harder to learn, but all of Hong Kong speaks it and Southern China. Thai and Lao are well known. But I was stumped on the village language. There's no written record, only my dad and aunt speak it together now, and **I DON'T EVEN KNOW WHAT IT'S CALLED TO SEARCH IT UP**. </br>\n",
    "</br>\n",
    "I could only **BARELY** understand it... but my dads side all spoke it during their reunions. I was pissed. I kept asking every year if they could teach me, but all they said was \"it's a dying language. Once we pass, you'll probably never hear it again.\" **HOW IS THIS SUPPOSED TO HELP ME**. </br>\n",
    "</br>"
   ]
  },
  {
   "cell_type": "markdown",
   "id": "6c39f516-a75b-4d24-b97e-697e9344ccd8",
   "metadata": {},
   "source": [
    "### Fast forward to a month ago..."
   ]
  },
  {
   "cell_type": "markdown",
   "id": "ba04da31-bd07-41d0-8b92-8f4cc10ed665",
   "metadata": {},
   "source": [
    "Guma, Dad, and I went to the Chinese supermarket and they were speaking the village language. The cashier asks in Mandarin, \"What language are you guys speaking\" and my aunt replies \"A variation of Thai.\" A variation of Thai?? **What do you mean that our village language is a variation of Thai??** For context, my dad's side lived in Đồng Đăng, which is Northern Vietnam. How did a Thai language get all the way to Northern Vietnam, while sounding like a mix of Vietnamese and Cantonese?"
   ]
  },
  {
   "cell_type": "markdown",
   "id": "a6ba8cad-3be9-4f00-80aa-f39f9db51b20",
   "metadata": {},
   "source": [
    "<p float=\"left\">\n",
    "  <img src=\"2.gif\" width=\"30%\" />\n",
    "  <img src=\"3.jpg\" width=\"30%\" />\n",
    "  <img src=\"4.png\" width=\"30%\" />\n",
    "</p>\n"
   ]
  },
  {
   "cell_type": "markdown",
   "id": "325dbc13-4bb7-4ca5-aefe-66a566acb924",
   "metadata": {},
   "source": [
    "I had enough. I needed to figure out what our village language was. But I've been Google Searching for **years** and nothing came up. </br>\n",
    "</br>\n",
    "The only helpful information I knew was these little tid bits: </br>\n",
    "\n",
    "- It's from Đồng Đăng.\n",
    "- It's a variation of Thai/Lao/Cantonese.\n",
    "- Some common phrases (phonetically spelled) are \"Dey zoo me?\" which means \"how are you\", \"Khin cao\" which means eat rice, \"Mi ow\" which means don't need."
   ]
  },
  {
   "cell_type": "markdown",
   "id": "ba5b66f8-1457-4254-bb1a-32ae77369198",
   "metadata": {},
   "source": [
    "Last night, I decided **why not use ChatGPT to help me find my village language**. I didn't have hope because I had tried searching on Google for so long."
   ]
  },
  {
   "cell_type": "markdown",
   "id": "278cb2b2-cbba-46e2-b2e8-6dc222cba91c",
   "metadata": {},
   "source": [
    "---"
   ]
  },
  {
   "cell_type": "markdown",
   "id": "366b55b7-ad3e-4ffd-b366-ccdc67b264f7",
   "metadata": {},
   "source": [
    "### ChatGPT Linguist Time "
   ]
  },
  {
   "cell_type": "markdown",
   "id": "26cd4f66-cf46-4951-82a6-83eaea408a5c",
   "metadata": {},
   "source": [
    "Below captures the conversation I had with ChatGPT."
   ]
  },
  {
   "cell_type": "markdown",
   "id": "552e2c26-bbcf-4e03-bb40-e6ac460ba318",
   "metadata": {},
   "source": [
    "<img src=\"5.png\"/>\n",
    "<img src=\"6.png\"/>\n",
    "<img src=\"7.png\"/>\n",
    "<img src=\"8.png\"/>\n",
    "<img src=\"9.png\"/>\n",
    "<img src=\"10.png\"/>\n",
    "<img src=\"11.png\"/>"
   ]
  },
  {
   "cell_type": "markdown",
   "id": "0c971e5c-2b68-41f3-849b-3d21f3699b97",
   "metadata": {},
   "source": [
    "---"
   ]
  },
  {
   "cell_type": "markdown",
   "id": "ea4b85ee-ca19-4d10-b8d1-950138b90728",
   "metadata": {},
   "source": [
    "I was skeptical of the results, so I looked into the different audios. Tày sounded the closest to my village language.. but I still wasn't so sure. </br>\n",
    "</br>\n",
    "Then next thing you know, I'm on Youtube searching up **\"Tày Language\"** and I stumble upon this video of a woman. </br>\n",
    "</br>"
   ]
  },
  {
   "cell_type": "markdown",
   "id": "6e773e78-77e5-467d-bda7-ae11d9be420b",
   "metadata": {},
   "source": [
    "<img src=\"12.png\"/>"
   ]
  },
  {
   "cell_type": "markdown",
   "id": "fd267e21-5c29-470f-aa5a-4f3cb0f6dc7f",
   "metadata": {},
   "source": [
    "And holy cow. I found it. **I finally found my village language**."
   ]
  },
  {
   "cell_type": "markdown",
   "id": "91403ea8-ae0f-41e3-98b0-a69e93ff2647",
   "metadata": {},
   "source": [
    "---"
   ]
  },
  {
   "cell_type": "markdown",
   "id": "d4298a56-1d60-4b1a-8643-df487fa66e05",
   "metadata": {},
   "source": [
    "### Tày or Thổ Language Audio Breakdown"
   ]
  },
  {
   "cell_type": "markdown",
   "id": "6e4a8171-d91f-4689-927f-a1f34dc37ddd",
   "metadata": {},
   "source": [
    "In the video, she introduces herself and talks for 1 minute about her language. I knew 90% of what she was saying, and she sounds exactly someone from my hometown community. This was monumental for me. I looked at the comments to see that other people are also excited to find one video documenting a woman speaking colloquially in Tày. </br>\n",
    "</br>\n",
    "I looked at the English translation and saw that it was somewhat incorrect- it didn't really capture the informalness of our language. </br>\n",
    "</br>\n",
    "Either way, I watched the video about 8 times. I was so happy to have finally put a pin on something I've been investigating since I was young. I dug deeper for the next hour, learning more about the language and also the history of the people who spoke it. Only **1.63 million** people speak this language. And with more of the elders dying out, I'm assuming that number is even more small now. </br>\n",
    "</br>"
   ]
  },
  {
   "cell_type": "markdown",
   "id": "63864f4f-8b42-4c28-be22-e5acdf78f747",
   "metadata": {},
   "source": [
    "---"
   ]
  },
  {
   "cell_type": "markdown",
   "id": "20254919-294b-4b3d-8071-a855c1658e22",
   "metadata": {},
   "source": [
    "### Telling My Cousin"
   ]
  },
  {
   "cell_type": "markdown",
   "id": "b7276abd-5b3f-41b5-ad49-2e4dfdc6e4f8",
   "metadata": {},
   "source": [
    "After this remarkable deep dive, I texted my cousin at 1:33am in the morning about my discovery. Here's our text message exchange: "
   ]
  },
  {
   "cell_type": "markdown",
   "id": "9b0ea415-0b15-40c8-a544-b52c7608caf8",
   "metadata": {},
   "source": [
    "<img src=\"13.png\"/>\n",
    "<img src=\"14.png\"/>"
   ]
  },
  {
   "cell_type": "markdown",
   "id": "65a62169-684a-40d5-8931-0139a4a9b93f",
   "metadata": {},
   "source": [
    "Well well well. Turns out her and my other cousin had discovered our village language 2 weeks prior with the help of a linguist professor. As you read in the text exchange, it took him **a week** to find our village language, whereas AI found it with three simple chats. **This is insane** </br>\n",
    "</br>"
   ]
  },
  {
   "cell_type": "markdown",
   "id": "c783e600-8b50-4ccc-b7a6-ff04840983aa",
   "metadata": {},
   "source": [
    "### What Does This Mean for Linguistics and Languages in General"
   ]
  },
  {
   "cell_type": "markdown",
   "id": "b85977e8-f293-4f57-ba0a-e7b88f6a0ecb",
   "metadata": {},
   "source": [
    "A quick Google search shows </br>\n",
    "> The world is losing languages at an alarming rate, with estimates suggesting that up to 90% of the world's languages could disappear within the next century. This equates to, on average, one language disappearing every two weeks. Many of these languages are small, indigenous languages, often lacking a standard written form\n",
    "> High Risk: Approximately 40% of the world's estimated 7,000 languages are already endangered, according to UNESCO.\n",
    "</br>\n",
    "\n",
    "Tày is spoken by ~1.63 million people. Imagine other languages that are spoken with less than a million people. Although ChatGPT wasn't able to correctly teach me phrases or words in Tày (I searched and tried), it was able to correctly identify the language. What does this mean for the linguist world? </br>\n",
    "</br>\n",
    "Will AI be able to help find more dying languages, retain these languages, or help teach people these languages. I hope for people like me who have been struggling to discover their parents' natives tongues, that they'll be able to utilize AI to help them rediscover lost languages. </br>\n",
    "</br>"
   ]
  },
  {
   "cell_type": "markdown",
   "id": "cc2715ab-a96e-4700-95f4-1dae21f214de",
   "metadata": {},
   "source": [
    "### Personal Note"
   ]
  },
  {
   "cell_type": "markdown",
   "id": "576494a5-77c3-4c21-b380-0d8371aae6c9",
   "metadata": {},
   "source": [
    "I didn't plan on using this as a blog post idea. This just so happened to come from curiousity at 1:00am in the morning. I'm so glad it happened because it helped me get a few steps closer to communicating with my dad's side of the family. This has been by far my most favorite blog post, and it's slowly becoming a passion project for my cousins and I to record down our village language. To anyone out their who's interested, ask you parents if there's a dying village language they know... hopefully AI can help you discover something new."
   ]
  }
 ],
 "metadata": {
  "citation-manager": {
   "items": {}
  },
  "kernelspec": {
   "display_name": "Python 3-12 (COMM4190)",
   "language": "python",
   "name": "python3-12_comm4190"
  },
  "language_info": {
   "codemirror_mode": {
    "name": "ipython",
    "version": 3
   },
   "file_extension": ".py",
   "mimetype": "text/x-python",
   "name": "python",
   "nbconvert_exporter": "python",
   "pygments_lexer": "ipython3",
   "version": "3.12.8"
  }
 },
 "nbformat": 4,
 "nbformat_minor": 5
}
