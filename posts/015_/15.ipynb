{
 "cells": [
  {
   "cell_type": "raw",
   "id": "1d61f648-71af-4259-8be4-8d83b0879e17",
   "metadata": {},
   "source": [
    "---\n",
    "title: \"ChatGPT Helped Me Find My Village Language\"\n",
    "description: \"Đầy dô mẻ?\"\n",
    "author: \"Jenn Deng\"\n",
    "date: \"04/21/2025\"\n",
    "categories:\n",
    "  - LLMs\n",
    "  - prompting\n",
    "  - logic\n",
    "---"
   ]
  },
  {
   "cell_type": "markdown",
   "id": "61a59a63-df7f-4791-b842-e6fa15175274",
   "metadata": {},
   "source": [
    "# ChatGPT Helped Me Find My Village Language"
   ]
  },
  {
   "cell_type": "markdown",
   "id": "c9674c75-5a8e-4d57-8ce9-05ec3f1a01e8",
   "metadata": {},
   "source": [
    "<img src=\"1.jpg\" width=80%/>"
   ]
  },
  {
   "cell_type": "markdown",
   "id": "e98b05b2-23b5-429a-883f-a9d4d7138379",
   "metadata": {},
   "source": [
    "----"
   ]
  },
  {
   "cell_type": "markdown",
   "id": "61e7ed4a-d939-4884-8cad-04401548703f",
   "metadata": {},
   "source": [
    "I grew up in a polyglot household. I grew up with my mom, dad, paternal aunt (姑妈 gū mā), and paternal grandparents (阿嫲 a maa and 阿爺 a ye). Everyone spoke at least 5 languages: **Mom** knew Mandarin, Cantonese, Vietnamese, Hakka, and English. **Dad** and his side spoke their **village language**, Mandarin, Cantonese, Vietnamese, English, Thai and Lao. </br>\n",
    "</br>\n",
    "So...it came to no surprise that I didn't know how to speak any language properly. Like. Seriously. I was put in ESL until second grade. My guma told me that I used to be able to sing in Vietnamese and the village language, while my mom told me that I used to mix up Cantonese and Mandarin all the time. The languages congealed, and I would always create odd sentence structures through a combination of everything I heard. No wonder why, even as an adult, I end up making my own words and creating sentences that only make sense to me. </br>\n",
    "</br>\n",
    "I decided on English because it was the easiest and most used language. But by deciding on that, I lost a lot of retention in these other Asian languages. Especially after my grandparents died, my vocabulary reduced 10 fold. </br>\n",
    "</br>\n",
    "\"It's ok though\" I thought. Half the world speaks Mandarin. No one in my family really speaks Hakka. Cantonese is a little harder to learn, but all of Hong Kong speaks it and Southern China. Thai and Lao are well known. But I was stumped on the village language. There's no written record, only my dad and aunt speak it together now, and **I DON'T EVEN KNOW WHAT IT'S CALLED TO SEARCH IT UP**. </br>\n",
    "</br>\n",
    "I could only **BARELY** understand it... but my dads side all spoke it during their reunions. I was pissed. I kept asking every year if they could teach me, but all they said was \"it's a dying language. Once we pass, you'll probably never hear it again.\" **HOW IS THIS SUPPOSED TO HELP ME**. </br>\n",
    "</br>"
   ]
  },
  {
   "cell_type": "markdown",
   "id": "6c39f516-a75b-4d24-b97e-697e9344ccd8",
   "metadata": {},
   "source": [
    "### Fast forward to a month ago..."
   ]
  },
  {
   "cell_type": "markdown",
   "id": "ba04da31-bd07-41d0-8b92-8f4cc10ed665",
   "metadata": {},
   "source": [
    "Guma, Dad, and I went to the Chinese supermarket and they were speaking the village language. The cashier asks in Mandarin, \"What language are you guys speaking\" and my aunt replies \"A variation of Thai.\" A variation of Thai?? **What do you mean that our village language is a variation of Thai??** For context,"
   ]
  }
 ],
 "metadata": {
  "citation-manager": {
   "items": {}
  },
  "kernelspec": {
   "display_name": "Python 3-12 (COMM4190)",
   "language": "python",
   "name": "python3-12_comm4190"
  },
  "language_info": {
   "codemirror_mode": {
    "name": "ipython",
    "version": 3
   },
   "file_extension": ".py",
   "mimetype": "text/x-python",
   "name": "python",
   "nbconvert_exporter": "python",
   "pygments_lexer": "ipython3",
   "version": "3.12.8"
  }
 },
 "nbformat": 4,
 "nbformat_minor": 5
}
