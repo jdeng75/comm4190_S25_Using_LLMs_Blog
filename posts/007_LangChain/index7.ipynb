{
 "cells": [
  {
   "cell_type": "raw",
   "id": "cdaa2f12-824d-45fa-ba5e-95efb338268e",
   "metadata": {},
   "source": [
    "---\n",
    "title: \"Let Me Try to Explain LangChain\"\n",
    "description: \"Jenn's teacher-hat-mode-initiated\"\n",
    "author: \"Jenn Deng\"\n",
    "date: \"2/24/2024\"\n",
    "categories:\n",
    "  - LLMs\n",
    "  - prompting\n",
    "---"
   ]
  },
  {
   "cell_type": "markdown",
   "id": "bdbf3ddc-9630-40d2-86e2-78ed06349822",
   "metadata": {},
   "source": [
    "# What is the term **large language model**"
   ]
  },
  {
   "cell_type": "markdown",
   "id": "7f98317c-ebc5-4b81-9948-912694f78e5f",
   "metadata": {},
   "source": [
    "<img src=\"1.png\" width=\"100%\"/>"
   ]
  },
  {
   "cell_type": "markdown",
   "id": "2fdf06ed-b81d-4600-bd9a-580e857047ad",
   "metadata": {},
   "source": [
    "**Large Language Models:** </br>\n",
    "- *Large* describes the size of these models based on the training data and parameters.\n",
    "- *Language model* describes the computer algorithm trained to receive written text and to create an output.\n",
    "- Large language models are trained on vast amounts of text and have learned from the patterns in large data sets.\n",
    "\n",
    "**Fun Fact** : Most models are better at English than they are in other languages because of the prevalence of English in training models."
   ]
  },
  {
   "cell_type": "markdown",
   "id": "21681d20-4ba2-4768-9622-b10a49a8f81f",
   "metadata": {},
   "source": [
    "# How Does LangChain Come Into Play"
   ]
  },
  {
   "cell_type": "markdown",
   "id": "61d2bb4a-1a79-4f98-bda8-e7e69612a543",
   "metadata": {},
   "source": [
    "<img src=\"2.png\" width=\"100%\"/>"
   ]
  },
  {
   "cell_type": "markdown",
   "id": "60c2c8c6-474f-4929-9efe-ccc7b081b0fa",
   "metadata": {},
   "source": [
    "On October 22, 2022, Harrison Chase was the first the publish the first commit on GitHub for the LangChain open source library. </br>\n",
    "LangChain was created after  discovering that LLM applications needed to use LLMs together with \"other sources of computation or knowledge\". </br>\n",
    "It creates simple abstractions for each major prompting technique.\n"
   ]
  }
 ],
 "metadata": {
  "kernelspec": {
   "display_name": "Python 3 (ipykernel)",
   "language": "python",
   "name": "python3"
  },
  "language_info": {
   "codemirror_mode": {
    "name": "ipython",
    "version": 3
   },
   "file_extension": ".py",
   "mimetype": "text/x-python",
   "name": "python",
   "nbconvert_exporter": "python",
   "pygments_lexer": "ipython3",
   "version": "3.10.12"
  }
 },
 "nbformat": 4,
 "nbformat_minor": 5
}
