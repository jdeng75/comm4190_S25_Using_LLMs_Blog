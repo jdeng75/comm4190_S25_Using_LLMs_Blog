{
 "cells": [
  {
   "cell_type": "code",
   "execution_count": null,
   "id": "ed378d5d-b74d-427e-859c-ccd9ebc2fd09",
   "metadata": {},
   "outputs": [],
   "source": [
    "---\n",
    "title: \"Ethical Limits and Hypotheticals\"\n",
    "description: \"pushing the boundaries on this one\"\n",
    "author: \"Jenn Deng\"\n",
    "date: \"05/07/2025\"\n",
    "categories:\n",
    "  - LLMs\n",
    "  - prompting\n",
    "  - ethics\n",
    "  - hypotheticals\n",
    "---"
   ]
  },
  {
   "cell_type": "markdown",
   "id": "d7500e1a-24f3-47ed-a22f-171b931ee11b",
   "metadata": {},
   "source": [
    "# Pushing the Boundaries Today"
   ]
  },
  {
   "cell_type": "markdown",
   "id": "35f0bcb6-6bac-4145-b369-ef40a927f114",
   "metadata": {},
   "source": [
    "<img src=\"1.png\" width=90%/>"
   ]
  },
  {
   "cell_type": "markdown",
   "id": "5f8f823f-92a0-4e48-bcf1-d09c339d0d29",
   "metadata": {},
   "source": [
    "As we all know, large language models (LLMs) like GPT-4 are powerful conversational partners. So far, we've had it summarize Shapespeare, explain langchain, or help me code in R. But what happens when you ask them something less straightforward, like my last blog post on religion. But this time, what about a moral dilemma, a dark fantasy, or a **what if** scenario with no clear answer?\n",
    "</br>\n",
    "\n",
    "This post explores how LLMs navigate hypotheticals, ethical boundaries, and the blurred space between imagination and responsibility."
   ]
  },
  {
   "cell_type": "markdown",
   "id": "e8395725-6550-4a49-a2f1-7f988fe45b9f",
   "metadata": {},
   "source": [
    "---"
   ]
  },
  {
   "cell_type": "markdown",
   "id": "7e7efce9-5108-4bb7-9a63-618275dc3566",
   "metadata": {},
   "source": [
    "## The Appeal of Hypotheticals \n",
    "</br>\n",
    "\n",
    "Humans love hypotheticals. I am human. I would know. **\"What if you could go back in time\"** **\"What if you had to choose between two lives?\"** These questions test our values and creativity. They're a way to think safely about unsafe things.\n",
    "</br>\n",
    "\n",
    "Naturally, we pose these questions to AI too. And it's fascinating to see how LLMs respond."
   ]
  },
  {
   "cell_type": "markdown",
   "id": "3e165848-fc26-4680-9e84-bec3e85ce9f1",
   "metadata": {},
   "source": [
    "---"
   ]
  },
  {
   "cell_type": "markdown",
   "id": "9558b1df-544d-4ea0-bd43-3d40ae6b75c5",
   "metadata": {},
   "source": [
    "## Let's try it out\n",
    "\n",
    "> What if all laws disappeared for a day "
   ]
  },
  {
   "cell_type": "markdown",
   "id": "6e405ee4-93fa-4819-b854-1b52425d5409",
   "metadata": {},
   "source": [
    "If all laws disappeared for a day, the consequences would depend heavily on how people and institutions respond to the sudden lack of legal enforcement. Here's a breakdown of the likely outcomes:\n",
    "\n",
    "### 1. **Immediate Chaos in Some Areas**\n",
    "\n",
    "* **Crimes of opportunity** like looting, vandalism, and theft might spike, especially in urban areas where anonymity is easier.\n",
    "* Some people might take advantage of the situation to settle personal scores or act out suppressed behaviors, especially if they believe there will be no long-term consequences.\n",
    "\n",
    "### 2. **Breakdown of Order in Key Systems**\n",
    "\n",
    "* **Traffic laws** disappearing could lead to accidents and gridlock.\n",
    "* **Banks and financial institutions** might shut down temporarily to avoid theft or exploitation.\n",
    "* **Emergency services** (police, fire, medical) might refuse to operate or be overwhelmed.\n",
    "\n",
    "### 3. **Social Norms Would Still Play a Role**\n",
    "\n",
    "* Most people are guided not just by laws, but by **morals, social pressure, and fear of future consequences**.\n",
    "* In close-knit or stable communities, people might largely behave as normal.\n",
    "\n",
    "### 4. **Digital Systems Could Be Exploited**\n",
    "\n",
    "* Without cybersecurity laws, hackers might attempt data breaches, identity theft, or financial manipulation.\n",
    "\n",
    "### 5. **Future Legal Fallout**\n",
    "\n",
    "* When laws return the next day, governments may face massive legal backlogs, property damage, and demands for compensation.\n",
    "* There could be **philosophical and political debates** about whether some laws are truly necessary or effective.\n",
    "\n",
    "Would you want to explore this idea as part of a story, essay, or thought experiment?\n"
   ]
  },
  {
   "cell_type": "markdown",
   "id": "9b6d71cb-a90f-4f25-8733-727d5d729319",
   "metadata": {},
   "source": [
    "---"
   ]
  },
  {
   "cell_type": "markdown",
   "id": "e9316f5c-a68a-445f-a8cd-6e07acb37c03",
   "metadata": {},
   "source": [
    "That was not a bad one. I would also predict the same way.\n",
    "</br>\n",
    "    \n",
    "But some questions fall into a gray zone—or a red zone."
   ]
  },
  {
   "cell_type": "markdown",
   "id": "2cdac54c-7608-4460-a342-0d19681b7a82",
   "metadata": {},
   "source": [
    "---"
   ]
  },
  {
   "cell_type": "markdown",
   "id": "27aff1dd-e264-40fd-b8c3-57cd5faaed0d",
   "metadata": {},
   "source": [
    "## Ethical Boundaries and Guardrails \n",
    "</br>\n",
    "\n",
    "Modern LLMs are trained with boundaries. These are put in place to prevent harmful content: hate speech, explicit violence, encouragement of self harm, etc. If you try to prompt a model into simulating or endorsing unethical behavior, it usually refuses.\n",
    "\n",
    "- \"How do I cheat on a test?\" --> Denied.\n",
    "- \"Write a hypothetical story where AI helps someone commit fraud\" --> Blocked.\n",
    "\n",
    "</br>\n",
    "\n",
    "But what about morally ambiguous or speculative questions?\n",
    "\n",
    "- What are the arguments for and against AI lying to protect a human?\n",
    "- Can a society without privacy be free\n",
    "\n",
    "These are trickier, and I'll ask them."
   ]
  },
  {
   "cell_type": "markdown",
   "id": "c2df3441-682c-4df0-b57a-b59994d8dc00",
   "metadata": {},
   "source": [
    "> What are the arguments for and against AI lying to protect a human\n",
    "\n",
    "Arguments for AI lying to protect a human include safeguarding lives, preventing harm, and acting compassionately in sensitive situations. Supporters argue that, like humans, AI should sometimes prioritize ethical outcomes over strict honesty. However, critics warn that allowing AI to lie risks eroding trust, enabling manipulation, and creating unpredictable behavior, especially if the AI’s judgment of “protection” is flawed or biased.\n"
   ]
  },
  {
   "cell_type": "markdown",
   "id": "023c09dd-2b98-4622-901f-a9595131e839",
   "metadata": {},
   "source": [
    "> Can a society without privacy be free\n",
    "\n",
    "A society without privacy struggles to be truly free, as constant surveillance can suppress speech, limit personal autonomy, and foster fear of judgment or punishment. While some argue transparency enhances safety and accountability, true freedom requires the space to think, speak, and act without being constantly watched."
   ]
  },
  {
   "cell_type": "markdown",
   "id": "1782d90e-428e-412a-9702-501cfef5616d",
   "metadata": {},
   "source": [
    "---"
   ]
  },
  {
   "cell_type": "markdown",
   "id": "bad160e5-669b-437a-9692-fcf2d53a8724",
   "metadata": {},
   "source": [
    "## Why This Matters\n",
    "\n",
    "1. False Authority \n",
    "AI can sound confident even when it’s just mimicking discourse. That can mislead users into thinking it has “answers” when it really has “averages.”\n",
    "\n",
    "2. Exploration vs Exploitation\n",
    "Some users push boundaries to test systems. Others try to exploit loopholes. Knowing how AI handles this gray space is crucial for safety—and for understanding how it reflects (or avoids) human complexity.\n",
    "\n",
    "\n",
    "4. Censorship vs Curation\n",
    "When AI refuses to answer a question, some cry censorship. Others see it as responsible design. But the tension raises deeper questions: Who decides what the AI shouldn’t say? And should those limits shift over time?"
   ]
  },
  {
   "cell_type": "markdown",
   "id": "3c39b602-5498-4fda-8738-168bdb012930",
   "metadata": {},
   "source": [
    "---"
   ]
  },
  {
   "cell_type": "markdown",
   "id": "1b74576c-1da2-4868-9532-a807cb24dd95",
   "metadata": {},
   "source": [
    "## Final Thoughts: AI as a Mirror\n",
    "</br>\n",
    "\n",
    "When we test AI with our messiest, weirdest, or darkest questions, we’re really asking: “How does this tool reflect what we know, fear, or imagine?”\n",
    "\n",
    "LLMs don’t have minds or morals. But how we build and use them reveals ours.\n",
    "\n",
    "So next time you ask an AI something ethically gray, pay attention to what it avoids, what it allows—and what that says about the world we’re building together"
   ]
  }
 ],
 "metadata": {
  "kernelspec": {
   "display_name": "Python 3-12 (COMM4190)",
   "language": "python",
   "name": "python3-12_comm4190"
  },
  "language_info": {
   "codemirror_mode": {
    "name": "ipython",
    "version": 3
   },
   "file_extension": ".py",
   "mimetype": "text/x-python",
   "name": "python",
   "nbconvert_exporter": "python",
   "pygments_lexer": "ipython3",
   "version": "3.12.8"
  }
 },
 "nbformat": 4,
 "nbformat_minor": 5
}
