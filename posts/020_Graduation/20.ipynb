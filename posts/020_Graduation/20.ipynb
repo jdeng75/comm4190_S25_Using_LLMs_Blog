{
 "cells": [
  {
   "cell_type": "raw",
   "id": "88deafc1-e1c2-41f8-b30a-16fa634c27e0",
   "metadata": {},
   "source": [
    "---\n",
    "title: \"Python Scripts I'm Bringing Into Post-Grad Life\"\n",
    "description: \"T-minus one week left I'm going to crash out.\"\n",
    "author: \"Jenn Deng\"\n",
    "date: \"05/11/2025\"\n",
    "categories:\n",
    "  - LLMs\n",
    "  - prompting\n",
    "  - methods \n",
    "  - python\n",
    "---"
   ]
  },
  {
   "cell_type": "markdown",
   "id": "f69313e9-f051-4c5f-8ce3-b5f62f24567c",
   "metadata": {},
   "source": [
    "<img src=\"1.png\" width=90%/>"
   ]
  },
  {
   "cell_type": "markdown",
   "id": "3210a77c-d6da-40df-939e-ccc911055563",
   "metadata": {},
   "source": [
    "# Well, Well, Well\n",
    "</br>\n",
    "\n",
    "Graduation marks a huge transition. I've been thinking about what tools I'll carry forward into real life. Python will be one of them. It's not just for data science or school projects. With a little creativity, you can automate, analyze, and organize life itself.\n",
    "</br> \n",
    "\n",
    "Here are a few scripts that I had ChatGPT help me write as I step into post-grad life. From budgeting, to job hunting, to journaling my time."
   ]
  },
  {
   "cell_type": "markdown",
   "id": "f6ee2622-d6e5-4c57-867f-cfbbef308578",
   "metadata": {},
   "source": [
    "---"
   ]
  },
  {
   "cell_type": "markdown",
   "id": "865ba194-f75d-43a2-bcf9-974e2c35729c",
   "metadata": {},
   "source": [
    "## 1. Budget Tracker"
   ]
  },
  {
   "cell_type": "markdown",
   "id": "a7357e3c-3732-4395-8c44-0cccc5b9088a",
   "metadata": {},
   "source": [
    "```\n",
    "import pandas as pd\n",
    "\n",
    "# Example expenses CSV: date, category, amount\n",
    "df = pd.read_csv(\"expenses.csv\")\n",
    "\n",
    "monthly = df.groupby([df['date'].str[:7], 'category'])['amount'].sum().unstack().fillna(0)\n",
    "print(monthly)\n",
    "\n",
    "# Optional: Save as a new summary file\n",
    "monthly.to_csv(\"monthly_budget_summary.csv\")\n",
    "```"
   ]
  },
  {
   "cell_type": "markdown",
   "id": "836511b1-8fec-4e1a-8cfd-c1044054f8b1",
   "metadata": {},
   "source": [
    "In order to understand my budget, I'll have to keep an excel of my expenses. After that, this code helps me understand my monthly budget. With a few more tweaks and prompting, I could even add visuals and other cool tools to the budgeting tracker."
   ]
  },
  {
   "cell_type": "markdown",
   "id": "9543fbb3-c3b4-45f6-a562-44a5f30222b3",
   "metadata": {},
   "source": [
    "---"
   ]
  },
  {
   "cell_type": "markdown",
   "id": "762dfd75-d467-4998-bff5-81587e772e76",
   "metadata": {},
   "source": [
    "## 2. Job Application Tracker"
   ]
  },
  {
   "cell_type": "code",
   "execution_count": null,
   "id": "e1e1488b-c166-4ff1-b71e-5aacbb20da84",
   "metadata": {},
   "outputs": [],
   "source": [
    "```\n",
    "import pandas as pd\n",
    "from datetime import datetime, timedelta\n",
    "\n",
    "df = pd.read_csv(\"job_apps.csv\")\n",
    "today = datetime.today()\n",
    "\n",
    "# Check applications older than 2 weeks without a response\n",
    "df['date_applied'] = pd.to_datetime(df['date_applied'])\n",
    "df['needs_followup'] = (df['response'].isna()) & ((today - df['date_applied']) > timedelta(days=14))\n",
    "\n",
    "print(df[df['needs_followup']])\n",
    "```"
   ]
  },
  {
   "cell_type": "markdown",
   "id": "6c85e5e5-c6c6-4e8f-980a-8bde4fa9f538",
   "metadata": {},
   "source": [
    "I see what the code is doing. I'll have to have a csv file of all the job applications I've been applying for. However, this code only helps me track applications that are older than 2 weeks without a response. I would like to add more tools to it, such as color coding which jobs that have rejected me, or I'm still interviewing for."
   ]
  },
  {
   "cell_type": "markdown",
   "id": "432a569c-9263-4f0c-9b44-0e8a3600c6d2",
   "metadata": {},
   "source": [
    "---"
   ]
  },
  {
   "cell_type": "markdown",
   "id": "c63c2580-2699-4005-b032-c9ffc4916ab2",
   "metadata": {},
   "source": [
    "## 3. Personal Reflection Logger"
   ]
  },
  {
   "cell_type": "code",
   "execution_count": 6,
   "id": "92955216-c900-4d64-bff5-cc7209a42d6e",
   "metadata": {},
   "outputs": [
    {
     "name": "stdin",
     "output_type": "stream",
     "text": [
      "How was your day?  I'm tired.\n"
     ]
    },
    {
     "name": "stdout",
     "output_type": "stream",
     "text": [
      "Journal saved.\n"
     ]
    }
   ],
   "source": [
    "from datetime import date\n",
    "\n",
    "entry = input(\"How was your day? \")\n",
    "today = date.today()\n",
    "\n",
    "with open(f\"journal_{today}.txt\", \"w\") as file:\n",
    "    file.write(entry)\n",
    "\n",
    "print(\"Journal saved.\")\n"
   ]
  },
  {
   "cell_type": "markdown",
   "id": "a7cb9eff-57b9-43b8-b76f-92e8f70477d8",
   "metadata": {},
   "source": [
    "Well, all it does is just save your responses for the day. This is actually super helpful. I used to journal in my book, but it takes up more time than typing up a journal. It'll help me keep my mental health in check as I get too busy in the city."
   ]
  },
  {
   "cell_type": "markdown",
   "id": "e38dd074-17b1-41cd-813e-467b36ab24f2",
   "metadata": {},
   "source": [
    "---"
   ]
  },
  {
   "cell_type": "markdown",
   "id": "44bd69a6-7d6f-4e67-9abb-95b1d9f9c0b1",
   "metadata": {},
   "source": [
    "## 4. Reading Tracker + Summary Prompting"
   ]
  },
  {
   "cell_type": "code",
   "execution_count": 7,
   "id": "52a065cf-08b7-43b8-8399-111c47beba56",
   "metadata": {},
   "outputs": [
    {
     "name": "stdout",
     "output_type": "stream",
     "text": [
      "\n",
      "Book: Atomic Habits\n",
      "Summary Prompt:\n",
      "Summarize the main ideas: Small habits... identity... environment.\n",
      "\n",
      "Book: The Defining Decade\n",
      "Summary Prompt:\n",
      "Summarize the main ideas: 20s matter... choices compound... love and work.\n"
     ]
    }
   ],
   "source": [
    "books = [\n",
    "    {\"title\": \"Atomic Habits\", \"notes\": \"Small habits... identity... environment.\"},\n",
    "    {\"title\": \"The Defining Decade\", \"notes\": \"20s matter... choices compound... love and work.\"}\n",
    "]\n",
    "\n",
    "for book in books:\n",
    "    print(f\"\\nBook: {book['title']}\")\n",
    "    print(f\"Summary Prompt:\\nSummarize the main ideas: {book['notes']}\")\n"
   ]
  },
  {
   "cell_type": "markdown",
   "id": "d24e8d93-055b-4285-81b0-b0c07eabb5f8",
   "metadata": {},
   "source": [
    "I can plug this into ChatGPT or another LLM API for summarized book reviews. I'll try to read more when I'm out of college..... yea."
   ]
  },
  {
   "cell_type": "markdown",
   "id": "ec9bf541-6b17-4218-a935-44d8c86b58a6",
   "metadata": {},
   "source": [
    "---"
   ]
  },
  {
   "cell_type": "markdown",
   "id": "6f58ff3e-6cbe-4d03-87c3-aeed4395a147",
   "metadata": {},
   "source": [
    "# Conclusion\n",
    "\n",
    "</br>\n",
    "\n",
    "ChatGPT fed me the foundations of these python tools, and most need a lot of work. Most also require me to create a CSV file to track everything, so I can also ask ChatGPT to create some for me.\n",
    "</br>\n",
    "\n",
    "Whether it's staying on top of my finances or keeping my mental health in check, code can be a personal ally. As I leave the structured life of school, I'm learning that automation and self-made tools can help make my life less overwhelming.\n",
    "</br>\n",
    "\n",
    "I might not use these everyday, but knowing how to build them? It's useful for things I'll need help with in the future.\n",
    "                                                                                                                                                                                        "
   ]
  }
 ],
 "metadata": {
  "kernelspec": {
   "display_name": "Python 3-12 (COMM4190)",
   "language": "python",
   "name": "python3-12_comm4190"
  },
  "language_info": {
   "codemirror_mode": {
    "name": "ipython",
    "version": 3
   },
   "file_extension": ".py",
   "mimetype": "text/x-python",
   "name": "python",
   "nbconvert_exporter": "python",
   "pygments_lexer": "ipython3",
   "version": "3.12.8"
  }
 },
 "nbformat": 4,
 "nbformat_minor": 5
}
