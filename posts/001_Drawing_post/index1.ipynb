{
 "cells": [
  {
   "cell_type": "raw",
   "id": "74fa16cd-edde-4449-8cfd-2ee7c180eac8",
   "metadata": {},
   "source": [
    "---\n",
    "title: \"Posting Pictures for ChatGPT\"\n",
    "description: \"Let's see if ChatGPT can guess correctly!\"\n",
    "author: \"Jenn Deng\"\n",
    "date: \"2/3/2024\"\n",
    "categories:\n",
    "  - LLMs\n",
    "  - prompting\n",
    "  - logic\n",
    "  - images\n",
    "  - travel\n",
    "---"
   ]
  },
  {
   "cell_type": "markdown",
   "id": "d4021182-903a-4692-9ed6-e68657e8cbde",
   "metadata": {},
   "source": [
    "# Posting Pictures for ChatGPT"
   ]
  },
  {
   "cell_type": "markdown",
   "id": "ea710792-e08f-4cd8-9fcf-4b588cebee21",
   "metadata": {},
   "source": [
    "* In this blog post, I will be uploading pictures to ChatGPT.\n",
    "* This experiment is to see whether ChatGPT can accurately describe the scene."
   ]
  },
  {
   "cell_type": "markdown",
   "id": "5f44a085-00bf-482b-b149-b319f0176257",
   "metadata": {},
   "source": [
    "---"
   ]
  },
  {
   "cell_type": "markdown",
   "id": "7928643d-7c22-460f-b505-61aaf63ebe9e",
   "metadata": {},
   "source": [
    "1. Picture of a Switzerland Keychain\n",
    "   \n",
    "* Jenn: \"Can you describe what this photo is to me? And what this object is?\"\n",
    "\n",
    "<img src=\"interlaken.png\" width=\"50%\"/>\n",
    "\n",
    "> ChatGPT: This photo shows a person wearing black gloves holding a keychain. The keychain is heart-shaped and made of wood, featuring an illustration of Interlaken, Switzerland. It has the Swiss flag on it, along with mountains and buildings, likely representing the scenic landscape of the town. The keychain is attached to a metal ring for keys.The packaging label at the top is red, displaying the brand name Alberto SA. It has a barcode and a price tag indicating Fr. 8.-- (Swiss Francs). The background suggests a store setting, possibly a souvenir shop, with other keychains and items on display.\n",
    "\n",
    "* Jenn's Observations: I think ChatGPT was able to accurately describe the picture!"
   ]
  },
  {
   "cell_type": "markdown",
   "id": "ebd0a07c-25ec-42f8-91ab-bddc0b75d5a5",
   "metadata": {},
   "source": [
    "### 2. Picture of 'Babel' at Tate Modern in London \n",
    "* Jenn: \"Can you tell me who made this, what it is, where it's located, and why it was created?\"\n",
    "\n",
    "<img src=\"tatemodern.png\" width=\"50%\"/>\n",
    "\n",
    "> ChatGPT: Yes! This is a well-known art installation called Babel by the artist Cildo Meireles. What is it?: Babel is a towering installation made from hundreds of stacked radios from different time periods and styles. The radios are arranged in a cylindrical structure, with some turned on and emitting faint sounds, creating a layered auditory experience. Where is it located?: It is part of the collection at the Tate Modern in London, though it may be exhibited elsewhere in temporary installations. Why was it created?: Cildo Meireles created Babel as a commentary on communication, information overload, and miscommunication in the modern world. The name refers to the Biblical Tower of Babel, a story in which human ambition to reach the heavens led to the confusion of languages, causing people to be unable to understand each other. Similarly, the installation suggests the overwhelming and often chaotic nature of mass communication today. If you saw this in a different museum, it could be on loan or part of a traveling exhibition!\n",
    "\n",
    "* Jenn's Observations: It's interesting how ChatGPT was still able to detect that it was Babel, even though there was a person who was in the way of the art piece. I liked how it mentions that if I saw it at a different museum that it was probably apart of a traveling exhibition."
   ]
  },
  {
   "cell_type": "markdown",
   "id": "66578520-9f76-416b-b24b-2c7b5c2710d6",
   "metadata": {},
   "source": [
    "### 3. Picture of one side of the Sagrada Familia\n",
    "* Jenn: \"What is this, where is this, who created it, and why was it created?\"\n",
    "\n",
    "<img src=\"sagrada.png\" width=\"50%\"/>\n",
    "\n",
    "> ChatGPT: This is a photo of the interior of the Sagrada Família, a world-famous basilica located in Barcelona, Spain. What is this?\n",
    "The image captures the breathtaking stained glass windows and organic, tree-like columns inside the Sagrada Família. The interplay of natural light and vibrant colors is a hallmark of this architectural masterpiece.\n",
    "Who created it?\n",
    "The Sagrada Família was designed by the renowned Catalan architect Antoni Gaudí. Construction began in 1882, and it remains unfinished to this day, with ongoing work continuing in accordance with Gaudí’s vision.\n",
    "Why was it created?\n",
    "Gaudí envisioned the Sagrada Família as a deeply spiritual and symbolic structure, blending Gothic and Art Nouveau styles with naturalistic forms. The basilica was created as a place of worship and devotion, meant to inspire awe and reflect Christian faith through architecture. The organic, tree-like columns, geometric details, and stained glass windows were all meticulously designed to create a harmonious and immersive experience.\n",
    "It is one of the most visited landmarks in the world and a UNESCO World Heritage Site, drawing millions of visitors annually. The goal is to complete its construction by 2032, marking the 150th anniversary of Gaudí's death.\n",
    "\n",
    "* Jenn's Observations: Even though I only showed a small portion, ChatGPT was still able to guess the location accurately. I am impressed."
   ]
  },
  {
   "cell_type": "markdown",
   "id": "b66c4a3d-6334-4f58-aac5-fac65e3b99e7",
   "metadata": {},
   "source": [
    "# Conclusions \n",
    "</br>\n",
    "\n",
    "Overall, I was genuinely impressed by how accurately ChatGPT identified the objects and locations in my photos. One moment that really stood out to me was how descriptive it was when analyzing a simple keychain. It picked up on nearly every detail in the image and seemed to base its interpretation on everything available in the scene. With the photo of Babel at the Tate Modern in London, I was surprised by how thoroughly it described the artwork itself, even though there were distractions in the image, like a blurry person in the foreground. Despite such visual noise, ChatGPT stayed focused on the central subject and provided an insightful summary. I also appreciated how much it was able to say about the Sagrada Familia, even though I only included a small snippet of the structure in the frame. It still recognized key architectural features and offered meaningful commentary. These moments made me realize just how sophisticated the image interpretation capabilities have become and they made me want to push the boundaries even more. Perhaps next time, I’ll experiment with uploading some truly questionable hand-drawn sketches to see how well it can decipher abstract or less defined visuals!\n",
    "\n"
   ]
  },
  {
   "cell_type": "code",
   "execution_count": null,
   "id": "4970aebe-a4b4-4662-9a1e-42b75c572430",
   "metadata": {},
   "outputs": [],
   "source": []
  }
 ],
 "metadata": {
  "citation-manager": {
   "items": {}
  },
  "kernelspec": {
   "display_name": "Python 3 (ipykernel)",
   "language": "python",
   "name": "python3"
  },
  "language_info": {
   "codemirror_mode": {
    "name": "ipython",
    "version": 3
   },
   "file_extension": ".py",
   "mimetype": "text/x-python",
   "name": "python",
   "nbconvert_exporter": "python",
   "pygments_lexer": "ipython3",
   "version": "3.10.12"
  }
 },
 "nbformat": 4,
 "nbformat_minor": 5
}
