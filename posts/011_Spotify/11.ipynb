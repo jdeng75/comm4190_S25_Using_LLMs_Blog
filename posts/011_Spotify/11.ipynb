{
 "cells": [
  {
   "cell_type": "raw",
   "id": "fa8080ae-43f0-4d80-af55-0ab7397e82ff",
   "metadata": {},
   "source": [
    "---\n",
    "title: \"Spotify DJ Sucks\"\n",
    "description: \"I need new music.\"\n",
    "author: \"Jenn Deng\"\n",
    "date: \"3/11/2025\"\n",
    "categories:\n",
    "  - LLMs\n",
    "  - prompting\n",
    "  - data analytics \n",
    "  - music \n",
    "  - Spotify\n",
    "---"
   ]
  },
  {
   "cell_type": "markdown",
   "id": "a57dd707-a93d-460b-8b72-606a4735ecda",
   "metadata": {},
   "source": [
    "# Analysis of Jenn's Music "
   ]
  },
  {
   "cell_type": "markdown",
   "id": "fd519f66-898d-4a1e-a2e1-383faaff1e43",
   "metadata": {},
   "source": [
    "<img src=\"1.png\" width=\"100%\"/>"
   ]
  },
  {
   "cell_type": "markdown",
   "id": "e6d4152b-8a63-46de-b762-4ea6a91d62cd",
   "metadata": {},
   "source": [
    "---"
   ]
  },
  {
   "cell_type": "markdown",
   "id": "a49ac731-4024-486a-93af-04b9d7f39b8e",
   "metadata": {},
   "source": [
    "**I've been having a really hard time with exploring new music.** </br>\n",
    "</br>\n",
    "I don't know if it's because I don't have time to scroll through new playlists, or if I just LOVE listening to the same songs over and over again. I think it's a combination of both. </br>\n",
    "</br>"
   ]
  },
  {
   "cell_type": "markdown",
   "id": "42a874be-7f31-4ed6-aeec-bdbbc3e30530",
   "metadata": {},
   "source": [
    "Spotify's **AI DJ** is supposed to help with this. It's a personalized music experience that curates playlists and provides commentary. It's available to Spotify Premium users in the US and Canada, and now in over 50 different regions. </br>\n",
    "</br>"
   ]
  },
  {
   "cell_type": "markdown",
   "id": "0f500725-7edc-4d17-bf13-5b546c7e68c9",
   "metadata": {},
   "source": [
    "<img src=\"DJ.png\" width=\"100%\"/>"
   ]
  },
  {
   "cell_type": "markdown",
   "id": "e845ef2b-2001-4e8b-a0b8-4693c9e959cf",
   "metadata": {},
   "source": [
    "</br>\n",
    "\n",
    "**Ugh**, I don't know about you but my Spotify DJ **SUCKS**. It keeps playing the same songs over and over again. I really don't blame it- I do listen to the same 5 songs on repeat. But sometimes it plays really generic songs... and **I'M SICK AND TIRED!** </br>\n",
    "</br>"
   ]
  },
  {
   "cell_type": "markdown",
   "id": "cb92b57a-8f4f-4197-967a-b86999d44615",
   "metadata": {},
   "source": [
    "I remember I took **CIS110** in the past, and for one of our homeworks we had to do a **music analysis** assignment. From what I can remember, the professor provided us with a CSV file of music. There was a lot of different analytics we could explore: duration of song, artist who wrote it, tempo, genre, etc etc. </br>\n",
    "</br>"
   ]
  },
  {
   "cell_type": "markdown",
   "id": "c6a8997b-6156-423c-8e12-5969b01f842f",
   "metadata": {},
   "source": [
    "I can't really remember what I did or what I analyzed... but I'm wondering if I could download a few CSV files of my different playlists to see what AI can analyze based off my data. </br>\n",
    "</br>"
   ]
  },
  {
   "cell_type": "markdown",
   "id": "4c02ef83-9689-4670-b90c-f65ad74b7c96",
   "metadata": {},
   "source": [
    "My ultimate **goal** is to see if it **does better** than Spotify AI DJ when it comes to **helping me explore new music**, while understanding what type of music I'd like to listen to based on my playlists. </br>\n",
    "</br>"
   ]
  },
  {
   "cell_type": "markdown",
   "id": "8aa3d7ef-dad4-4140-85b3-b489aa0c7ebe",
   "metadata": {},
   "source": [
    "---"
   ]
  },
  {
   "cell_type": "markdown",
   "id": "df6df7f5-9611-4c24-baf3-7dcd310aca0e",
   "metadata": {},
   "source": [
    "# Arts N Crafts Playlist"
   ]
  },
  {
   "cell_type": "markdown",
   "id": "cfe563b6-7da5-4e5f-9636-ff1e439dc6e5",
   "metadata": {},
   "source": [
    "<img src=\"artsNcrafts.png\" width=\"100%\"/>"
   ]
  },
  {
   "cell_type": "markdown",
   "id": "e638d71c-5839-4353-9510-072b783ed265",
   "metadata": {},
   "source": [
    "</br>\n",
    "\n",
    "I don't know if you can tell, but this is a playlist that's more folk and country music. **Don't judge me**, I know many people hate country. I did too, until I went camping in Maine with friends who put me onto Luke Combs. Anyways. Yea. This is just a mix of music that sort of all give me the same vibes. </br>\n",
    "</br>\n",
    "But vibes is very subjective. Some of the songs on here aren't even country or folk- I just put it in their based on my best judgement. </br>\n",
    "</br>\n",
    "But let's see what sort of analytics we can pull from this. To start off, I'm going to **download a CSV file** of this to pull all the data. </br>\n",
    "</br>"
   ]
  },
  {
   "cell_type": "markdown",
   "id": "781e7132-0841-4666-87f0-1f4188eb3ffa",
   "metadata": {},
   "source": [
    "I asked gpt if it could do some simple analysis first: </br>\n",
    "\n",
    "> prompt: please help me do R code to make data analysis for this csv of my music from a playlist. can you make a bubble graph\n",
    "\n",
    "</br>\n",
    "\n",
    "It created a bubble chart with </br>\n",
    "\n",
    "- X axis: **Tempo** (beats per minute)\n",
    "- Y axis: **Valence** (musical positivity)\n",
    "- Bubble Size: **Popularity** (Spotify's popularity score)"
   ]
  },
  {
   "cell_type": "markdown",
   "id": "9b78b8fa-daec-4520-8a53-336df3993b0b",
   "metadata": {},
   "source": [
    "<img src=\"Bubble.png\" width=\"100%\"/>"
   ]
  },
  {
   "cell_type": "markdown",
   "id": "05459b69-67e6-434b-af1d-1b1fc504bdc0",
   "metadata": {},
   "source": [
    "</br>\n",
    "And here's the code for it\n",
    "</br>\n"
   ]
  },
  {
   "cell_type": "markdown",
   "id": "bcc42892-c8cc-4947-b27a-1152e05d42df",
   "metadata": {},
   "source": [
    "```js\n",
    "# Load necessary libraries\n",
    "library(ggplot2)\n",
    "library(dplyr)\n",
    "library(readr)\n",
    "\n",
    "# Load the data\n",
    "df <- read_csv(\"~/Desktop/arts_n_crafts.csv\")\n",
    "\n",
    "# Create a combined label for top songs\n",
    "df <- df %>%\n",
    "  mutate(Label = paste(`Track Name`, \"-\", `Artist Name(s)`))\n",
    "\n",
    "# Plot: Bubble chart\n",
    "ggplot(df, aes(x = Tempo, y = Valence, size = Popularity)) +\n",
    "  geom_point(alpha = 0.6, color = \"skyblue\") +\n",
    "  geom_text(data = df %>% top_n(10, Popularity),\n",
    "            aes(label = Label), size = 3, vjust = 1.2, hjust = 0.5) +\n",
    "  scale_size(range = c(3, 15)) +\n",
    "  labs(title = \"Bubble Chart of Playlist Songs\",\n",
    "       x = \"Tempo (BPM)\",\n",
    "       y = \"Valence (Positivity)\",\n",
    "       size = \"Popularity\") +\n",
    "  theme_minimal()\n",
    "\n",
    "```"
   ]
  },
  {
   "cell_type": "markdown",
   "id": "b1627546-b0f7-43a1-8ce7-95b56f0ae311",
   "metadata": {},
   "source": [
    "</br>\n",
    "\n",
    "I also found the **Top 10 Most Popular Songs** in the playlist. </br>\n",
    "</br>\n",
    "<img src=\"Top10.png\" width=\"100%\"/>"
   ]
  },
  {
   "cell_type": "markdown",
   "id": "274d9f63-947a-4a34-8fe9-c43ba9dfa976",
   "metadata": {},
   "source": [
    "Now that we have this, I want to look at other ways I could find out how to **create a prediction model** on what new music I would be most drawn to. </br>\n",
    "</br>\n",
    "So I asked gpt: </br>\n",
    "\n",
    "> what would be the best way to predict what other new songs I would like based on the music I have in this playlist\n",
    "\n",
    "</br>\n"
   ]
  },
  {
   "cell_type": "markdown",
   "id": "91f4976f-2f92-45ff-9b0d-f9809df10608",
   "metadata": {},
   "source": [
    "**What GPT 4o** recommended was to </br>\n",
    "\n",
    "1. Audio Feature-Based Similarity "
   ]
  },
  {
   "cell_type": "markdown",
   "id": "bf14cb24-f431-4917-a8e2-9ff38fb7dde6",
   "metadata": {},
   "source": [
    "```jr\n",
    "\n",
    "# Average feature profile of your playlist\n",
    "feature_cols <- c(\"Valence\", \"Energy\", \"Danceability\", \"Tempo\", \"Acousticness\")\n",
    "profile <- df %>%\n",
    "  select(all_of(feature_cols)) %>%\n",
    "  summarise(across(everything(), mean, na.rm = TRUE))\n",
    "\n",
    "# Then you can compare new songs using distance from this profile\n",
    "\n",
    "```"
   ]
  },
  {
   "cell_type": "markdown",
   "id": "9cef9fd0-ab8c-4028-a47c-2666c8176872",
   "metadata": {},
   "source": [
    "2. Clustering Songs I like\n",
    "Using clustering (like K-means) to group my songs into vibes or moods. Then recommend new songs that fall into those clusters"
   ]
  },
  {
   "cell_type": "markdown",
   "id": "8c7fee52-5678-4056-b5bd-08817c9057c5",
   "metadata": {},
   "source": [
    "```jr\n",
    "# K-means example\n",
    "kmeans_result <- kmeans(df[, feature_cols], centers = 3)\n",
    "df$Cluster <- as.factor(kmeans_result$cluster)\n",
    "\n",
    "```"
   ]
  },
  {
   "cell_type": "markdown",
   "id": "c27c5930-99b3-48ca-8fb7-10314cc92a7c",
   "metadata": {},
   "source": [
    "3. Collaborative Filtering (Spotify Style) </br>\n",
    "This needs listening data from many users and not only me. It recommends that I use Spotify's Recommendations API where I can send my favorite songs or artists and gives me "
   ]
  },
  {
   "cell_type": "markdown",
   "id": "8983206c-33f7-4fa7-952e-6bbf4bb9c3e4",
   "metadata": {},
   "source": [
    "```jr\n",
    "library(spotifyr)\n",
    "\n",
    "# Set up authentication (you’ll need a Spotify developer account)\n",
    "access_token <- get_spotify_access_token()\n",
    "\n",
    "# Get recommendations based on seed tracks\n",
    "recommended <- get_recommendations(seed_tracks = c(\"0GNVXNz7Jkicfk2mp5OyG5\"),\n",
    "                                   limit = 10)\n",
    "\n",
    "```"
   ]
  },
  {
   "cell_type": "markdown",
   "id": "7e91ff5c-f846-4bfd-b6d8-f0f06dad3085",
   "metadata": {},
   "source": [
    "4. Mood or Genre Tagging </br>\n",
    "Group my songs by mood (based on valence and energy) or genre (if available), then explore similar ones in that space"
   ]
  },
  {
   "cell_type": "markdown",
   "id": "904ddb37-7856-4768-abcb-b5181cf44c43",
   "metadata": {},
   "source": [
    "5. Machine Learning (if I'm ambitious) </br>\n",
    "If I have song ratings or like/dislike flags, I can train a classification model (like logistic regression or random forest) and the model can predict whether I'd like a new song based on its feature."
   ]
  },
  {
   "cell_type": "markdown",
   "id": "036d7720-66d8-4ff5-a249-49f2246c9dc5",
   "metadata": {},
   "source": [
    "# Conclusion: Reimagining Spotify DJ\n",
    "\n",
    "</br>\n",
    "\n",
    "While I didn’t end up building a better version of Spotify DJ, the process of analyzing my own music taste was surprisingly insightful on its own. It helped me better understand my listening patterns and how much my preferences shift depending on the moment. I’m especially curious about how GPT-4o might approach recommending new music based on my history—possibly in a more dynamic or personalized way than Spotify's existing DJ.\n",
    "</br>\n",
    "\n",
    "From what I can tell, Spotify DJ likely uses a mix of audio feature–based similarity and collaborative filtering. That makes sense for matching my tastes with popular trends and similar users, but I’m more intrigued by how a machine learning approach—like k-means clustering—could offer an entirely different way to group my preferences and suggest songs. For instance, I’m not convinced that mood or genre tagging alone would work well for me, since I might want classical music after an upbeat playlist. My listening doesn’t always follow a predictable emotional or genre path.\n",
    "</br>\n",
    "\n",
    "This makes me think that a model trained on listening context or deeper audio features could unlock something more fluid and personalized. It’s definitely a project I want to revisit when I have more time. There’s real potential in going beyond the DJ’s prebuilt logic and experimenting with unsupervised learning to build a truly adaptive music recommendation tool.\n",
    "\n"
   ]
  }
 ],
 "metadata": {
  "citation-manager": {
   "items": {}
  },
  "kernelspec": {
   "display_name": "Python 3-12 (COMM4190)",
   "language": "python",
   "name": "python3-12_comm4190"
  },
  "language_info": {
   "codemirror_mode": {
    "name": "ipython",
    "version": 3
   },
   "file_extension": ".py",
   "mimetype": "text/x-python",
   "name": "python",
   "nbconvert_exporter": "python",
   "pygments_lexer": "ipython3",
   "version": "3.12.8"
  }
 },
 "nbformat": 4,
 "nbformat_minor": 5
}
