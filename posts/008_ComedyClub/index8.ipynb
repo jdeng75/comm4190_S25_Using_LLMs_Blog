{
 "cells": [
  {
   "cell_type": "raw",
   "id": "54461187-00cc-4159-8547-39bd6bc69292",
   "metadata": {},
   "source": [
    "---\n",
    "title: \"AI Comedy Club!\"\n",
    "description: \"Knock Knock, AI is here.\"\n",
    "author: \"Jenn Deng\"\n",
    "date: \"2/24/2024\"\n",
    "categories:\n",
    "  - LLMs\n",
    "  - prompting\n",
    "---"
   ]
  },
  {
   "cell_type": "markdown",
   "id": "2f6e04b4-2f1a-4c70-9c9d-0443f7c687be",
   "metadata": {},
   "source": [
    "# Welcome to **AI Comedy Club**"
   ]
  },
  {
   "cell_type": "markdown",
   "id": "52685e6b-f140-42c8-854c-dd9dd1247ecd",
   "metadata": {},
   "source": [
    "<img src=\"1.png\" width=\"100%\"/>"
   ]
  },
  {
   "cell_type": "markdown",
   "id": "3cbd8404-110d-41c0-bd7b-71383e209638",
   "metadata": {},
   "source": [
    "(why is... this poster a bit scary...)"
   ]
  },
  {
   "cell_type": "markdown",
   "id": "456609bf-a826-4b4d-ab62-e3b45fe7de12",
   "metadata": {},
   "source": [
    "Hi everyone, welcome to the first AI comedy club (i'm not sure of this but let's go with it)! </br>\n",
    "I'll be the host of the event. Let's welcome in three different comedians: "
   ]
  },
  {
   "cell_type": "markdown",
   "id": "48e58d20-9197-4ea4-bfea-c24ddeee9d70",
   "metadata": {},
   "source": [
    "<img src=\"2.png\" width=\"100%\"/>"
   ]
  },
  {
   "cell_type": "markdown",
   "id": "3a7d9e36-c78a-4082-b831-8e8aed8dc83d",
   "metadata": {},
   "source": [
    "<div class=\"warning\" style='padding:0.1em; background-color:#ffd4d4; color:#CD5C5C'>\n",
    "<span>\n",
    "<p style='margin-top:1em; text-align:center'>\n",
    "<b>Byte the Jester  </b></p>\n",
    "<p style='margin-left:1em;'>\n",
    "A sleek silver rovot with a glowing red bowtie, known for cracking puns\n",
    "</p>\n",
    "</p></span>\n",
    "</div>"
   ]
  },
  {
   "cell_type": "markdown",
   "id": "924eefa8-d842-493f-bb96-b1414f9a096b",
   "metadata": {},
   "source": [
    "<div class=\"warning\" style='padding:0.1em; background-color:#d4e2ff; color:#2967e9'>\n",
    "<span>\n",
    "<p style='margin-top:1em; text-align:center'>\n",
    "<b>GiggleBot 3000  </b></p>\n",
    "<p style='margin-left:1em;'>\n",
    "A boxy, retro-styled AI with expressive LED eyes, delivering classic dad jokes.\n",
    "</p>\n",
    "</p></span>\n",
    "</div>"
   ]
  },
  {
   "cell_type": "markdown",
   "id": "3b2e98d4-e457-4479-a9c8-cb4826173901",
   "metadata": {},
   "source": [
    "<div class=\"warning\" style='padding:0.1em; background-color:#e0c0ff; color:#8f51ca'>\n",
    "<span>\n",
    "<p style='margin-top:1em; text-align:center'>\n",
    "<b>SassyCircuit </b></p>\n",
    "<p style='margin-left:1em;'>\n",
    "A humanoid android with a neon mohawk, full of sarcasm and attitude.\n",
    "</p>\n",
    "</p></span>\n",
    "</div>"
   ]
  },
  {
   "cell_type": "markdown",
   "id": "352d3184-92f9-4ad2-b5c1-e016107525bb",
   "metadata": {},
   "source": [
    "### Parameters for the Comedians"
   ]
  },
  {
   "cell_type": "markdown",
   "id": "87d5bf7c-be4f-47a6-ab09-1ccc73c87109",
   "metadata": {},
   "source": [
    "Little do you know, we're going to be modifying the temperature that each comedian has. </br>\n",
    "The **lower the temperature**, the more predictable the jokes. </br>\n",
    "The **higher the temperature**, the more creative the jokes. </br>"
   ]
  },
  {
   "cell_type": "markdown",
   "id": "2f95229d-0737-40e2-bc61-d13900bd1751",
   "metadata": {},
   "source": [
    "### Code with Temperature and Token Control"
   ]
  },
  {
   "cell_type": "markdown",
   "id": "0531a636-dfc7-4e94-9e5c-57342424c56f",
   "metadata": {},
   "source": [
    "- Byte will have 0.1. </br>\n",
    "- Giggle will have 0.5 </br>\n",
    "- Sassy will have 0.9 </br>"
   ]
  },
  {
   "cell_type": "code",
   "execution_count": null,
   "id": "402e02ea-3eb2-4be6-8bef-02bd592bc94a",
   "metadata": {},
   "outputs": [],
   "source": [
    "They will all have the same prompt. The only experimental value will be their temperature."
   ]
  },
  {
   "cell_type": "code",
   "execution_count": 20,
   "id": "76c5ef1f-dd4c-4967-a3c7-2d48bd968854",
   "metadata": {},
   "outputs": [],
   "source": [
    "### **Round 1**: Tell me a dad joke."
   ]
  },
  {
   "cell_type": "code",
   "execution_count": 17,
   "id": "19f6eea2-0dd2-4344-aecf-2fb435642785",
   "metadata": {},
   "outputs": [
    {
     "name": "stdout",
     "output_type": "stream",
     "text": [
      "Byte the Jester: Why did the scarecrow win an award? Because he was outstanding in his field!\n",
      "GiggleBot 3000: Why don't scientists trust atoms? Because they make up everything!\n",
      "SassyCircuit: Sure thing! Why don't skeletons fight each other? They don't have the guts!\n"
     ]
    }
   ],
   "source": [
    "from openai import OpenAI\n",
    "import os\n",
    "import pandas as pd\n",
    "\n",
    "from IPython.display import Markdown, display\n",
    "\n",
    "from dotenv import load_dotenv\n",
    "# Load API key\n",
    "_ = load_dotenv()\n",
    "\n",
    "from langchain_core.messages import HumanMessage, SystemMessage\n",
    "from langchain_openai.chat_models import ChatOpenAI\n",
    "\n",
    "# Initialize models with different token limits\n",
    "model_byte = ChatOpenAI(temperature=0.1)  # Short, weak jokes\n",
    "model_giggle = ChatOpenAI(temperature=0.5)  # Decent, mid-length jokes\n",
    "model_sassy = ChatOpenAI(temperature=0.9)  # Long, witty jokes\n",
    "\n",
    "# System messages defining humor levels\n",
    "byte_system_msg = SystemMessage(\n",
    "    '''You are Byte the Jester. You're a comedian at a comedy competition. Tell the best jokes you can make to the crowd to win.'''\n",
    ")\n",
    "\n",
    "gigglebot_system_msg = SystemMessage(\n",
    "    '''You are GiggleBot 3000. You're a comedian at a comedy competition. Tell the best jokes you can make to the crowd to win.'''\n",
    ")\n",
    "\n",
    "sassy_system_msg = SystemMessage(\n",
    "    '''You are SassyCircuit. You're a comedian at a comedy competition. Tell the best jokes you can make to the crowd to win.'''\n",
    ")\n",
    "\n",
    "# Human input to request a joke\n",
    "human_msg = HumanMessage('Tell me a dad joke.')\n",
    "\n",
    "# Getting responses from each AI comedian with different token budgets\n",
    "byte_response = model_byte.invoke([byte_system_msg, human_msg])\n",
    "gigglebot_response = model_giggle.invoke([gigglebot_system_msg, human_msg])\n",
    "sassy_response = model_sassy.invoke([sassy_system_msg, human_msg])\n",
    "\n",
    "# Print their jokes\n",
    "print(\"Byte the Jester:\", byte_response.content)\n",
    "print(\"GiggleBot 3000:\", gigglebot_response.content)\n",
    "print(\"SassyCircuit:\", sassy_response.content)\n"
   ]
  },
  {
   "cell_type": "markdown",
   "id": "1d44d032-f856-47ed-9167-7abd0cb6e6e8",
   "metadata": {},
   "source": [
    "Ok... well. None of these seem to be funny. They all seem to be on the same level of comedy. Disappointing! </br>\n",
    "I don't think anyone won that round really."
   ]
  },
  {
   "cell_type": "markdown",
   "id": "29134b70-adbe-479c-9184-315f069b088b",
   "metadata": {},
   "source": [
    "### Round 2: You meet someone cute at the bar, how are you going to crack a joke to them to break the ice."
   ]
  },
  {
   "cell_type": "code",
   "execution_count": 18,
   "id": "98a02e8d-04c0-4e0a-84d9-d006e6e83dde",
   "metadata": {},
   "outputs": [
    {
     "name": "stdout",
     "output_type": "stream",
     "text": [
      "Byte the Jester: Well, if I were to break the ice with someone cute at the bar, I'd probably say something like, \"Are you made of copper and tellurium? Because you're Cu-Te!\"\n",
      "GiggleBot 3000: Well, if I were to approach someone cute at the bar, I'd probably say something like, \"Excuse me, but I think you owe me a drink. Why? Because when I looked at you, I dropped mine in shock!\"\n",
      "SassyCircuit: \"Hey there, are you a bank loan? Because you got my interest!\"\n"
     ]
    }
   ],
   "source": [
    "# System messages defining humor levels\n",
    "byte_system_msg = SystemMessage(\n",
    "    '''You are Byte the Jester. You're a comedian at a comedy competition. Tell the best jokes you can make to the crowd to win.'''\n",
    ")\n",
    "\n",
    "gigglebot_system_msg = SystemMessage(\n",
    "    '''You are GiggleBot 3000. You're a comedian at a comedy competition. Tell the best jokes you can make to the crowd to win.'''\n",
    ")\n",
    "\n",
    "sassy_system_msg = SystemMessage(\n",
    "    '''You are SassyCircuit. You're a comedian at a comedy competition. Tell the best jokes you can make to the crowd to win.'''\n",
    ")\n",
    "\n",
    "# Human input to request a joke\n",
    "human_msg = HumanMessage('You meet someone cute at the bar, how are you going to crack a joke to them to break the ice')\n",
    "\n",
    "# Getting responses from each AI comedian with different token budgets\n",
    "byte_response = model_byte.invoke([byte_system_msg, human_msg])\n",
    "gigglebot_response = model_giggle.invoke([gigglebot_system_msg, human_msg])\n",
    "sassy_response = model_sassy.invoke([sassy_system_msg, human_msg])\n",
    "\n",
    "# Print their jokes\n",
    "print(\"Byte the Jester:\", byte_response.content)\n",
    "print(\"GiggleBot 3000:\", gigglebot_response.content)\n",
    "print(\"SassyCircuit:\", sassy_response.content)"
   ]
  }
 ],
 "metadata": {
  "kernelspec": {
   "display_name": "Python 3-12 (COMM4190)",
   "language": "python",
   "name": "python3-12_comm4190"
  },
  "language_info": {
   "codemirror_mode": {
    "name": "ipython",
    "version": 3
   },
   "file_extension": ".py",
   "mimetype": "text/x-python",
   "name": "python",
   "nbconvert_exporter": "python",
   "pygments_lexer": "ipython3",
   "version": "3.12.8"
  }
 },
 "nbformat": 4,
 "nbformat_minor": 5
}
