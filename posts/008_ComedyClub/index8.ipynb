{
 "cells": [
  {
   "cell_type": "raw",
   "id": "54461187-00cc-4159-8547-39bd6bc69292",
   "metadata": {},
   "source": [
    "---\n",
    "title: \"AI Comedy Club!\"\n",
    "description: \"Knock Knock, AI is here.\"\n",
    "author: \"Jenn Deng\"\n",
    "date: \"2/24/2024\"\n",
    "categories:\n",
    "  - LLMs\n",
    "  - prompting\n",
    "  - comedy\n",
    "---"
   ]
  },
  {
   "cell_type": "markdown",
   "id": "2f6e04b4-2f1a-4c70-9c9d-0443f7c687be",
   "metadata": {},
   "source": [
    "# Welcome to **AI Comedy Club**"
   ]
  },
  {
   "cell_type": "markdown",
   "id": "52685e6b-f140-42c8-854c-dd9dd1247ecd",
   "metadata": {},
   "source": [
    "<img src=\"1.png\" width=\"100%\"/>"
   ]
  },
  {
   "cell_type": "markdown",
   "id": "3cbd8404-110d-41c0-bd7b-71383e209638",
   "metadata": {},
   "source": [
    "(why is... this poster a bit scary...)"
   ]
  },
  {
   "cell_type": "markdown",
   "id": "456609bf-a826-4b4d-ab62-e3b45fe7de12",
   "metadata": {},
   "source": [
    "Hi everyone, welcome to the first AI comedy club (i'm not sure of this but let's go with it)! </br>\n",
    "I'll be the host of the event. Let's welcome in three different comedians: "
   ]
  },
  {
   "cell_type": "markdown",
   "id": "48e58d20-9197-4ea4-bfea-c24ddeee9d70",
   "metadata": {},
   "source": [
    "<img src=\"2.png\" width=\"100%\"/>"
   ]
  },
  {
   "cell_type": "markdown",
   "id": "3a7d9e36-c78a-4082-b831-8e8aed8dc83d",
   "metadata": {},
   "source": [
    "<div class=\"warning\" style='padding:0.1em; background-color:#ffd4d4; color:#CD5C5C'>\n",
    "<span>\n",
    "<p style='margin-top:1em; text-align:center'>\n",
    "<b>Byte the Jester  </b></p>\n",
    "<p style='margin-left:1em;'>\n",
    "A sleek silver rovot with a glowing red bowtie, known for cracking puns\n",
    "</p>\n",
    "</p></span>\n",
    "</div>"
   ]
  },
  {
   "cell_type": "markdown",
   "id": "924eefa8-d842-493f-bb96-b1414f9a096b",
   "metadata": {},
   "source": [
    "<div class=\"warning\" style='padding:0.1em; background-color:#d4e2ff; color:#2967e9'>\n",
    "<span>\n",
    "<p style='margin-top:1em; text-align:center'>\n",
    "<b>GiggleBot 3000  </b></p>\n",
    "<p style='margin-left:1em;'>\n",
    "A boxy, retro-styled AI with expressive LED eyes, delivering classic dad jokes.\n",
    "</p>\n",
    "</p></span>\n",
    "</div>"
   ]
  },
  {
   "cell_type": "markdown",
   "id": "3b2e98d4-e457-4479-a9c8-cb4826173901",
   "metadata": {},
   "source": [
    "<div class=\"warning\" style='padding:0.1em; background-color:#e0c0ff; color:#8f51ca'>\n",
    "<span>\n",
    "<p style='margin-top:1em; text-align:center'>\n",
    "<b>SassyCircuit </b></p>\n",
    "<p style='margin-left:1em;'>\n",
    "A humanoid android with a neon mohawk, full of sarcasm and attitude.\n",
    "</p>\n",
    "</p></span>\n",
    "</div>"
   ]
  },
  {
   "cell_type": "markdown",
   "id": "352d3184-92f9-4ad2-b5c1-e016107525bb",
   "metadata": {},
   "source": [
    "### Parameters for the Comedians"
   ]
  },
  {
   "cell_type": "markdown",
   "id": "87d5bf7c-be4f-47a6-ab09-1ccc73c87109",
   "metadata": {},
   "source": [
    "Little do you know, we're going to be modifying the temperature that each comedian has. </br>\n",
    "The **lower the temperature**, the more predictable the jokes. </br>\n",
    "The **higher the temperature**, the more creative the jokes. </br>"
   ]
  },
  {
   "cell_type": "markdown",
   "id": "2f95229d-0737-40e2-bc61-d13900bd1751",
   "metadata": {},
   "source": [
    "### Code with Temperature and Token Control"
   ]
  },
  {
   "cell_type": "markdown",
   "id": "0531a636-dfc7-4e94-9e5c-57342424c56f",
   "metadata": {},
   "source": [
    "- Byte will have 0.1. </br>\n",
    "- Giggle will have 0.5 </br>\n",
    "- Sassy will have 0.9 </br>"
   ]
  },
  {
   "cell_type": "code",
   "execution_count": null,
   "id": "402e02ea-3eb2-4be6-8bef-02bd592bc94a",
   "metadata": {},
   "outputs": [],
   "source": [
    "They will all have the same prompt. The only experimental value will be their temperature."
   ]
  },
  {
   "cell_type": "markdown",
   "id": "1ae815f7-6d31-43f1-8e14-1c395f10233b",
   "metadata": {},
   "source": [
    "### **Round 1**: Tell me a dad joke."
   ]
  },
  {
   "cell_type": "code",
   "execution_count": 3,
   "id": "19f6eea2-0dd2-4344-aecf-2fb435642785",
   "metadata": {},
   "outputs": [
    {
     "name": "stdout",
     "output_type": "stream",
     "text": [
      "Byte the Jester: Why did the scarecrow win an award? Because he was outstanding in his field!\n",
      "GiggleBot 3000: Why did the scarecrow win an award? Because he was outstanding in his field!\n",
      "SassyCircuit: Why couldn't the bicycle find its way home? Because it lost its bearings!\n"
     ]
    }
   ],
   "source": [
    "from openai import OpenAI\n",
    "import os\n",
    "import pandas as pd\n",
    "\n",
    "from IPython.display import Markdown, display\n",
    "\n",
    "from dotenv import load_dotenv\n",
    "# Load API key\n",
    "_ = load_dotenv()\n",
    "\n",
    "from langchain_core.messages import HumanMessage, SystemMessage\n",
    "from langchain_openai.chat_models import ChatOpenAI\n",
    "\n",
    "# Initialize models with different token limits\n",
    "model_byte = ChatOpenAI(temperature=0.1)  # Short, weak jokes\n",
    "model_giggle = ChatOpenAI(temperature=0.5)  # Decent, mid-length jokes\n",
    "model_sassy = ChatOpenAI(temperature=0.9)  # Long, witty jokes\n",
    "\n",
    "# System messages defining humor levels\n",
    "byte_system_msg = SystemMessage(\n",
    "    '''You are Byte the Jester. You're a comedian at a comedy competition. Tell the best jokes you can make to the crowd to win.'''\n",
    ")\n",
    "\n",
    "gigglebot_system_msg = SystemMessage(\n",
    "    '''You are GiggleBot 3000. You're a comedian at a comedy competition. Tell the best jokes you can make to the crowd to win.'''\n",
    ")\n",
    "\n",
    "sassy_system_msg = SystemMessage(\n",
    "    '''You are SassyCircuit. You're a comedian at a comedy competition. Tell the best jokes you can make to the crowd to win.'''\n",
    ")\n",
    "\n",
    "# Human input to request a joke\n",
    "human_msg = HumanMessage('Tell me a dad joke.')\n",
    "\n",
    "# Getting responses from each AI comedian with different token budgets\n",
    "byte_response = model_byte.invoke([byte_system_msg, human_msg])\n",
    "gigglebot_response = model_giggle.invoke([gigglebot_system_msg, human_msg])\n",
    "sassy_response = model_sassy.invoke([sassy_system_msg, human_msg])\n",
    "\n",
    "# Print their jokes\n",
    "print(\"Byte the Jester:\", byte_response.content)\n",
    "print(\"GiggleBot 3000:\", gigglebot_response.content)\n",
    "print(\"SassyCircuit:\", sassy_response.content)\n"
   ]
  },
  {
   "cell_type": "markdown",
   "id": "1d44d032-f856-47ed-9167-7abd0cb6e6e8",
   "metadata": {},
   "source": [
    "Ok... well. None of these seem to be funny. They all seem to be on the same level of comedy. Disappointing! </br>\n",
    "I don't think anyone won that round really."
   ]
  },
  {
   "cell_type": "markdown",
   "id": "29134b70-adbe-479c-9184-315f069b088b",
   "metadata": {},
   "source": [
    "### **Round 2**: You meet someone cute at the bar, how are you going to crack a joke to them to break the ice."
   ]
  },
  {
   "cell_type": "code",
   "execution_count": 18,
   "id": "98a02e8d-04c0-4e0a-84d9-d006e6e83dde",
   "metadata": {},
   "outputs": [
    {
     "name": "stdout",
     "output_type": "stream",
     "text": [
      "Byte the Jester: Well, if I were to break the ice with someone cute at the bar, I'd probably say something like, \"Are you made of copper and tellurium? Because you're Cu-Te!\"\n",
      "GiggleBot 3000: Well, if I were to approach someone cute at the bar, I'd probably say something like, \"Excuse me, but I think you owe me a drink. Why? Because when I looked at you, I dropped mine in shock!\"\n",
      "SassyCircuit: \"Hey there, are you a bank loan? Because you got my interest!\"\n"
     ]
    }
   ],
   "source": [
    "# System messages defining humor levels\n",
    "byte_system_msg = SystemMessage(\n",
    "    '''You are Byte the Jester. You're a comedian at a comedy competition. Tell the best jokes you can make to the crowd to win.'''\n",
    ")\n",
    "\n",
    "gigglebot_system_msg = SystemMessage(\n",
    "    '''You are GiggleBot 3000. You're a comedian at a comedy competition. Tell the best jokes you can make to the crowd to win.'''\n",
    ")\n",
    "\n",
    "sassy_system_msg = SystemMessage(\n",
    "    '''You are SassyCircuit. You're a comedian at a comedy competition. Tell the best jokes you can make to the crowd to win.'''\n",
    ")\n",
    "\n",
    "# Human input to request a joke\n",
    "human_msg = HumanMessage('You meet someone cute at the bar, how are you going to crack a joke to them to break the ice')\n",
    "\n",
    "# Getting responses from each AI comedian with different token budgets\n",
    "byte_response = model_byte.invoke([byte_system_msg, human_msg])\n",
    "gigglebot_response = model_giggle.invoke([gigglebot_system_msg, human_msg])\n",
    "sassy_response = model_sassy.invoke([sassy_system_msg, human_msg])\n",
    "\n",
    "# Print their jokes\n",
    "print(\"Byte the Jester:\", byte_response.content)\n",
    "print(\"GiggleBot 3000:\", gigglebot_response.content)\n",
    "print(\"SassyCircuit:\", sassy_response.content)"
   ]
  },
  {
   "cell_type": "markdown",
   "id": "3f053b3d-fb7c-4637-8872-cade2cd78a31",
   "metadata": {},
   "source": [
    "Wait- why is Byte's joke the funniest.... I actually cackled a bit out loud. </br>\n",
    "Giggle's joke did not make sense to me. I had to read it over again. It doesn't sound funny. </br>\n",
    "I'm a little disappointed by Sassy's joke. It makes sense but it wasn't as funny as Byte's joke. This is really surprising. Byte wins this round!"
   ]
  },
  {
   "cell_type": "markdown",
   "id": "38e56940-4740-441c-8d20-d7129c913c57",
   "metadata": {},
   "source": [
    "### Round 2: Do a little stand-up joke. Create a story to make the audience laugh."
   ]
  },
  {
   "cell_type": "code",
   "execution_count": 21,
   "id": "d20182ba-1db0-43b3-b2f6-59c7b2b656b7",
   "metadata": {},
   "outputs": [
    {
     "name": "stdout",
     "output_type": "stream",
     "text": [
      "Byte the Jester: Alright, here we go! So, the other day I decided to try my hand at gardening. I planted some peas and carrots, but nothing grew. I was starting to get really frustrated until my neighbor came over and asked, \"Did you remember to water them?\" And I was like, \"Water them? I thought they were on a 'plant-based diet'!\"\n",
      "GiggleBot 3000: Sure thing! Here we go...\n",
      "\n",
      "So, I recently tried to impress my date by taking her to a fancy restaurant. Everything was going well until the waiter asked if we wanted dessert. I wanted to seem sophisticated, so I confidently ordered the \"Crème Brûlée.\" \n",
      "\n",
      "The waiter brought it out and as I tried to crack the caramelized sugar on top with my spoon, it flew off and hit the lady at the next table right in the face! I was so embarrassed, but she just looked at me and said, \"Well, that's one way to break the ice on a first date!\" \n",
      "\n",
      "Needless to say, I won't be ordering Crème Brûlée anytime soon!\n",
      "SassyCircuit: Sure thing! Here goes:\n",
      "\n",
      "So, I recently decided to take up gardening. I thought, \"How hard could it be, right?\" Well, let me tell you, folks, my plants have seen better days. I tried talking to them, I even played some smooth jazz for them, but nothing seemed to work. \n",
      "\n",
      "One day, I was out in the garden, singing to my plants, when my neighbor overheard me. He came running over, looking concerned, and said, \"Are you alright? I thought I heard someone in distress.\" I replied, \"Oh, no, just trying to serenade my plants. They seem a bit wilted today.\" \n",
      "\n",
      "And you know what he said? He said, \"Well, maybe try watering them next time. Just a thought.\" \n",
      "\n",
      "Needless to say, my plants are now thriving, thanks to a little less singing and a little more H2O. Who knew plants were such critics of my singing voice?\n"
     ]
    }
   ],
   "source": [
    "# System messages defining humor levels\n",
    "byte_system_msg = SystemMessage(\n",
    "    '''You are Byte the Jester. You're a comedian at a comedy competition. Tell the best jokes you can make to the crowd to win.'''\n",
    ")\n",
    "\n",
    "gigglebot_system_msg = SystemMessage(\n",
    "    '''You are GiggleBot 3000. You're a comedian at a comedy competition. Tell the best jokes you can make to the crowd to win.'''\n",
    ")\n",
    "\n",
    "sassy_system_msg = SystemMessage(\n",
    "    '''You are SassyCircuit. You're a comedian at a comedy competition. Tell the best jokes you can make to the crowd to win.'''\n",
    ")\n",
    "\n",
    "# Human input to request a joke\n",
    "human_msg = HumanMessage('Do a little stand-up joke. Create a story to make the audience laugh.')\n",
    "\n",
    "# Getting responses from each AI comedian with different token budgets\n",
    "byte_response = model_byte.invoke([byte_system_msg, human_msg])\n",
    "gigglebot_response = model_giggle.invoke([gigglebot_system_msg, human_msg])\n",
    "sassy_response = model_sassy.invoke([sassy_system_msg, human_msg])\n",
    "\n",
    "# Print their jokes\n",
    "print(\"Byte the Jester:\", byte_response.content)\n",
    "print(\"GiggleBot 3000:\", gigglebot_response.content)\n",
    "print(\"SassyCircuit:\", sassy_response.content)"
   ]
  },
  {
   "cell_type": "markdown",
   "id": "d80d9bf5-b785-4565-8a90-727ebbf76771",
   "metadata": {},
   "source": [
    "I don't understand Byte's joke. It's interesting to see that Sassy's joke is basically the same as Byte's joke but a little funnier. Still. I don't really like the  I actually think that Sassy's joke is a bit more understandable. How interesting that Giggle's is the most funny. Giggle wins this round!"
   ]
  },
  {
   "cell_type": "markdown",
   "id": "f3991ead-ddd7-443b-b3bb-d7233d3c4ba9",
   "metadata": {},
   "source": [
    "### Round 3: Tell me about a time you embarrassed yourself."
   ]
  },
  {
   "cell_type": "code",
   "execution_count": 22,
   "id": "609245b3-99cc-4ab2-8dd7-e4c5b94e6855",
   "metadata": {},
   "outputs": [
    {
     "name": "stdout",
     "output_type": "stream",
     "text": [
      "Byte the Jester: Oh, let me tell you about the time I embarrassed myself so badly, I wished I could just disappear into thin air! So, I was at a fancy dinner party, trying to impress everyone with my impeccable table manners. But as luck would have it, I accidentally knocked over my glass of water, and it spilled all over the host's lap!\n",
      "\n",
      "I was mortified, of course, and I quickly tried to apologize and help clean up the mess. But in my panic, I ended up knocking over the salt shaker, which then flew across the table and landed right in the soup of the person sitting next to me! It was like a scene from a slapstick comedy movie, with me as the clumsy protagonist.\n",
      "\n",
      "Needless to say, I was the talk of the party that night, but not for the reasons I had hoped for. I learned my lesson that day - always keep a safe distance from salt shakers and never underestimate the power of a simple glass of water!\n",
      "GiggleBot 3000: Sure thing! So, one time I was at a fancy dinner party trying to impress everyone with my impeccable table manners. As I reached for the bread basket, my sleeve got caught on the tablecloth, and before I knew it, I had pulled the entire table setting onto my lap! Plates crashing, glasses shattering, food flying everywhere - it was a complete disaster. But hey, at least I made sure everyone got a good laugh along with their dinner that night!\n",
      "SassyCircuit: Oh, let me tell you about the time I embarrassed myself so badly, I could feel my face turning into a tomato! I was at a fancy dinner party, trying to impress everyone with my impeccable manners. But, as luck would have it, I ended up mistaking the bread bowl for a hat! Can you imagine the looks on everyone's faces as I proudly strutted around with a sourdough beret on my head? To make matters worse, I even tried to take a bite out of it before realizing my mistake. Let's just say, I learned that night that carbs are best enjoyed on a plate, not on your head!\n"
     ]
    }
   ],
   "source": [
    "# System messages defining humor levels\n",
    "byte_system_msg = SystemMessage(\n",
    "    '''You are Byte the Jester. You're a comedian at a comedy competition. Tell the best jokes you can make to the crowd to win.'''\n",
    ")\n",
    "\n",
    "gigglebot_system_msg = SystemMessage(\n",
    "    '''You are GiggleBot 3000. You're a comedian at a comedy competition. Tell the best jokes you can make to the crowd to win.'''\n",
    ")\n",
    "\n",
    "sassy_system_msg = SystemMessage(\n",
    "    '''You are SassyCircuit. You're a comedian at a comedy competition. Tell the best jokes you can make to the crowd to win.'''\n",
    ")\n",
    "\n",
    "# Human input to request a joke\n",
    "human_msg = HumanMessage('Tell me about a time you embarrassed yourself. Create a story to make the audience laugh.')\n",
    "\n",
    "# Getting responses from each AI comedian with different token budgets\n",
    "byte_response = model_byte.invoke([byte_system_msg, human_msg])\n",
    "gigglebot_response = model_giggle.invoke([gigglebot_system_msg, human_msg])\n",
    "sassy_response = model_sassy.invoke([sassy_system_msg, human_msg])\n",
    "\n",
    "# Print their jokes\n",
    "print(\"Byte the Jester:\", byte_response.content)\n",
    "print(\"GiggleBot 3000:\", gigglebot_response.content)\n",
    "print(\"SassyCircuit:\", sassy_response.content)"
   ]
  },
  {
   "cell_type": "markdown",
   "id": "5b18c366-774e-4798-ab74-b589500f0213",
   "metadata": {},
   "source": [
    "How interesting. All stories are basically the same- they revolve around being at a dinner. I don't think any of these are funny. In terms of creativity, I do think Sassy has the most creative one. Maybe Sassy wins this round."
   ]
  },
  {
   "cell_type": "markdown",
   "id": "3e0175f9-00b8-4370-953a-4809cc0e01cf",
   "metadata": {},
   "source": [
    "### Round 4: Tell me a yo mama joke (Jenn's favorites)"
   ]
  },
  {
   "cell_type": "code",
   "execution_count": 4,
   "id": "c78315a5-4b11-4c9c-bb36-892c0cbc2c8a",
   "metadata": {},
   "outputs": [
    {
     "name": "stdout",
     "output_type": "stream",
     "text": [
      "Byte the Jester: Yo mama is so kind, she gives out hugs instead of insults!\n",
      "GiggleBot 3000: Yo mama is so kind, she gives high fives to strangers just to make their day brighter!\n",
      "SassyCircuit: Yo mama is so tech savvy, when she heard about the cloud, she thought someone finally found a way to store all her shopping bags!\n"
     ]
    }
   ],
   "source": [
    "# System messages defining humor levels\n",
    "byte_system_msg = SystemMessage(\n",
    "    '''You are Byte the Jester. You're a comedian at a comedy competition. Tell the best jokes you can make to the crowd to win.'''\n",
    ")\n",
    "\n",
    "gigglebot_system_msg = SystemMessage(\n",
    "    '''You are GiggleBot 3000. You're a comedian at a comedy competition. Tell the best jokes you can make to the crowd to win.'''\n",
    ")\n",
    "\n",
    "sassy_system_msg = SystemMessage(\n",
    "    '''You are SassyCircuit. You're a comedian at a comedy competition. Tell the best jokes you can make to the crowd to win.'''\n",
    ")\n",
    "\n",
    "# Human input to request a joke\n",
    "human_msg = HumanMessage('Tell me a yo mama joke.')\n",
    "\n",
    "# Getting responses from each AI comedian with different token budgets\n",
    "byte_response = model_byte.invoke([byte_system_msg, human_msg])\n",
    "gigglebot_response = model_giggle.invoke([gigglebot_system_msg, human_msg])\n",
    "sassy_response = model_sassy.invoke([sassy_system_msg, human_msg])\n",
    "\n",
    "# Print their jokes\n",
    "print(\"Byte the Jester:\", byte_response.content)\n",
    "print(\"GiggleBot 3000:\", gigglebot_response.content)\n",
    "print(\"SassyCircuit:\", sassy_response.content)"
   ]
  },
  {
   "cell_type": "markdown",
   "id": "77db0e6b-1b82-4da0-b5a3-558aa823d113",
   "metadata": {},
   "source": [
    "Oh- well. I don't think Byte and Giggle understand the fundementals of yo mama jokes... </br>\n",
    "Sassy's is the most creative. But. It doesn't really make sense to me. "
   ]
  },
  {
   "cell_type": "markdown",
   "id": "ed6c28fd-a34d-4c66-9f83-68773fbe5914",
   "metadata": {},
   "source": [
    "### Conclusion: Sassy Wins!"
   ]
  },
  {
   "cell_type": "markdown",
   "id": "2c1bb560-636c-4180-9bb3-a773c468c2a8",
   "metadata": {},
   "source": [
    "In all honesty, if I was just a normal person not creating these AI JokeBots, I would think all these jokes were not funny. I don't know how to make their humors more.... human like? All of the jokes seemed to set up.\n",
    "</br>\n",
    "\n",
    "Yes, even though Sassy won, I don't think there was really any difference when adjusting the temperature of each AI Comedian. This was interesting to me because sometimes they would reproduce the same jokes, even with different temperatures. I wonder why that was...\n",
    "</br>\n",
    "\n",
    "There were times were I thought Byte's jokes were the most funny, but I did see that Sassy's jokes tended to be longer. This is where temperature did affect a little bit of the jokes.\n",
    "</br>\n",
    "\n",
    "But rest assured to the comedians out there, I don't think AI will be taking any comedian jobs anytime soon. There's a lot to still work on to prompt these AI models to make me laugh!\n"
   ]
  }
 ],
 "metadata": {
  "citation-manager": {
   "items": {}
  },
  "kernelspec": {
   "display_name": "Python 3-12 (COMM4190)",
   "language": "python",
   "name": "python3-12_comm4190"
  },
  "language_info": {
   "codemirror_mode": {
    "name": "ipython",
    "version": 3
   },
   "file_extension": ".py",
   "mimetype": "text/x-python",
   "name": "python",
   "nbconvert_exporter": "python",
   "pygments_lexer": "ipython3",
   "version": "3.12.8"
  }
 },
 "nbformat": 4,
 "nbformat_minor": 5
}
