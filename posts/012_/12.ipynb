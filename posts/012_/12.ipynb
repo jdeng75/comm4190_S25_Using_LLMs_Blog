{
 "cells": [
  {
   "cell_type": "raw",
   "id": "6964b7aa-30b5-4077-a969-c893b8f7b7f7",
   "metadata": {},
   "source": [
    "---\n",
    "title: \"Sisyphus 55 (AI Version)\"\n",
    "description: \"The thing I've learned is to expect nothing and accept everything.\n",
    "author: \"Jenn Deng\"\n",
    "date: \"3/18/2025\"\n",
    "categories:\n",
    "  - LLMs\n",
    "  - prompting\n",
    "  - logic\n",
    "  - philosophy\n",
    "---"
   ]
  },
  {
   "cell_type": "markdown",
   "id": "2ee283de-3674-4176-801b-400761e926a8",
   "metadata": {},
   "source": [
    "# Can AI Think Like a Philosopher"
   ]
  },
  {
   "cell_type": "markdown",
   "id": "a6f84d1b-0bab-402a-8ca0-e17e14cbd379",
   "metadata": {},
   "source": [
    "\n",
    "---\n"
   ]
  },
  {
   "cell_type": "markdown",
   "id": "58ef2adc-cd16-4ebe-95bd-195f989b08c5",
   "metadata": {},
   "source": [
    "<img src=\"1.png\" width=\"100%\" />"
   ]
  },
  {
   "cell_type": "markdown",
   "id": "a1f02372-4060-4e9e-b4a5-2c2f20062907",
   "metadata": {},
   "source": [
    "[![Sisyphus 55 YouTube](https://img.shields.io/badge/Click-here)](https://www.youtube.com/@Sisyphus55)\n"
   ]
  },
  {
   "cell_type": "markdown",
   "id": "de5e0535-7456-4b43-83a6-1d9266fbbc66",
   "metadata": {},
   "source": [
    "----"
   ]
  },
  {
   "cell_type": "markdown",
   "id": "a14f1d68-2940-4c12-98d9-5967491cf4d7",
   "metadata": {},
   "source": [
    "One day while I got bored of watching the same *Greys Anatomy* clips on YouTube, I stumbled across a video called \"love without attachment\" by **Sisyphus 55** and instantly fell into a deep loop of watching all his videos. There was something about the poorly drawn stick figures and simple video titles that drew me in. \n",
    "</br>\n",
    "</br>\n",
    "<img src=\"2.png\" width=\"100%\" />\n",
    "</br>\n",
    "</br>"
   ]
  },
  {
   "cell_type": "markdown",
   "id": "7867452a-fbd0-4334-90a3-fad3c29857d2",
   "metadata": {},
   "source": [
    "**Sisyphus 55** is an American-Canadian YouTuber who makes videos about philosophy, empathy, and modern thinkers. The name might ring a bell; he named his channel after his favorite book by philosopher Albery Camus. </br>\n",
    "</br>\n",
    "He makes a ton of videos analyzying and critiquing philosophers, both modern and ancient ones. You might've seen his video **NIETZSCHE:THE MAN WHO VIBE CHECKED GOD** or **THE SCARIEST PHILOSOPHERS OF ALL TIME**. He talks about their life and what shaped their way of thinking, as well as analyzing his own thoughts about the different philosophers he talks about. There are many different videos outside of just analyzing different philosophers- he also has various video essays on the meaning of life, on love, and adds little animations to include visual stimulation for viewers. </br>\n",
    "</br>"
   ]
  },
  {
   "cell_type": "markdown",
   "id": "b70778fd-7f7a-45e4-a899-d719ff012bf6",
   "metadata": {},
   "source": [
    "There are a lot of great videos on this channel. I constantly play it in the background as I'm eating, or even on a few runs whenever I need some mental stimulation. Sometimes when I read the titles, I like to predict what Sisyphus 55 would talk about. </br>\n",
    "</br>"
   ]
  },
  {
   "cell_type": "markdown",
   "id": "0151e8c5-dff3-46e5-932d-471958289171",
   "metadata": {},
   "source": [
    "In this blog post, I want to see what **deepseek-r1:1.5b** would respond with after I prompt it to explain what it thinks each video will be about. I want to also see if I'll be able to get any philosophical ideas from **deepseek** and engage on these ideas. </br>\n",
    "</br>"
   ]
  },
  {
   "cell_type": "markdown",
   "id": "a8ef5ab1-3b2d-4c80-9e2a-6523ce828cec",
   "metadata": {},
   "source": [
    "**Let's play pretend philosophers!**"
   ]
  },
  {
   "cell_type": "markdown",
   "id": "a9de9611-a878-4099-8684-5547f3db8b76",
   "metadata": {},
   "source": [
    "---"
   ]
  },
  {
   "cell_type": "markdown",
   "id": "430fecc8-c359-4034-925e-a2763e911a91",
   "metadata": {},
   "source": [
    "# Right Person/Wrong Time"
   ]
  },
  {
   "cell_type": "markdown",
   "id": "d4bd4810-1007-410f-bba6-54829e020a54",
   "metadata": {},
   "source": [
    "<img src=\"3.png\" width=\"100%\" />"
   ]
  },
  {
   "cell_type": "markdown",
   "id": "b2f196c1-5f6f-4dd0-8a86-d6c063503102",
   "metadata": {},
   "source": [
    "I prompted deepseek by asking: </br>\n",
    "> pretend you were a YouTuber who made content on philosophical ideas and exploring the meaning of life. One of the video titles you have is “right person/wrong time\".” What might you discuss in this video?"
   ]
  },
  {
   "cell_type": "markdown",
   "id": "4489b999-1d8c-4578-916b-0952c4dfd7cf",
   "metadata": {},
   "source": [
    "<details>\n",
    "<summary>deepseek Thougths</summary>\n",
    "\n",
    "Alright, I need to figure out what the user is asking for. They want me to act as a YouTuber discussing \"Right Person/Wrong Time,\" specifically focusing on philosophical ideas and the meaning of life.\n",
    "\n",
    "First, I should break down the title. It combines two main concepts: right person and wrong time. Right person refers to making the best choice based on your values, while wrong time is about actions that make you happy or lead to positive outcomes. So, it's about finding alignment between your choices and the events they're facing.\n",
    "\n",
    "I wonder if the user wants a video title but not necessarily an engaging one. Maybe they just want a structured outline of what to cover. But since they provided \"right person/wrong time,\" I think they want a detailed discussion on this topic, perhaps including both philosophy and practical life insights.\n",
    "\n",
    "Next, I need to consider the content that could be discussed in such a video. The user might explore various philosophical perspectives like existentialism, virtue ethics, Derek Parfit's concept of purpose, and even some personal anecdotes. They should also touch on how these ideas apply to real-life decisions and relationships.\n",
    "\n",
    "Including practical examples is key here. For instance, the principle that \"you are who you choose to be\" by C.S. Lewis can be tied into making decisions about life goals. Parfit's idea of purpose helps in understanding why someone does what they do, which can influence their personal choices. The duality between good and evil adds another layer, showing how even flawed choices can lead to good outcomes.\n",
    "\n",
    "I should also address the balance between self-interest and otherness, especially during high-stress times like work or relationships. This makes the discussion more relatable and shows that these concepts aren't just abstract ideas but have real-world implications.\n",
    "\n",
    "The conclusion might be about trusting oneself and following one's core values, which ties back to the broader theme of right person/wrong time. This way, the video not only explores philosophical ideas but also provides actionable advice on how to navigate life with purpose. \n",
    "\n",
    "</details>\n"
   ]
  }
 ],
 "metadata": {
  "citation-manager": {
   "items": {}
  },
  "kernelspec": {
   "display_name": "Python 3-12 (COMM4190)",
   "language": "python",
   "name": "python3-12_comm4190"
  },
  "language_info": {
   "codemirror_mode": {
    "name": "ipython",
    "version": 3
   },
   "file_extension": ".py",
   "mimetype": "text/x-python",
   "name": "python",
   "nbconvert_exporter": "python",
   "pygments_lexer": "ipython3",
   "version": "3.12.8"
  }
 },
 "nbformat": 4,
 "nbformat_minor": 5
}
