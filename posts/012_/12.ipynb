{
 "cells": [
  {
   "cell_type": "raw",
   "id": "6964b7aa-30b5-4077-a969-c893b8f7b7f7",
   "metadata": {},
   "source": [
    "---\n",
    "title: \"Sisyphus 55 (AI Version)\"\n",
    "description: \"The thing I've learned is to expect nothing and accept everything.\n",
    "author: \"Jenn Deng\"\n",
    "date: \"3/18/2025\"\n",
    "categories:\n",
    "  - LLMs\n",
    "  - prompting\n",
    "  - logic\n",
    "  - philosophy\n",
    "---"
   ]
  },
  {
   "cell_type": "markdown",
   "id": "2ee283de-3674-4176-801b-400761e926a8",
   "metadata": {},
   "source": [
    "# Can AI Think Like a Philosopher"
   ]
  },
  {
   "cell_type": "markdown",
   "id": "a6f84d1b-0bab-402a-8ca0-e17e14cbd379",
   "metadata": {},
   "source": [
    "\n",
    "---\n"
   ]
  },
  {
   "cell_type": "markdown",
   "id": "58ef2adc-cd16-4ebe-95bd-195f989b08c5",
   "metadata": {},
   "source": [
    "<img src=\"1.png\" width=\"100%\" />"
   ]
  },
  {
   "cell_type": "markdown",
   "id": "a1f02372-4060-4e9e-b4a5-2c2f20062907",
   "metadata": {},
   "source": [
    "[![Sisyphus 55 YouTube](https://img.shields.io/badge/Click-here)](https://www.youtube.com/@Sisyphus55)\n"
   ]
  },
  {
   "cell_type": "markdown",
   "id": "de5e0535-7456-4b43-83a6-1d9266fbbc66",
   "metadata": {},
   "source": [
    "----"
   ]
  },
  {
   "cell_type": "markdown",
   "id": "a14f1d68-2940-4c12-98d9-5967491cf4d7",
   "metadata": {},
   "source": [
    "One day while I got bored of watching the same *Greys Anatomy* clips on YouTube, I stumbled across a video called \"love without attachment\" by **Sisyphus 55** and instantly fell into a deep loop of watching all his videos. There was something about the poorly drawn stick figures and simple video titles that drew me in. \n",
    "</br>\n",
    "</br>\n",
    "<img src=\"2.png\" width=\"100%\" />\n",
    "</br>\n",
    "</br>"
   ]
  },
  {
   "cell_type": "markdown",
   "id": "7867452a-fbd0-4334-90a3-fad3c29857d2",
   "metadata": {},
   "source": [
    "**Sisyphus 55** is an American-Canadian YouTuber who makes videos about philosophy, empathy, and modern thinkers. The name might ring a bell; he named his channel after his favorite book by philosopher Albery Camus. </br>\n",
    "</br>\n",
    "He makes a ton of videos analyzying and critiquing philosophers, both modern and ancient ones. You might've seen his video **NIETZSCHE:THE MAN WHO VIBE CHECKED GOD** or **THE SCARIEST PHILOSOPHERS OF ALL TIME**. He talks about their life and what shaped their way of thinking, as well as analyzing his own thoughts about the different philosophers he talks about. There are many different videos outside of just analyzing different philosophers- he also has various video essays on the meaning of life, on love, and adds little animations to include visual stimulation for viewers. </br>\n",
    "</br>"
   ]
  },
  {
   "cell_type": "markdown",
   "id": "b70778fd-7f7a-45e4-a899-d719ff012bf6",
   "metadata": {},
   "source": [
    "There are a lot of great videos on this channel. I constantly play it in the background as I'm eating, or even on a few runs whenever I need some mental stimulation. Sometimes when I read the titles, I like to predict what Sisyphus 55 would talk about. </br>\n",
    "</br>"
   ]
  },
  {
   "cell_type": "markdown",
   "id": "0151e8c5-dff3-46e5-932d-471958289171",
   "metadata": {},
   "source": [
    "In this blog post, I want to see what **deepseek-r1:1.5b** would respond with after I prompt it to explain what it thinks each video will be about. I want to also see if I'll be able to get any philosophical ideas from **deepseek** and engage on the"
   ]
  }
 ],
 "metadata": {
  "citation-manager": {
   "items": {}
  },
  "kernelspec": {
   "display_name": "Python 3-12 (COMM4190)",
   "language": "python",
   "name": "python3-12_comm4190"
  },
  "language_info": {
   "codemirror_mode": {
    "name": "ipython",
    "version": 3
   },
   "file_extension": ".py",
   "mimetype": "text/x-python",
   "name": "python",
   "nbconvert_exporter": "python",
   "pygments_lexer": "ipython3",
   "version": "3.12.8"
  }
 },
 "nbformat": 4,
 "nbformat_minor": 5
}
