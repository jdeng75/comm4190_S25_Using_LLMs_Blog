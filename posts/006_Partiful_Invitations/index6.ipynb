{
 "cells": [
  {
   "cell_type": "raw",
   "id": "f24f50a6-9e27-4ec0-9596-abc2567a97bc",
   "metadata": {},
   "source": [
    "---\n",
    "title: \"Partiful Invitations\"\n",
    "description: \"You're Invited!\"\n",
    "author: \"Jenn Deng\"\n",
    "date: \"2/17/2024\"\n",
    "categories:\n",
    "  - LLMs\n",
    "  - prompting\n",
    "---"
   ]
  },
  {
   "cell_type": "markdown",
   "id": "405b1469-7e50-45ac-8f93-d59be1c99308",
   "metadata": {},
   "source": [
    "# What will help me create the best partiful invitation posters?"
   ]
  },
  {
   "cell_type": "markdown",
   "id": "7c2fa6c7-6bc8-4c6c-b040-fcb0b9fe2998",
   "metadata": {},
   "source": [
    "<img src=\"_.jpeg\" width=\"100%\"/>"
   ]
  },
  {
   "cell_type": "markdown",
   "id": "e60436b5-02f7-40ef-b5da-6cc97460ef6e",
   "metadata": {},
   "source": [
    "I love hosting events at my house. And ever since the invention of Partiful, it's been the most helpful thing when organizing gatherings and seeing who will come"
   ]
  },
  {
   "cell_type": "markdown",
   "id": "302114c8-6257-4c78-a085-2e443e808baa",
   "metadata": {},
   "source": [
    "However, I'm not a particularly creative person. I don't really paint, I don't really draw, the best thing I can do is knit...."
   ]
  },
  {
   "cell_type": "markdown",
   "id": "1c0b160e-ff8a-49e0-93ec-e2063be97927",
   "metadata": {},
   "source": [
    "This means I'm not the best at creating the best paritful invitations. Take for example.. this invitation I created for my going-away-study-abroad gathering"
   ]
  },
  {
   "cell_type": "markdown",
   "id": "f44cb0d8-cf67-4647-91a9-9fec8769d96b",
   "metadata": {},
   "source": [
    "## Jenn's London Going-Away-Study-Abroad-Celebration"
   ]
  },
  {
   "cell_type": "markdown",
   "id": "b68684ef-176e-4f89-b084-3d585674b155",
   "metadata": {},
   "source": [
    "<img src=\"Partiful.png\" width=\"100%\"/>"
   ]
  },
  {
   "cell_type": "markdown",
   "id": "66226a6a-75ff-44fd-92ec-442a3f648fbd",
   "metadata": {},
   "source": [
    "Hey! People did come! I had a lot of messages about how funny the poster was. But I think I could've done better."
   ]
  },
  {
   "cell_type": "markdown",
   "id": "a87494da-caf5-4a1b-9d3e-229c3eb3a830",
   "metadata": {},
   "source": [
    "I'm a very particular person though. I also believe that a party invitation could really influence people's preemptive thoughts about a celebration. Take these other invitations for example: "
   ]
  },
  {
   "cell_type": "markdown",
   "id": "19ee4c3c-515d-4489-83cd-0e97694fd2fc",
   "metadata": {},
   "source": [
    "<img src=\"Lunar.png\" width=\"100%\"/>"
   ]
  },
  {
   "cell_type": "markdown",
   "id": "28408e9c-5459-4770-a0c1-e0bdae313133",
   "metadata": {},
   "source": [
    "Hand drawing one takes too long, looking for a specific one on pinterest makes my head hurt, so I was wondering if I could test out finding the perfect poster by prompting anthropic/claude-3.5-sonnet,gpt-4o, and deepseek-r1:1.5b. Let's see which one does better in understanding my style and creating these posters."
   ]
  },
  {
   "cell_type": "markdown",
   "id": "60da74d5-7aca-4627-9ef5-cc1c019f92a0",
   "metadata": {},
   "source": [
    "# Round 1 : A nice dinner invitation"
   ]
  },
  {
   "cell_type": "markdown",
   "id": "ba3179db-2a47-415d-85a7-7fc516494d9c",
   "metadata": {},
   "source": [
    "It's my last semester here at Penn and I need to host more dinner invitations. I've been looking around pinterest and here are some nice themes and inspirtation that I'd like to copy for my partiful invitations."
   ]
  },
  {
   "cell_type": "markdown",
   "id": "108c923a-6e7a-4872-99e0-8618cd0ef22e",
   "metadata": {},
   "source": [
    "::: {style=\"display: grid;grid-template-columns: repeat(auto-fill, minmax(150px, 1fr));grid-gap: 1em;\"}\n",
    "\n",
    "![A Lovely Image](dinner1.jpeg){group=\"my-gallery\"}\n",
    "\n",
    "![Another Lovely Image](dinner2.jpeg){group=\"my-gallery\"}\n",
    "\n",
    "![The Last Lovely Image](dinner3.jpeg){group=\"my-gallery\"}\n",
    "\n",
    ":::"
   ]
  },
  {
   "cell_type": "markdown",
   "id": "29f76d86-2e0a-4952-9782-54b77b789d48",
   "metadata": {},
   "source": [
    "Beautiful! Aren't they! It would take me forever to search these on pinterest, so let me ask what this artistic style is to make it easier to search."
   ]
  },
  {
   "cell_type": "markdown",
   "id": "b409c760-cb17-4e41-83ca-dd362a9af64a",
   "metadata": {},
   "source": [
    "### Prompt: What is this artistic style called?"
   ]
  },
  {
   "cell_type": "markdown",
   "id": "236d254d-cfc8-4233-9229-342edcd138ed",
   "metadata": {},
   "source": [
    "**Claude** : </br>\n",
    "This appears to be a line art or line drawing style, specifically done in a single color (red) on a light background. The illustration style is reminiscent of vintage or traditional etching or engraving techniques, though it's rendered in a more loose, sketchy manner. The artwork has a delicate, elegant quality typical of what you might see in formal invitation designs or editorial illustrations. The style could also be described as minimalist or monochromatic illustration.\n",
    "The drawing technique appears to use continuous line work with varying line weights to create depth and detail, particularly in the candelabra and floral elements. This style is sometimes called \"continuous line drawing\" or \"single line illustration\" when done in this flowing, unbroken manner."
   ]
  },
  {
   "cell_type": "markdown",
   "id": "b5499757-c8d1-4f68-97aa-0ee6625adc24",
   "metadata": {},
   "source": [
    "**gpt-4o**: </br>\n",
    "The artistic style in the image is reminiscent of modern line art combined with minimalism. It features simplistic line drawings with a limited color palette, focusing on contour and form to convey the subject without intricate details. The style emphasizes elegance and clarity, often used for its aesthetic appeal in contemporary design."
   ]
  },
  {
   "cell_type": "markdown",
   "id": "77091251-671a-4cb1-ab59-3d57744bd789",
   "metadata": {},
   "source": [
    "**deepseek**: </br>\n",
    "*Thought for 1 seconds* </br>\n",
    "Alright, the user is asking about an artistic style based on a provided image. But I don't have access to images or external content. Hmm, that's a bit tricky. Maybe they meant to describe a style rather than reference something specific? Or perhaps they forgot to include the image details.</br>\n",
    "I should respond in a way that encourages them to share more about what they're referring to. That might help me identify it better. I'll make sure to keep my response friendly and open, letting them know I'm here to help once they provide more information.</br>\n",
    "It seems like you mentioned an image but did not include the details or description of the artistic style you are referring to. Could you please describe the style or provide some key characteristics from the image? This will help me better understand what you're asking about!"
   ]
  },
  {
   "cell_type": "markdown",
   "id": "5f069d81-e49f-4e60-bb38-e32bfaf2291e",
   "metadata": {},
   "source": [
    "<div class=\"warning\" style='padding:0.1em; background-color:#E9D8FD; color:#69337A'>\n",
    "<span>\n",
    "<p style='margin-top:1em; text-align:left'>\n",
    "<b>Jenn's Thoughts </b></p>\n",
    "<p style='margin-left:1em;'>\n",
    "For a very brief overview of the image, I think gpt-4o does a good job of keeping the description short and simple. However, it doesn't do a good job of telling me what style the poster is in. </br>\n",
    "I think that claude does the best in terms of describing the poster, as well as telling me the name of the art style. The wording also sounds informal, as though it was a real life art critic. </br>\n",
    "Deepseek doesn't do a good job, though, it explains the way that it interprets my question. It tells me that it doesn't have access to images or external content, which is a big con.\n",
    "</p>\n",
    "</p></span>\n",
    "</div>"
   ]
  },
  {
   "cell_type": "markdown",
   "id": "e2b288e5-3f83-4c5e-99c1-ff91ae8e3276",
   "metadata": {},
   "source": [
    "# Round 2: Creating a Nice Dinner Invitation"
   ]
  },
  {
   "cell_type": "markdown",
   "id": "2b28d7b9-3312-42d0-86fd-0c9753ddee20",
   "metadata": {},
   "source": [
    "I'm not sure if we'll be able to get anything from Deepseek, but it's looking pretty promising if we use Claude."
   ]
  },
  {
   "cell_type": "markdown",
   "id": "cb42a524-f930-4e59-a6de-c0805a987ffa",
   "metadata": {},
   "source": [
    "### Prompt: Ok, now that you know this artistic style, I'm looking for help in creating a dinner invitation. Please create an image similar to this art style, with the event being called \"Jenn's Dinner\", the date being March 1st, and the time being 8:00pm."
   ]
  },
  {
   "cell_type": "markdown",
   "id": "c9365a75-727e-4ff5-8f01-3646d92ef109",
   "metadata": {},
   "source": [
    "**Claude** : \n",
    "I apologize, but I am not able to create, generate, edit, manipulate or produce images. I can only perceive and analyze images that are shared with me. </br>\n",
    "For creating your dinner invitation, I'd recommend: </br>\n",
    "1. Working with a graphic designer who can create custom artwork in this style\n",
    "2. Using design platforms like Canva or Adobe Creative Suite if you have design experience\n",
    "3. Looking for similar templates on websites like Etsy or Creative Market\n",
    "4. Working with a local stationery shop that offers custom invitation design services\n",
    "\n",
    "The style you're referencing - with its elegant line drawings in monochromatic red, featuring candelabras and florals - would make for a beautiful dinner invitation. But you'll need to work with a human artist or designer to create it."
   ]
  },
  {
   "cell_type": "markdown",
   "id": "b8c1b459-c244-45b9-a569-06e109c9535f",
   "metadata": {},
   "source": [
    "**gpt-4o** : \n",
    "I can't create or edit images directly, but I can guide you on how to create a similar invitation.\n",
    "1. **Software Selection**: Use a graphic design tool like Adobe Illustrator, Canva, or even free alternatives like Inkscape.\n",
    "2. **Canvas Setup**: Start with a blank canvas in a standard invitation size (e.g., 5x7 inches).\n",
    "3. **Background**: Keep the background simple with a neutral color, like cream or light beige.\n",
    "4. **Line Art**: Draw or insert elements like candles, plates, or floral designs using a maroon or deep red line. You can use vector line art graphics available online to speed up the process.\n",
    "5. **Text Setup**:\n",
    "Use a classy serif font or a handwritten font for elegance. \n",
    "Place the event name at the top: “Jenn’s Dinner” \n",
    "Include the date below: “March 1st” \n",
    "Add the time: “8:00pm”\n",
    "6. **Layout**: Arrange the text and line art elements cleanly and symmetrically, ensuring there's ample white space for an uncluttered look.\n",
    "7. **Final Touches**: Adjust elements for balance and harmony, and ensure all text is legible and prominent.\n",
    "Remember, simplicity is key to achieving a similar minimalist and elegant style."
   ]
  },
  {
   "cell_type": "markdown",
   "id": "0019a57e-356d-44aa-ae47-6d41e24a0f8d",
   "metadata": {},
   "source": [
    "**Deepseek** :\n",
    "<details type=\"reasoning\" done=\"true\" duration=\"3\">\n",
    "<summary>Thought for 3 seconds</summary>\n",
    "> Alright, so let me try to figure out how to approach this. The user previously asked about an artistic style, which I couldn't access because they didn't provide details. Now, after that, they want help creating a dinner invitation based on that style. \n",
    "> \n",
    "> First, I need to understand what kind of artistic style they're referring to. Since I don't have the specifics from before, maybe they mentioned a particular style like vintage or op art. But since it's not here, I'll make an educated guess.\n",
    "> \n",
    "> Vinegar and vinegar mixed colors with pink are often used in op art or retro styles, giving a nostalgic feel. So, combining elegant elements with vintage touches sounds plausible. They want the event called \"Jenn's Dinner\" on March 1st at 8 PM, so it should be practical and timely.\n",
    "> \n",
    "> I'll structure the invitation to have a warm color scheme—maybe warm whites with some gold accents. Adding a romantic note like \"from my mother's side of the road\" can tie into a vintage vibe. Using greenery and a vintage ribbon could give that vintage feel. Including notes for children, guests, and adults makes it inclusive. Ending with family photos adds a personal touch.\n",
    "> \n",
    "> I should ensure the design is elegant yet approachable, making it easy for a modern guest to recognize. I'll include some sample images and instructions in text to guide them on how to create it. Also, adding an image link will help visualize the style better.\n",
    "</details>\n",
    "To create a dinner invitation that captures the artistic style associated with your query (which seems to be inspired by \"vintage\" or \"op art\"), here's a design for \"Jenn's Dinner\":\n",
    "\n",
    "---\n",
    "\n",
    "**[Image Title: Vintage Dinner Invitation with Op Art Details]**\n",
    "\n",
    "**[A warm, elegant dinner invitation with a vintage twist.]**\n",
    "- **Event:** Jenn's Dinner  \n",
    "  - **Date & Time:** March 1st, 8:00 PM  \n",
    "    - **From my mother's side of the road. I want to be remembered and cherished for years to come.**  \n",
    "    - **This is your chance to tell your story in style.**  \n",
    "\n",
    "**[Design Elements:**\n",
    "- Warm, golden-colored paper with gold leaf and greenery (like leaves or flowers).\n",
    "- A vintage ribbon or silver thread tied in a small bow.\n",
    "- A romantic message such as: \"From my mother's side of the road. I want to be remembered and cherished for years to come.\"\n",
    "- Small family photos included at the bottom of each invitation.\n",
    "- A decorative element, like a vintage clock face on the dinner table.\n",
    "\n",
    "---\n",
    "\n",
    "**[Instructions for Creating the Invitation]**\n",
    "\n",
    "1. Create a warm, golden-colored paper using scissors or markers.\n",
    "2. Add gold leaf to the back of the paper to give it that vintage, op art feel.\n",
    "3. Attach greenery elements (leaves, flowers) to make the invitation look more elegant.\n",
    "4. Add a vintage ribbon or silver thread tied in a small bow.\n",
    "5. Write the date and time on a card or sticky note.\n",
    "6. Include a small family photo or portrait at the bottom of each envelope.\n",
    "\n",
    "---\n",
    "\n",
    "**[Sample Images]**\n",
    "\n",
    "1. A dinner invitation with a vintage ribbon attached to the center.\n",
    "2. An elegant, op art-style design with golden leaves and greenery.\n",
    "3. A vintage-mimic invitation that captures the essence of a modern dinner date.\n",
    "\n",
    "---\n",
    "\n",
    "This style combines elegance with a nostalgic touch, creating a timeless and romantic dinner invitation for \"Jenn's Dinner.\""
   ]
  },
  {
   "cell_type": "markdown",
   "id": "d9897665-e84c-42db-909d-5749538d5807",
   "metadata": {},
   "source": [
    "<div class=\"warning\" style='padding:0.1em; background-color:#E9D8FD; color:#69337A'>\n",
    "<span>\n",
    "<p style='margin-top:1em; text-align:left'>\n",
    "<b>Jenn's Thoughts </b></p>\n",
    "<p style='margin-left:1em;'>\n",
    "I've been having this issue where I can't get the chats to produce images or posters. Though, even when describing how I should create the poster, it's surprising to see that Deepseek does the best in guiding me.\n",
    "I wanted to see if I could fix the issue, so I went to my personal ChatGPT account and it was able to create an image for me after a few prompts. Here's what happened.\n",
    "</p>\n",
    "</p></span>\n",
    "</div>"
   ]
  },
  {
   "cell_type": "markdown",
   "id": "49942f34-7895-441d-a168-00d468ed6ea0",
   "metadata": {},
   "source": [
    "# Round 2.5 : Jenn's Personal ChatGPT Test"
   ]
  },
  {
   "cell_type": "markdown",
   "id": "d1167101-e043-4193-87c3-544fc63e6892",
   "metadata": {},
   "source": [
    "> Jenn : Create a similar image please"
   ]
  },
  {
   "cell_type": "markdown",
   "id": "3a2b8088-bcbf-4595-99cb-1a044ba867cc",
   "metadata": {},
   "source": [
    "> ChatGPT-4o : </br>\n",
    "<img src=\"create1.png\" width=\"100%\"/> </br>\n",
    "Here is your vintage-style dinner party invitation, featuring elegant hand-drawn illustrations of a candlelit dinner table with delicate floral decorations and fine dining elements. Let me know if you'd like any modifications!\n"
   ]
  },
  {
   "cell_type": "markdown",
   "id": "29e3af20-e184-406b-98dc-8894a9cd3160",
   "metadata": {},
   "source": [
    "> Jenn : create it in a continuous line drawing style please"
   ]
  },
  {
   "cell_type": "markdown",
   "id": "86527196-c3d2-42cb-8828-b1107b943514",
   "metadata": {},
   "source": [
    "> ChatGPT-4o :\n",
    "> <img src=\"create2.png\" width=\"100%\"/> </br>\n",
    "Here is your dinner party invitation in a continuous line drawing style. Let me know if you need any adjustments!"
   ]
  },
  {
   "cell_type": "markdown",
   "id": "91630aa3-a7c4-4dde-9017-50681f3db7c7",
   "metadata": {},
   "source": [
    "<div class=\"warning\" style='padding:0.1em; background-color:#E9D8FD; color:#69337A'>\n",
    "<span>\n",
    "<p style='margin-top:1em; text-align:left'>\n",
    "<b>Jenn's Thoughts </b></p>\n",
    "<p style='margin-left:1em;'>\n",
    "Mmmmm this looks good to me. It's a little dense. However, it follows the style that I want in my invitations. And now that Claudia was able to help me understand that the style is continuous drawings, I'm able to search this up on Pinterest and get my inspiration.\n",
    "</p>\n",
    "</p></span>\n",
    "</div>"
   ]
  },
  {
   "cell_type": "code",
   "execution_count": null,
   "id": "0be26721-8229-4ac1-9e93-2536524ad6f3",
   "metadata": {},
   "outputs": [],
   "source": []
  }
 ],
 "metadata": {
  "kernelspec": {
   "display_name": "Python 3 (ipykernel)",
   "language": "python",
   "name": "python3"
  },
  "language_info": {
   "codemirror_mode": {
    "name": "ipython",
    "version": 3
   },
   "file_extension": ".py",
   "mimetype": "text/x-python",
   "name": "python",
   "nbconvert_exporter": "python",
   "pygments_lexer": "ipython3",
   "version": "3.10.12"
  }
 },
 "nbformat": 4,
 "nbformat_minor": 5
}
