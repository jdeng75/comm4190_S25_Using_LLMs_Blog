{
 "cells": [
  {
   "cell_type": "raw",
   "id": "f24f50a6-9e27-4ec0-9596-abc2567a97bc",
   "metadata": {},
   "source": [
    "---\n",
    "title: \"Partiful Invitations\"\n",
    "description: \"You're Invited!\"\n",
    "author: \"Jenn Deng\"\n",
    "date: \"2/17/2024\"\n",
    "categories:\n",
    "  - LLMs\n",
    "  - prompting\n",
    "---"
   ]
  },
  {
   "cell_type": "markdown",
   "id": "405b1469-7e50-45ac-8f93-d59be1c99308",
   "metadata": {},
   "source": [
    "# What will help me create the best partiful invitation posters?"
   ]
  },
  {
   "cell_type": "markdown",
   "id": "7c2fa6c7-6bc8-4c6c-b040-fcb0b9fe2998",
   "metadata": {},
   "source": [
    "<img src=\"_.jpeg\" width=\"100%\"/>"
   ]
  },
  {
   "cell_type": "markdown",
   "id": "e60436b5-02f7-40ef-b5da-6cc97460ef6e",
   "metadata": {},
   "source": [
    "###### I love hosting events at my house. And ever since the invention of Partiful, it's been the most helpful thing when organizing gatherings and seeing who will come"
   ]
  },
  {
   "cell_type": "markdown",
   "id": "302114c8-6257-4c78-a085-2e443e808baa",
   "metadata": {},
   "source": [
    "###### However, I'm not a particularly creative person. I don't really paint, I don't really draw, the best thing I can do is knit...."
   ]
  },
  {
   "cell_type": "markdown",
   "id": "1c0b160e-ff8a-49e0-93ec-e2063be97927",
   "metadata": {},
   "source": [
    "###### This means I'm not the best at creating the best paritful invitations. Take for example.. this invitation I created for my going-away-study-abroad gathering"
   ]
  },
  {
   "cell_type": "markdown",
   "id": "f44cb0d8-cf67-4647-91a9-9fec8769d96b",
   "metadata": {},
   "source": [
    "## Jenn's London Going-Away-Study-Abroad-Celebration"
   ]
  },
  {
   "cell_type": "markdown",
   "id": "b68684ef-176e-4f89-b084-3d585674b155",
   "metadata": {},
   "source": [
    "<img src=\"Partiful.png\" width=\"100%\"/>"
   ]
  },
  {
   "cell_type": "markdown",
   "id": "66226a6a-75ff-44fd-92ec-442a3f648fbd",
   "metadata": {},
   "source": [
    "###### Hey! People did come! I had a lot of messages about how funny the poster was. But I think I could've done better."
   ]
  },
  {
   "cell_type": "markdown",
   "id": "a87494da-caf5-4a1b-9d3e-229c3eb3a830",
   "metadata": {},
   "source": [
    "###### I'm a very particular person though. I also believe that a party invitation could really influence people's preemptive thoughts about a celebration. Take these other invitations for example: "
   ]
  },
  {
   "cell_type": "markdown",
   "id": "19ee4c3c-515d-4489-83cd-0e97694fd2fc",
   "metadata": {},
   "source": [
    "<img src=\"Lunar.png\" width=\"100%\"/>"
   ]
  },
  {
   "cell_type": "markdown",
   "id": "28408e9c-5459-4770-a0c1-e0bdae313133",
   "metadata": {},
   "source": [
    "###### Hand drawing one takes too long, looking for a specific one on pinterest makes my head hurt, so I was wondering if I could test out finding the perfect poster by prompting anthropic/claude-3.5-sonnet,gpt-4o, and deepseek-r1:1.5b. Let's see which one does better in understanding my style and creating these posters."
   ]
  },
  {
   "cell_type": "markdown",
   "id": "60da74d5-7aca-4627-9ef5-cc1c019f92a0",
   "metadata": {},
   "source": [
    "# Round 1 : Creating a nice dinner invitation"
   ]
  },
  {
   "cell_type": "markdown",
   "id": "ba3179db-2a47-415d-85a7-7fc516494d9c",
   "metadata": {},
   "source": [
    "###### It's my last semester here at Penn and I need to host more dinner invitations. I've been looking around pinterest and here are some nice themes and inspirtation that I'd like to copy for my partiful invitations."
   ]
  },
  {
   "cell_type": "raw",
   "id": "64d9346e-9989-4af5-b2b3-b4780ac84106",
   "metadata": {},
   "source": [
    "---\n",
    "lightbox: true\n",
    "---"
   ]
  },
  {
   "cell_type": "markdown",
   "id": "108c923a-6e7a-4872-99e0-8618cd0ef22e",
   "metadata": {},
   "source": [
    "::: {style=\"display: grid;grid-template-columns: repeat(auto-fill, minmax(150px, 1fr));grid-gap: 1em;\"}\n",
    "\n",
    "![A Lovely Image](dinner1.jpeg){group=\"my-gallery\"}\n",
    "\n",
    "![Another Lovely Image](dinner2.jpeg){group=\"my-gallery\"}\n",
    "\n",
    "![The Last Lovely Image](dinner3.jpeg){group=\"my-gallery\"}"
   ]
  },
  {
   "cell_type": "markdown",
   "id": "29f76d86-2e0a-4952-9782-54b77b789d48",
   "metadata": {},
   "source": [
    "###### Beautiful! Aren't they! It would take me forever to search these on pinterest, so let me ask what this artistic style is to make it easier to search."
   ]
  },
  {
   "cell_type": "markdown",
   "id": "b409c760-cb17-4e41-83ca-dd362a9af64a",
   "metadata": {},
   "source": [
    "### Prompt: What is this artistic style called?"
   ]
  },
  {
   "cell_type": "markdown",
   "id": "236d254d-cfc8-4233-9229-342edcd138ed",
   "metadata": {},
   "source": [
    "> Claude : </br>\n",
    "This appears to be a line art or line drawing style, specifically done in a single color (red) on a light background. The illustration style is reminiscent of vintage or traditional etching or engraving techniques, though it's rendered in a more loose, sketchy manner. The artwork has a delicate, elegant quality typical of what you might see in formal invitation designs or editorial illustrations. The style could also be described as minimalist or monochromatic illustration.\n",
    "The drawing technique appears to use continuous line work with varying line weights to create depth and detail, particularly in the candelabra and floral elements. This style is sometimes called \"continuous line drawing\" or \"single line illustration\" when done in this flowing, unbroken manner."
   ]
  },
  {
   "cell_type": "markdown",
   "id": "b5499757-c8d1-4f68-97aa-0ee6625adc24",
   "metadata": {},
   "source": [
    "> gpt-4o: </br>\n",
    "The artistic style in the image is reminiscent of modern line art combined with minimalism. It features simplistic line drawings with a limited color palette, focusing on contour and form to convey the subject without intricate details. The style emphasizes elegance and clarity, often used for its aesthetic appeal in contemporary design."
   ]
  },
  {
   "cell_type": "markdown",
   "id": "77091251-671a-4cb1-ab59-3d57744bd789",
   "metadata": {},
   "source": [
    "> deepseek: </br>\n",
    "*Thought for 1 seconds* </br>\n",
    "Alright, the user is asking about an artistic style based on a provided image. But I don't have access to images or external content. Hmm, that's a bit tricky. Maybe they meant to describe a style rather than reference something specific? Or perhaps they forgot to include the image details.</br>\n",
    "I should respond in a way that encourages them to share more about what they're referring to. That might help me identify it better. I'll make sure to keep my response friendly and open, letting them know I'm here to help once they provide more information.</br>\n",
    "It seems like you mentioned an image but did not include the details or description of the artistic style you are referring to. Could you please describe the style or provide some key characteristics from the image? This will help me better understand what you're asking about!"
   ]
  },
  {
   "cell_type": "markdown",
   "id": "5f069d81-e49f-4e60-bb38-e32bfaf2291e",
   "metadata": {},
   "source": [
    "<div class=\"warning\" style='padding:0.1em; background-color:#E9D8FD; color:#69337A'>\n",
    "<span>\n",
    "<p style='margin-top:1em; text-align:left'>\n",
    "<b>Jenn's Thoughts </b></p>\n",
    "<p style='margin-left:1em;'>\n",
    "For a very brief overview of the image, I think gpt-4o** does a good job of keeping the description short and simple. However, it doesn't do a good job of telling me what style the poster is in. </br>\n",
    "I think that claude does the best in terms of describing the poster, as well as telling me the name of the art style. The wording also sounds informal, as though it was a real life art critic. </br>\n",
    "Deepseek doesn't do a good job, though, it explains the way that it interprets my question. It tells me that it doesn't have access to images or external content, which is a big con.\n",
    "</p>\n",
    "</p></span>\n",
    "</div>"
   ]
  }
 ],
 "metadata": {
  "kernelspec": {
   "display_name": "Python 3 (ipykernel)",
   "language": "python",
   "name": "python3"
  },
  "language_info": {
   "codemirror_mode": {
    "name": "ipython",
    "version": 3
   },
   "file_extension": ".py",
   "mimetype": "text/x-python",
   "name": "python",
   "nbconvert_exporter": "python",
   "pygments_lexer": "ipython3",
   "version": "3.10.12"
  }
 },
 "nbformat": 4,
 "nbformat_minor": 5
}
