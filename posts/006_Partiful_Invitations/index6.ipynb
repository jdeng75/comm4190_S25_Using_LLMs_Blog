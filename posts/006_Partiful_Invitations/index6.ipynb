{
 "cells": [
  {
   "cell_type": "raw",
   "id": "f24f50a6-9e27-4ec0-9596-abc2567a97bc",
   "metadata": {},
   "source": [
    "---\n",
    "title: \"Partiful Invitations\"\n",
    "description: \"You're Invited!\"\n",
    "author: \"Jenn Deng\"\n",
    "date: \"2/17/2024\"\n",
    "categories:\n",
    "  - LLMs\n",
    "  - prompting\n",
    "---"
   ]
  },
  {
   "cell_type": "markdown",
   "id": "7c2fa6c7-6bc8-4c6c-b040-fcb0b9fe2998",
   "metadata": {},
   "source": [
    "<img src=\"_.jpeg\" width=\"40%\"/>"
   ]
  },
  {
   "cell_type": "markdown",
   "id": "405b1469-7e50-45ac-8f93-d59be1c99308",
   "metadata": {},
   "source": [
    "# Can ChatGPT help me create nice partiful invitation posters?"
   ]
  },
  {
   "cell_type": "markdown",
   "id": "e60436b5-02f7-40ef-b5da-6cc97460ef6e",
   "metadata": {},
   "source": [
    "##### I love hosting events at my house. And ever since the invention of Partiful, it's been the most helpful thing when organizing gatherings and seeing who will come"
   ]
  },
  {
   "cell_type": "markdown",
   "id": "302114c8-6257-4c78-a085-2e443e808baa",
   "metadata": {},
   "source": [
    "##### However, I'm not a particularly creative person. I don't really paint, I don't really draw, the best thing I can do is knit...."
   ]
  },
  {
   "cell_type": "markdown",
   "id": "1c0b160e-ff8a-49e0-93ec-e2063be97927",
   "metadata": {},
   "source": [
    "##### This means I'm not the best at creating the best paritful invitations. Take for example.. this invitation I created for my going-away-study-abroad gathering"
   ]
  },
  {
   "cell_type": "markdown",
   "id": "f44cb0d8-cf67-4647-91a9-9fec8769d96b",
   "metadata": {},
   "source": [
    "## Jenn's London Going-Away-Study-Abroad-Celebration"
   ]
  },
  {
   "cell_type": "markdown",
   "id": "b68684ef-176e-4f89-b084-3d585674b155",
   "metadata": {},
   "source": [
    "<img src=\"Partiful.png\" width=\"40%\"/>"
   ]
  },
  {
   "cell_type": "markdown",
   "id": "66226a6a-75ff-44fd-92ec-442a3f648fbd",
   "metadata": {},
   "source": [
    "##### Hey! People did come! I had a lot of messages about how funny the poster was. But I think I could've done better."
   ]
  },
  {
   "cell_type": "markdown",
   "id": "a87494da-caf5-4a1b-9d3e-229c3eb3a830",
   "metadata": {},
   "source": [
    "##### I'm a very particular person though. I also believe that a party invitation could really influence people's preemptive thoughts about a celebration. Take these other invitations for example: "
   ]
  },
  {
   "cell_type": "markdown",
   "id": "19ee4c3c-515d-4489-83cd-0e97694fd2fc",
   "metadata": {},
   "source": [
    "<img src=\"Lunar.png\" width=\"40%\"/>"
   ]
  }
 ],
 "metadata": {
  "kernelspec": {
   "display_name": "Python 3 (ipykernel)",
   "language": "python",
   "name": "python3"
  },
  "language_info": {
   "codemirror_mode": {
    "name": "ipython",
    "version": 3
   },
   "file_extension": ".py",
   "mimetype": "text/x-python",
   "name": "python",
   "nbconvert_exporter": "python",
   "pygments_lexer": "ipython3",
   "version": "3.10.12"
  }
 },
 "nbformat": 4,
 "nbformat_minor": 5
}
