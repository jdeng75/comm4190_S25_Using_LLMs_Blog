{
 "cells": [
  {
   "cell_type": "raw",
   "id": "f24f50a6-9e27-4ec0-9596-abc2567a97bc",
   "metadata": {},
   "source": [
    "---\n",
    "title: \"Partiful Invitations\"\n",
    "description: \"You're Invited!\"\n",
    "author: \"Jenn Deng\"\n",
    "date: \"2/17/2024\"\n",
    "categories:\n",
    "  - LLMs\n",
    "  - prompting\n",
    "---"
   ]
  },
  {
   "cell_type": "markdown",
   "id": "405b1469-7e50-45ac-8f93-d59be1c99308",
   "metadata": {},
   "source": [
    "# What will help me create the best partiful invitation posters?"
   ]
  },
  {
   "cell_type": "markdown",
   "id": "7c2fa6c7-6bc8-4c6c-b040-fcb0b9fe2998",
   "metadata": {},
   "source": [
    "<img src=\"_.jpeg\" width=\"100%\"/>"
   ]
  },
  {
   "cell_type": "markdown",
   "id": "e60436b5-02f7-40ef-b5da-6cc97460ef6e",
   "metadata": {},
   "source": [
    "###### I love hosting events at my house. And ever since the invention of Partiful, it's been the most helpful thing when organizing gatherings and seeing who will come"
   ]
  },
  {
   "cell_type": "markdown",
   "id": "302114c8-6257-4c78-a085-2e443e808baa",
   "metadata": {},
   "source": [
    "###### However, I'm not a particularly creative person. I don't really paint, I don't really draw, the best thing I can do is knit...."
   ]
  },
  {
   "cell_type": "markdown",
   "id": "1c0b160e-ff8a-49e0-93ec-e2063be97927",
   "metadata": {},
   "source": [
    "###### This means I'm not the best at creating the best paritful invitations. Take for example.. this invitation I created for my going-away-study-abroad gathering"
   ]
  },
  {
   "cell_type": "markdown",
   "id": "f44cb0d8-cf67-4647-91a9-9fec8769d96b",
   "metadata": {},
   "source": [
    "## Jenn's London Going-Away-Study-Abroad-Celebration"
   ]
  },
  {
   "cell_type": "markdown",
   "id": "b68684ef-176e-4f89-b084-3d585674b155",
   "metadata": {},
   "source": [
    "<img src=\"Partiful.png\" width=\"100%\"/>"
   ]
  },
  {
   "cell_type": "markdown",
   "id": "66226a6a-75ff-44fd-92ec-442a3f648fbd",
   "metadata": {},
   "source": [
    "###### Hey! People did come! I had a lot of messages about how funny the poster was. But I think I could've done better."
   ]
  },
  {
   "cell_type": "markdown",
   "id": "a87494da-caf5-4a1b-9d3e-229c3eb3a830",
   "metadata": {},
   "source": [
    "###### I'm a very particular person though. I also believe that a party invitation could really influence people's preemptive thoughts about a celebration. Take these other invitations for example: "
   ]
  },
  {
   "cell_type": "markdown",
   "id": "19ee4c3c-515d-4489-83cd-0e97694fd2fc",
   "metadata": {},
   "source": [
    "<img src=\"Lunar.png\" width=\"100%\"/>"
   ]
  },
  {
   "cell_type": "markdown",
   "id": "28408e9c-5459-4770-a0c1-e0bdae313133",
   "metadata": {},
   "source": [
    "###### Hand drawing one takes too long, looking for a specific one on pinterest makes my head hurt, so I was wondering if I could test out finding the perfect poster by prompting ChatGPT, ____ aand ____"
   ]
  },
  {
   "cell_type": "markdown",
   "id": "60da74d5-7aca-4627-9ef5-cc1c019f92a0",
   "metadata": {},
   "source": [
    "# Round 1 : Creating a nice dinner invitation"
   ]
  },
  {
   "cell_type": "markdown",
   "id": "ba3179db-2a47-415d-85a7-7fc516494d9c",
   "metadata": {},
   "source": [
    "###### It's my last semester here at Penn and I need to host more dinner invitations. I've been looking around pinterest and here are some nice themes and inspirtation that I'd like to copy for my partiful invitations."
   ]
  },
  {
   "cell_type": "raw",
   "id": "64d9346e-9989-4af5-b2b3-b4780ac84106",
   "metadata": {},
   "source": [
    "---\n",
    "lightbox: true\n",
    "---"
   ]
  },
  {
   "cell_type": "markdown",
   "id": "108c923a-6e7a-4872-99e0-8618cd0ef22e",
   "metadata": {},
   "source": [
    "::: {style=\"display: grid;grid-template-columns: repeat(auto-fill, minmax(150px, 1fr));grid-gap: 1em;\"}\n",
    "\n",
    "![A Lovely Image](dinner1.jpeg){group=\"my-gallery\"}\n",
    "\n",
    "![Another Lovely Image](dinner2.jpeg){group=\"my-gallery\"}\n",
    "\n",
    "![The Last Lovely Image](dinner3.jpeg){group=\"my-gallery\"}"
   ]
  }
 ],
 "metadata": {
  "kernelspec": {
   "display_name": "Python 3 (ipykernel)",
   "language": "python",
   "name": "python3"
  },
  "language_info": {
   "codemirror_mode": {
    "name": "ipython",
    "version": 3
   },
   "file_extension": ".py",
   "mimetype": "text/x-python",
   "name": "python",
   "nbconvert_exporter": "python",
   "pygments_lexer": "ipython3",
   "version": "3.10.12"
  }
 },
 "nbformat": 4,
 "nbformat_minor": 5
}
