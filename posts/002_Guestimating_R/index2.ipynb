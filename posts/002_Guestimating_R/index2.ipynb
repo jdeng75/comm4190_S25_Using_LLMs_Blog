{
 "cells": [
  {
   "cell_type": "raw",
   "id": "7c4e685e-e92e-4397-834f-9265d64a5df2",
   "metadata": {},
   "source": [
    "---\n",
    "title: \"Guestimation and Making Graphs in R!\"\n",
    "description: \"Let's cook.\"\n",
    "author: \"Jenn Deng\"\n",
    "date: \"2/3/2024\"\n",
    "categories:\n",
    "  - LLMs\n",
    "  - prompting\n",
    "  - coding \n",
    "  - R\n",
    "---"
   ]
  },
  {
   "cell_type": "markdown",
   "id": "c68f7da1-67fb-432a-9b11-7e419d6266b6",
   "metadata": {},
   "source": [
    "# Guestimation and Making Graphs in R"
   ]
  },
  {
   "cell_type": "markdown",
   "id": "9dee7452-9de0-4d9e-8578-278c94e43e6d",
   "metadata": {},
   "source": [
    "* I also want to learn how to code more in R, and I really like graphs\n",
    "* I'm going to ask ChatGPT if they can give me code to make graphs.\n",
    "* These questions will be guestimations on what ChatGPT thinks of certain trend lines.\n",
    "\n",
    "### Let's cook."
   ]
  },
  {
   "cell_type": "markdown",
   "id": "5da41cb6-c509-48b5-98e1-7e423c85e73e",
   "metadata": {},
   "source": [
    "#### 1. Years Lived vs Amount of Friends\n",
    "</br>\n",
    "\n",
    "**Jenn asks**: Can you create R code for a graph to show your guestimation on years lived vs amount of friends.\n",
    "</br>\n",
    "\n",
    "**ChatGPT**:\n",
    "\n",
    "<img src=\"code1.png\" width=\"50%\"/>\n",
    "<img src=\"image1.png\" width=\"50%\"/>\n"
   ]
  },
  {
   "cell_type": "markdown",
   "id": "9a39a47d-f76a-4b1b-b75c-3b4e8a1799e3",
   "metadata": {},
   "source": [
    "When I asked why there was this trend, ChatGPT responded with\n",
    "</br>\n",
    "\n",
    "The trend I used in the R code is based on general social patterns observed in human friendships over a lifetime. Here’s why I shaped it that way:\n",
    "</br>\n",
    "\n",
    "1. Friendships Peak in Young Adulthood (20s-30s)\n",
    "People tend to have the most friends in their teens and 20s, especially in school, university, or early careers.\n",
    "Social environments like college, sports, clubs, and workplaces provide many opportunities for new friendships.\n",
    "There’s generally more free time for social activities before major life commitments (e.g., demanding careers, marriage, parenting).\n",
    "\n",
    "\n",
    "3. Gradual Decline in Middle Age (30s-50s)\n",
    "In the 30s and 40s, people often prioritize careers, families, and personal responsibilities, leading to less time for socializing.\n",
    "Some friendships naturally fade due to geographical moves, lifestyle changes, or shifting priorities.\n",
    "However, a smaller core group of close friends often remains.\n",
    "\n",
    "4. Further Decline in Older Age (60s-80s)\n",
    "Retirement, health issues, and the loss of peers contribute to fewer active friendships.\n",
    "Many elderly people rely more on family, close lifelong friends, or community groups rather than maintaining large social circles.\n",
    "Some older adults reconnect with old friends or develop new friendships in retirement communities, but the overall trend is downward.\n",
    "</br>\n",
    "Why This Trend Makes Sense? </br>\n",
    "\n",
    "</br>\n",
    "\n",
    "Social networks are largest in early adulthood when we have high social mobility and opportunity. \n",
    "</br>\n",
    "\n",
    "Life responsibilities impact time and effort spent on friendships as we grow older.\n",
    "</br>\n",
    "\n",
    "Aging naturally reduces social engagement, with some maintaining strong bonds but a smaller total number of friends.\n",
    "</br>\n",
    "Of course, this is a generalization—individual experiences vary widely! Some people maintain or even expand their social circles in later years. Would you like me to adjust the model to include different factors, such as personality types or social media influence?"
   ]
  },
  {
   "cell_type": "markdown",
   "id": "06594309-c800-4258-8c79-69f4ff94f407",
   "metadata": {},
   "source": [
    "</br>\n",
    "\n",
    "**And honestly, I think their prediction and trend line is correct. Let us move on...**"
   ]
  },
  {
   "cell_type": "markdown",
   "id": "a268c7ae-7f60-4f2d-be32-12fdeef27ab4",
   "metadata": {},
   "source": [
    "#### 2. Age vs Breast Cancer Rates \n",
    "</br>\n",
    "\n",
    "**Jenn asks**: and can you write code for age vs breast cancer rates \n",
    "</br>\n",
    "\n",
    "**ChatGPT**:\n",
    "</br>\n",
    "\n",
    "<img src=\"code2.png\" width=\"50%\"/>\n",
    "<img src=\"image2.png\" width=\"50%\"/>\n"
   ]
  },
  {
   "cell_type": "markdown",
   "id": "62645e41-fa04-4aa8-8ee6-4dcef5da178a",
   "metadata": {},
   "source": [
    "* When I ask why they think it exhibits this trend:\n",
    "  \n",
    "Why This Trend?\n",
    "</br>\n",
    "\n",
    "Young women (20-30s): Very low breast cancer rates.\n",
    "Middle age (40-50s): Rates begin to rise due to hormonal and genetic factors.\n",
    "</br>\n",
    "\n",
    "Older age (60-80s): Highest incidence rates, as risk accumulates over time.\n",
    "</br>\n",
    "\n",
    "This is a simplified model based on general trends seen in epidemiology. Would you like a more specific model with real-world data, or adjustments to include factors like genetic risk?"
   ]
  },
  {
   "cell_type": "markdown",
   "id": "c6d8ec7c-e515-4e26-b740-fb80d41cdabb",
   "metadata": {
    "jp-MarkdownHeadingCollapsed": true
   },
   "source": [
    "#### Overall Conclusions\n",
    "</br>\n",
    "\n",
    "I’ve always considered ChatGPT a reliable tool when it comes to helping me understand code in different languages,especially in R. Typically, I use it to assist with analyzing existing datasets, helping me troubleshoot or improve my workflow. However, today I was genuinely impressed by how I only needed to ask a few conceptual questions, and it was able to generate solid estimations and code that made sense. Not only did the graphs it produced align well with the trends I was curious about, but the R code ran smoothly and gave me exactly the visualizations I needed.\n",
    "</br>\n",
    "\n",
    "That’s what struck me the most—this wasn’t just assistance with tweaking existing code or interpreting output. ChatGPT created data, understood the implications of trend lines, and executed flawless visualizations with minimal input. It’s a bit unsettling, to be honest. I understand now why my cousin, a data scientist at GitHub, feels uneasy about AI’s rapid growth, especially when it comes to automating core parts of his job. What does this mean for the future of data science? ChatGPT isn’t just a helpful homework assistant;it’s beginning to replicate, and in some cases streamline, the work that skilled professionals do. The efficiency and accuracy it offers could have real implications for the job market in data-related fields.\n"
   ]
  }
 ],
 "metadata": {
  "kernelspec": {
   "display_name": "Python 3 (ipykernel)",
   "language": "python",
   "name": "python3"
  },
  "language_info": {
   "codemirror_mode": {
    "name": "ipython",
    "version": 3
   },
   "file_extension": ".py",
   "mimetype": "text/x-python",
   "name": "python",
   "nbconvert_exporter": "python",
   "pygments_lexer": "ipython3",
   "version": "3.10.12"
  }
 },
 "nbformat": 4,
 "nbformat_minor": 5
}
