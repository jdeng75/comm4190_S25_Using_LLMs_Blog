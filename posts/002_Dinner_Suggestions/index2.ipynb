{
 "cells": [
  {
   "cell_type": "raw",
   "id": "7c4e685e-e92e-4397-834f-9265d64a5df2",
   "metadata": {},
   "source": [
    "---\n",
    "title: \"Guestimation and Making Graphs in R!\"\n",
    "description: \"Let's cook.\"\n",
    "author: \"Jenn Deng\"\n",
    "date: \"2/3/2024\"\n",
    "categories:\n",
    "  - LLMs\n",
    "  - prompting\n",
    "---"
   ]
  },
  {
   "cell_type": "markdown",
   "id": "c68f7da1-67fb-432a-9b11-7e419d6266b6",
   "metadata": {},
   "source": [
    "# Guestimation and Making Graphs in R"
   ]
  },
  {
   "cell_type": "markdown",
   "id": "9dee7452-9de0-4d9e-8578-278c94e43e6d",
   "metadata": {},
   "source": [
    "* I also want to learn how to code more in R, and I really like graphs\n",
    "* I'm going to ask ChatGPT if they can give me code to make graphs.\n",
    "* These questions will be guestimations on what ChatGPT thinks of certain trend lines.\n",
    "\n",
    "### Let's cook."
   ]
  },
  {
   "cell_type": "markdown",
   "id": "5da41cb6-c509-48b5-98e1-7e423c85e73e",
   "metadata": {},
   "source": [
    "#### 1. Years Lived vs Amount of Friends\n",
    "\n",
    "* Jenn asks: Can you create R code for a graph to show your guestimation on years lived vs amount of friends.\n",
    "\n",
    "> ChatGPT:\n",
    "> \n",
    "> <img src=\"code1.png\" width=\"50%\"/>\n",
    "> <img src=\"image1.png\" width=\"50%\"/>\n"
   ]
  },
  {
   "cell_type": "markdown",
   "id": "9a39a47d-f76a-4b1b-b75c-3b4e8a1799e3",
   "metadata": {},
   "source": [
    "* When I asked why there was this trend, ChatGPT responded with\n",
    ">\n",
    "The trend I used in the R code is based on general social patterns observed in human friendships over a lifetime. Here’s why I shaped it that way:\n",
    ">1. Friendships Peak in Young Adulthood (20s-30s)\n",
    "People tend to have the most friends in their teens and 20s, especially in school, university, or early careers.\n",
    "Social environments like college, sports, clubs, and workplaces provide many opportunities for new friendships.\n",
    "There’s generally more free time for social activities before major life commitments (e.g., demanding careers, marriage, parenting).\n",
    ">2. Gradual Decline in Middle Age (30s-50s)\n",
    "In the 30s and 40s, people often prioritize careers, families, and personal responsibilities, leading to less time for socializing.\n",
    "Some friendships naturally fade due to geographical moves, lifestyle changes, or shifting priorities.\n",
    "However, a smaller core group of close friends often remains.\n",
    ">3. Further Decline in Older Age (60s-80s)\n",
    "Retirement, health issues, and the loss of peers contribute to fewer active friendships.\n",
    "Many elderly people rely more on family, close lifelong friends, or community groups rather than maintaining large social circles.\n",
    "Some older adults reconnect with old friends or develop new friendships in retirement communities, but the overall trend is downward.\n",
    "> Why This Trend Makes Sense?\n",
    "Social networks are largest in early adulthood when we have high social mobility and opportunity.\n",
    "Life responsibilities impact time and effort spent on friendships as we grow older.\n",
    "Aging naturally reduces social engagement, with some maintaining strong bonds but a smaller total number of friends.\n",
    "Of course, this is a generalization—individual experiences vary widely! Some people maintain or even expand their social circles in later years. Would you like me to adjust the model to include different factors, such as personality types or social media influence?"
   ]
  },
  {
   "cell_type": "markdown",
   "id": "06594309-c800-4258-8c79-69f4ff94f407",
   "metadata": {},
   "source": [
    "* And honestly, I think their prediction and trend line is correct. Let us move on..."
   ]
  },
  {
   "cell_type": "markdown",
   "id": "a268c7ae-7f60-4f2d-be32-12fdeef27ab4",
   "metadata": {},
   "source": [
    "#### 2. Age vs Breast Cancer Rates \n",
    "* Jenn asks: and can you write code for age vs breast cancer rates \n",
    "> ChatGPT:\n",
    "> \n",
    "> <img src=\"code2.png\" width=\"50%\"/>\n",
    "> <img src=\"image2.png\" width=\"50%\"/>\n"
   ]
  },
  {
   "cell_type": "markdown",
   "id": "62645e41-fa04-4aa8-8ee6-4dcef5da178a",
   "metadata": {},
   "source": [
    "* When I ask why they think it exhibits this trend:\n",
    "> Why This Trend?\n",
    "> Young women (20-30s): Very low breast cancer rates.\n",
    "Middle age (40-50s): Rates begin to rise due to hormonal and genetic factors.\n",
    "Older age (60-80s): Highest incidence rates, as risk accumulates over time.\n",
    "This is a simplified model based on general trends seen in epidemiology. Would you like a more specific model with real-world data, or adjustments to include factors like genetic risk?"
   ]
  }
 ],
 "metadata": {
  "kernelspec": {
   "display_name": "Python 3 (ipykernel)",
   "language": "python",
   "name": "python3"
  },
  "language_info": {
   "codemirror_mode": {
    "name": "ipython",
    "version": 3
   },
   "file_extension": ".py",
   "mimetype": "text/x-python",
   "name": "python",
   "nbconvert_exporter": "python",
   "pygments_lexer": "ipython3",
   "version": "3.10.12"
  }
 },
 "nbformat": 4,
 "nbformat_minor": 5
}
