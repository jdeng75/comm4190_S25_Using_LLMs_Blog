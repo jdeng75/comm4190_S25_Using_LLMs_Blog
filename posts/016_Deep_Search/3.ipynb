{
 "cells": [
  {
   "cell_type": "raw",
   "id": "340b5582-e432-430b-8838-397fadc24507",
   "metadata": {},
   "source": [
    "---\n",
    "title: \"Exploring Deep Search\"\n",
    "description: \"..or is it a shallow search!\"\n",
    "author: \"Jenn Deng\"\n",
    "date: \"04/21/2025\"\n",
    "categories:\n",
    "  - LLMs\n",
    "  - prompting\n",
    "  - research\n",
    "  - deep search \n",
    "  - information\n",
    "---"
   ]
  },
  {
   "cell_type": "markdown",
   "id": "2b598611-8e87-4622-a8ac-01b22bfd937c",
   "metadata": {},
   "source": [
    "# Deep Search "
   ]
  },
  {
   "cell_type": "markdown",
   "id": "80cd8694-f0c7-4063-bef0-13679984af82",
   "metadata": {},
   "source": [
    "<img src=\"DeepSearch.png\" width=90%/>"
   ]
  },
  {
   "cell_type": "markdown",
   "id": "6c1405ce-0518-4334-8ade-936592928e88",
   "metadata": {},
   "source": [
    "Add intro about deep search </br>\n",
    "</br>\n",
    "I want to see how much it knows about certain topics and judge whether it is a useful tool to use when needing to do a deep dive into a certain area, helping to write a thesis, or just wanting to test how much it </br>\n",
    "</br>\n",
    "Let's get started! </br>\n",
    "</br>"
   ]
  },
  {
   "cell_type": "markdown",
   "id": "6275b556-bf2e-485c-aa58-ea39b1ebf60f",
   "metadata": {},
   "source": [
    "---"
   ]
  },
  {
   "cell_type": "markdown",
   "id": "ce0017a5-d0e9-4c4e-b18d-981db052ded3",
   "metadata": {},
   "source": [
    "# Gilmore Girls Example : Who was the Better Ex? </br>\n",
    "</br>\n",
    "\n",
    "<img src=\"GilmoreGirls.jpeg\" width=90%/>\n",
    "\n",
    "If you're a **Gilmore Girls** fan, you know that this is a big topic up for debate. I chose this question because : </br>\n",
    "\n",
    "1. I am a huge Gilmore Girls fan. I think I rewatched it at least 4 times over.\n",
    "2. This is a very subjective question, so I believe it will be a hard question to try and answer. Nonetheless, there's a bunch of media on this topic.\n",
    "3. I am wondering what type of media Deep Search will pull from; will it read into Reddit? I have a feeling that this would be one of the most helpful resource because people debate a lot on this site.\n",
    "</br>\n",
    "\n",
    "My prompt will be: </br>\n",
    "\n",
    "> In the TV show, Gilmore Girls, who was the better ex for Rory?\n",
    "\n",
    "Let's take a look"
   ]
  },
  {
   "cell_type": "markdown",
   "id": "4fd256d7-ac4c-49a3-bbe3-7bfa36e09b93",
   "metadata": {},
   "source": [
    "<img src=\"1.png\" width=90%/>"
   ]
  },
  {
   "cell_type": "markdown",
   "id": "93f650f8-49a4-44b6-a998-808e27b3fef0",
   "metadata": {},
   "source": [
    "Deep Search seems to be aware that the question I asked **is a pretty subjective question**. I like how it asks me what I mean by **\"best ex\"**. I also like how it considers any other potential guys Rory was talking to- we only really focus on **Dean, Jess, and Logan** but Deep Search is aware that others have talked to her. Good job for now. I'm waiting for the research to be completed. </br>\n",
    "</br>\n",
    "While I'm waiting for Deep Search to load (it's taking so long), I'll do a simple search of the same prompt in the regular ChatGPT 4o. This will make it easier to figure out whether the Deep Search does a better job. </br>\n",
    "</br>\n",
    "\n",
    "### ChatGPT 4o Response to the Question\n",
    "\n",
    "<img src=\"2.png\" width=90%/>\n",
    "\n",
    "<img src=\"3.png\" width=90%/>\n",
    "\n",
    "I like it short and simple. It gave me the answer in a quick manner, and I'm satisfied... well not really with the verdict but the speed of the response. I'm a big Logan girl at heart. </br>\n",
    "</br>\n",
    "\n",
    "As I'm writing this, I'm still waiting for the Deep Search to finish."
   ]
  }
 ],
 "metadata": {
  "citation-manager": {
   "items": {}
  },
  "kernelspec": {
   "display_name": "Python 3-12 (COMM4190)",
   "language": "python",
   "name": "python3-12_comm4190"
  },
  "language_info": {
   "codemirror_mode": {
    "name": "ipython",
    "version": 3
   },
   "file_extension": ".py",
   "mimetype": "text/x-python",
   "name": "python",
   "nbconvert_exporter": "python",
   "pygments_lexer": "ipython3",
   "version": "3.12.8"
  }
 },
 "nbformat": 4,
 "nbformat_minor": 5
}
