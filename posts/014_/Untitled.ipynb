{
 "cells": [
  {
   "cell_type": "code",
   "execution_count": null,
   "id": "37f8d676-5d71-4465-abd3-0b98f8f932cf",
   "metadata": {},
   "outputs": [],
   "source": [
    "---\n",
    "title: \"Watch an A.I. Learn to Write by Reading Nothing but 1984 by George Orwell\"\n",
    "description: \"Let's see if ChatGPT can guess correctly!\"\n",
    "author: \"Jenn Deng\"\n",
    "date: \"3/27/2025\"\n",
    "categories:\n",
    "  - LLMs\n",
    "  - prompting\n",
    "  - logic\n",
    "---"
   ]
  },
  {
   "cell_type": "markdown",
   "id": "e321b1cf-adb9-40db-a0d0-536cffe3c927",
   "metadata": {},
   "source": [
    "In The New York Times article \"Watch an AI Learn to Write By Reading Nothing But ___\" by Aatish Bhatia, he spends weeks reading AI research articles and training tiny language models on his computer. In his aticle, he uses \"BabyGPT\" to prompt AI to learn language by reading only the complete works of the readers' choosing; Jane Austin, Shakespeare, Federalist Papers, Moby-Dick, Star Trek: The Next Generation, and Harry Potter. This BabyAI only sees 900 thousand words and nothing else. "
   ]
  },
  {
   "cell_type": "markdown",
   "id": "b4ce8c74-0475-4944-bee5-f8d9c8cce110",
   "metadata": {},
   "source": [
    "Before training, there's gibberish. You can't read it or understand what the BabyGPT is trying to produce. When you click on \"Generate another response\" it ends up being another pile of gibberish. You can tell that BabyGPT is ant-size in comparison to using other models. This example shows how language models start off- there's clumps of randomly produced combinations of characters. These models need to train after many rounds to eventually generate responses that we can understand."
   ]
  },
  {
   "cell_type": "markdown",
   "id": "86084b5f-cfb0-4498-bce2-6d1a6cc66845",
   "metadata": {},
   "source": [
    "**Let's try this for ourselves**"
   ]
  }
 ],
 "metadata": {
  "citation-manager": {
   "items": {}
  },
  "kernelspec": {
   "display_name": "Python 3-12 (COMM4190)",
   "language": "python",
   "name": "python3-12_comm4190"
  },
  "language_info": {
   "codemirror_mode": {
    "name": "ipython",
    "version": 3
   },
   "file_extension": ".py",
   "mimetype": "text/x-python",
   "name": "python",
   "nbconvert_exporter": "python",
   "pygments_lexer": "ipython3",
   "version": "3.12.8"
  }
 },
 "nbformat": 4,
 "nbformat_minor": 5
}
