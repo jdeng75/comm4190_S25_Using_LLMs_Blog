{
 "cells": [
  {
   "cell_type": "raw",
   "id": "3ccf7d15-1f55-4f02-8a15-9fc5236e1559",
   "metadata": {},
   "source": [
    "---\n",
    "title: \"Popular at UPenn: Let's Test the Range of ChatGPT Tools!\"\n",
    "description: \"are they helpful\"\n",
    "author: \"Jenn Deng\"\n",
    "date: \"3/11/2024\"\n",
    "categories:\n",
    "  - LLMs\n",
    "  - prompting\n",
    "---"
   ]
  },
  {
   "cell_type": "markdown",
   "id": "2a18739b-ef29-4c75-b3b1-28a9fe4fe2b5",
   "metadata": {},
   "source": [
    "# Let's Explore the **Popular at Upenn** Section of ChatGPT"
   ]
  },
  {
   "cell_type": "markdown",
   "id": "11c9edde-68ac-4e9b-8ce5-eca2f5770770",
   "metadata": {},
   "source": [
    "<img src=\"1.png\" width=\"100%\"/>"
   ]
  },
  {
   "cell_type": "markdown",
   "id": "de82956e-70ec-4f30-a99c-faf7d62c5dc0",
   "metadata": {},
   "source": [
    "### I've only ever used the chat box of my Upenn ChatGPT account to ask questions to help me study for midterms"
   ]
  },
  {
   "cell_type": "markdown",
   "id": "3950aeb8-200e-4787-a03c-45f11bea70c9",
   "metadata": {},
   "source": [
    "Today as I was thinking about what I should experiment with for my 10th blog post (yay!), I decided to explore my UPenn ChatGPT account that was granted to me by my statistics class. </br>\n",
    "</br>\n",
    "Tell me why I just discovered a whole section called **Explore GPTs**. Under the **Top Picks** section, there's a section called **Popular at Upenn**. There's a whole list of popular GPTs in my workspace which include; Love Run Half-Marathon Training GPT, Interactive Cooking & Recipe Innovator, Rental Analyzer, ConsultingDad.AI, and much more. The list seems infinite! And so niche to a lot of people's different interests. The more I keep looking, the more my jaw keeps dropping. If I knew about these earlier, I think my life would be easier."
   ]
  },
  {
   "cell_type": "markdown",
   "id": "3c1827b5-4adc-437c-a50c-32ef6dc8d2af",
   "metadata": {},
   "source": [
    "### I'm curious about some of these..."
   ]
  },
  {
   "cell_type": "markdown",
   "id": "203ed080-8a8e-4512-b7e5-58a4e37b6235",
   "metadata": {},
   "source": [
    "I want to see if they're actually useful, or if I could just stick to making my own path in life. </br>\n",
    "</br>\n",
    "Let's go in order. I'm excited. Let's go!"
   ]
  },
  {
   "cell_type": "markdown",
   "id": "41382daa-5262-4429-965d-afd46979db11",
   "metadata": {},
   "source": [
    "### **1. TaroGPT** </br>\n",
    "(Ask me anything for direction by kawaima@upenn.edu) </br>\n",
    "</br>\n",
    "</br>\n",
    "I don't know what they mean by direction. But after I asked, it seems like a tarot card reading situation. I decided to choose **tarot** because there was a section on career. As of now, I'm still on the job hunt so I am curious to see how this chat box will read my situation\n",
    "> <img src=\"2.png\" width=\"100%\"/>\n",
    "> <img src=\"3.png\" width=\"100%\"/> </br>\n",
    "</br>\n",
    "</br>\n",
    "I would say that it's pretty spot on. I'm pretty sure the creator prompted it with a series of different ones that rotate based on what the user types. Nothing else more to add. Let's go to the next one."
   ]
  },
  {
   "cell_type": "markdown",
   "id": "5a6d5965-fa79-4885-8eb7-fb33ab918f16",
   "metadata": {},
   "source": [
    "---"
   ]
  },
  {
   "cell_type": "markdown",
   "id": "94185b50-2c17-437a-b230-47c9760f14ef",
   "metadata": {},
   "source": [
    "### **2. Love Run Half-Marathon Training GPT** </br>\n",
    "(This GPT aims to assist runners to succeed in the 2025 Philly Love Run. Whether the runner be a first-timer or looking to get back in shape, this GPT will help design the perfect training plan factoring in wellness, our busy schedules, and fitness goals. By community builder) </br>\n",
    "</br>\n",
    "This might be the most helpful thing I need right now. I signed up for the Half-Marthon back in December thinking I could prepare for it March 30th. I got sick for a month and that completely messed up my training plan. It's now almost two weeks before the half, and I have no clue if I can actually do it. Let's see if GPT can help me out. </br>\n",
    "</br>\n",
    "> <img src=\"4.png\" width=\"100%\"/> </br>\n",
    "</br>\n",
    "\n",
    "Oh well, looks like I'll be really pushing myself for the next two weeks. I also prompted it to create a calendar version so the information will be easier for me to digest and follow. Look at it below."
   ]
  },
  {
   "cell_type": "markdown",
   "id": "231eea8e-8857-492f-91f1-67b6a9c28b75",
   "metadata": {},
   "source": [
    "## 🏃‍♂️ 2-Week Half-Marathon Training Plan 🏃‍♀️  \n",
    "**Goal:** Prepare for the **Love Run Half Marathon** on **March 30, 2025**  \n",
    "\n",
    "---\n",
    "\n",
    "### 📆 Week 1 (March 15 - March 22)  \n",
    "| **Day**          | **Workout**                                  |\n",
    "|-----------------|--------------------------------------------|\n",
    "| **Fri, March 15**  | Easy 2-3 miles, slow pace                  |\n",
    "| **Sat, March 16**  | Long run – 6-7 miles at a comfortable pace |\n",
    "| **Sun, March 17**  | Rest or cross-train (yoga, swimming, cycling) |\n",
    "| **Mon, March 18**  | 3 miles with strides (short bursts of fast running) |\n",
    "| **Tues, March 19** | Rest or easy jog (2 miles)                |\n",
    "| **Wed, March 20**  | Speed workout – 4 x 400m fast with walk breaks |\n",
    "| **Thurs, March 21**| 4-mile easy run                           |\n",
    "| **Fri, March 22**  | Rest                                      |\n",
    "| **Sat, March 23**  | Long run – 8-9 miles                     |\n",
    "\n",
    "---\n",
    "\n",
    "### 📆 Week 2 (March 23 - March 29 – Race Week)  \n",
    "| **Day**          | **Workout**                                  |\n",
    "|-----------------|--------------------------------------------|\n",
    "| **Sun, March 24**  | Rest or easy run (3 miles)              |\n",
    "| **Mon, March 25**  | 3 miles with strides                    |\n",
    "| **Tues, March 26** | 4-5 miles at a steady pace             |\n",
    "| **Wed, March 27**  | Rest or cross-train                     |\n",
    "| **Thurs, March 28**| 2 miles easy with a few fast bursts    |\n",
    "| **Fri, March 29**  | Rest                                     |\n",
    "| **Sat, March 30**  | 🎉 **Race Day – Love Run Half Marathon!** 🎉 |\n",
    "\n",
    "---\n",
    "\n",
    "### ⚡ **Race Day Strategy**\n",
    "- **Start slow!** Don’t go out too\n"
   ]
  },
  {
   "cell_type": "markdown",
   "id": "3f056ede-fc1c-4541-ab3a-ab695e7252bf",
   "metadata": {},
   "source": [
    "</br>\n",
    "Well shoot! This deviates from the half-marathon training that my friends created for me. I was supposed to take more breaks for the last week leading up to the half, but because I didn't run enough I guess I have to run more now."
   ]
  },
  {
   "cell_type": "markdown",
   "id": "d2221c0e-a798-4f9d-87fa-d4278c52eb9d",
   "metadata": {},
   "source": [
    "---"
   ]
  },
  {
   "cell_type": "markdown",
   "id": "92496cbd-8d89-48ab-a9cf-9dd6bd6cd6a1",
   "metadata": {},
   "source": [
    "### 3. **CineMatch** </br>\n",
    "(Skip the endless scrolling! Tell us what you’re in the mood for, and we’ll find the perfect movie match 🎬✨\n",
    "Other Category. by community builder) </br>\n",
    "</br>\n",
    "I asked </br>\n",
    "> **I like high brow horror. What other movies would you recommend me to watch?** </br>\n",
    "\n",
    "> ##### 🎭 Elevated Horror Films You’ll Love  \n",
    ">  \n",
    "> ###### 1️⃣ **Hereditary (2018)**  \n",
    "> - 🍅 **Critics:** 90% | **Audience:** 69%  \n",
    "> - 📜 **Plot:** A slow-burn family tragedy turns into a nightmare as a grieving mother unravels sinister secrets about her ancestry.  \n",
    "> - 📺 **Streaming:** [Check Availability](https://www.justwatch.com/)  \n",
    "> - 🎥 [**Click Here to Watch Trailer**](https://www.youtube.com/watch?v=V6wWKNij_1M)  \n",
    "> - 🎬 **Director:** Ari Aster  \n",
    ">  \n",
    "> ---  \n",
    ">  \n",
    "> ###### 2️⃣ **The Witch (2015)**  \n",
    "> - 🍅 **Critics:** 90% | **Audience:** 59%  \n",
    "> - 📜 **Plot:** A 17th-century Puritan family, exiled to the wilderness, faces paranoia, isolation, and supernatural forces.  \n",
    "> - 📺 **Streaming:** [Check Availability](https://www.justwatch.com/)  \n",
    "> - 🎥 [**Click Here to Watch Trailer**](https://www.youtube.com/watch?v=iQXmlf3Sefg)  \n",
    "> - 🎬 **Director:** Robert Eggers  \n",
    ">  \n",
    "> ---  \n",
    ">  \n",
    "> ###### 3️⃣ **Saint Maud (2019)**  \n",
    "> - 🍅 **Critics:** 93% | **Audience:** 64%  \n",
    "> - 📜 **Plot:** A pious nurse, haunted by past trauma, spirals into religious fanaticism as she believes she's been chosen by God.  \n",
    "> - 📺 **Streaming:** [Check Availability](https://www.justwatch.com/)  \n",
    "> - 🎥 [**Click Here to Watch Trailer**](https://www.youtube.com/watch?v=EXs2-TY9qok)  \n",
    "> - 🎬 **Director:** Rose Glass  \n",
    ">  \n",
    "> ---  \n",
    ">  \n",
    "> ###### 4️⃣ **The Lighthouse (2019)**  \n",
    "> - 🍅 **Critics:** 90% | **Audience:** 72%  \n",
    "> - 📜 **Plot:** Two lighthouse keepers descend into madness as isolation, power struggles, and eerie visions haunt them.  \n",
    "> - 📺 **Streaming:** [Check Availability](https://www.justwatch.com/)  \n",
    "> - 🎥 [**Click Here to Watch Trailer**](https://www.youtube.com/watch?v=Hyag7lR8CPA)  \n",
    "> - 🎬 **Director:** Robert Eggers  \n",
    ">  \n",
    "> ---  \n",
    ">  \n",
    "> ###### 5️⃣ **Possession (1981)**  \n",
    "> - 🍅 **Critics:** 86% | **Audience:** 84%  \n",
    "> - 📜 **Plot:** A woman’s erratic behavior following a breakup reveals a horrifying, supernatural secret.  \n",
    "> - 📺 **Streaming:** [Check Availability](https://www.justwatch.com/)  \n",
    "> - 🎥 [**Click Here to Watch Trailer**](https://www.youtube.com/watch?v=PYZKeFP7N6g)  \n",
    "> - 🎬 **Director:** Andrzej Żuławski  \n",
    ">  \n",
    "> ---  \n",
    ">  \n",
    "> ###### 6️⃣ **It Follows (2014)**  \n",
    "> - 🍅 **Critics:** 95% | **Audience:** 66%  \n",
    "> - 📜 **Plot:** A supernatural entity relentlessly stalks a young woman after a cursed encounter.  \n",
    "> - 📺 **Streaming:** [Check Availability](https://www.justwatch.com/)  \n",
    "> - 🎥 [**Click Here to Watch Trailer**](https://www.youtube.com/watch?v=HkZYbOH0ujw)  \n",
    "> - 🎬 **Director:** David Robert Mitchell  \n",
    ">  \n",
    "> ---  \n",
    ">  \n",
    "> ###### 7️⃣ **The Wailing (2016)**  \n",
    "> - 🍅 **Critics:** 99% | **Audience:** 81%  \n",
    "> - 📜 **Plot:** A rural village in South Korea is plagued by mysterious deaths, and a police officer must uncover whether it’s supernatural or human evil at play.  \n",
    "> - 📺 **Streaming:** [Check Availability](https://www.justwatch.com/)  \n",
    "> - 🎥 [**Click Here to Watch Trailer**](https://www.youtube.com/watch?v=43uAputjI4k)  \n",
    "> - 🎬 **Director:** Na Hong-jin  \n",
    ">  \n",
    "> ---  \n",
    ">  \n",
    "> ###### 8️⃣ **Under the Skin (2013)**  \n",
    "> - 🍅 **Critics:** 84% | **Audience:** 55%  \n",
    "> - 📜 **Plot:** An eerie, hypnotic film where an alien (Scarlett Johansson) preys on lonely men in Scotland, leading to existential horror.  \n",
    "> - 📺 **Streaming:** [Check Availability](https://www.justwatch.com/)  \n",
    "> - 🎥 [**Click Here to Watch Trailer**](https://www.youtube.com/watch?v=NoSWbyvdhHw)  \n",
    "> - 🎬 **Director:** Jonathan Glazer  \n",
    ">  \n",
    "> ---  \n",
    ">  \n",
    "> 💡 **Would you like recommendations based on a specific subgenre?** (e.g., Folk Horror, Psychological Horror, Foreign Horror)\n"
   ]
  },
  {
   "cell_type": "markdown",
   "id": "64b591a8-3e14-46fd-b205-299cc9e94d67",
   "metadata": {},
   "source": [
    "I've watched Hereditary and it's one of my favorite movies! I haven't watched the rest, but I've heard a few of the ones that have been suggested to me by this chatbox. I really appreciate the fact that the chatbox is able to give me a Rotten Tomato review, as well as a review by the audience. I think it also does a good job giving a bit of the plot away, as well as providing a few links to understand the movie more."
   ]
  },
  {
   "cell_type": "markdown",
   "id": "471da00e-407f-4ae6-8603-6b91601b7231",
   "metadata": {},
   "source": [
    "----"
   ]
  },
  {
   "cell_type": "markdown",
   "id": "e7574cf2-05fc-42e5-bb6c-485c78f8cf0d",
   "metadata": {},
   "source": [
    "# Conclusion\n",
    "</br>\n",
    "\n",
    "All of the popular AI tools developed at UPenn have been incredibly helpful, especially because each one was clearly created with a specific purpose in mind. I really appreciated how well-structured and focused the chatboxes were. They made it easy to get direct, relevant answers without much effort on my end. That said, I’m still a bit skeptical about the tarot card bot; while it was fun, it felt less grounded than the others in terms of utility.\n",
    "</br>\n",
    "\n",
    "Interestingly, I realized that if I hadn’t used these pre-built chatboxes, I probably could’ve asked regular ChatGPT the same questions and gotten similar information. The difference, though, is in the experience: these custom bots made the process far more straightforward and structured. Instead of figuring out how to frame my questions, the design and prompt engineering behind each chatbox did the heavy lifting for me. It made me think more about how curation and context can shape how we interact with AI—and how even a general tool like ChatGPT becomes significantly more powerful with the right scaffolding.\n",
    "\n"
   ]
  }
 ],
 "metadata": {
  "kernelspec": {
   "display_name": "Python 3-12 (COMM4190)",
   "language": "python",
   "name": "python3-12_comm4190"
  },
  "language_info": {
   "codemirror_mode": {
    "name": "ipython",
    "version": 3
   },
   "file_extension": ".py",
   "mimetype": "text/x-python",
   "name": "python",
   "nbconvert_exporter": "python",
   "pygments_lexer": "ipython3",
   "version": "3.12.8"
  }
 },
 "nbformat": 4,
 "nbformat_minor": 5
}
