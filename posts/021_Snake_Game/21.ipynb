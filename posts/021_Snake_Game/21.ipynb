{
 "cells": [
  {
   "cell_type": "raw",
   "id": "64068131-d6bc-4168-a9d0-f228e8cc1996",
   "metadata": {},
   "source": [
    "---\n",
    "title: \"Using 4o in Creating the Snake Game\"\n",
    "description: \"yay!\"\n",
    "author: \"Jenn Deng\"\n",
    "date: \"05/08/2025\"\n",
    "categories:\n",
    "  - LLMs\n",
    "  - prompting\n",
    "  - coding \n",
    "  - games\n",
    "---"
   ]
  },
  {
   "cell_type": "markdown",
   "id": "bac26996-76cc-481b-9434-e421e0bfca14",
   "metadata": {},
   "source": [
    "<img src=\"snake.webp\" width=90%/>"
   ]
  },
  {
   "cell_type": "markdown",
   "id": "685ca7ed-4a11-4017-adf2-730597a332d2",
   "metadata": {},
   "source": [
    "# Snake Game"
   ]
  },
  {
   "cell_type": "markdown",
   "id": "436a4a9e-8f9a-4831-b75c-5be75a0a7905",
   "metadata": {},
   "source": [
    "I asked 4o to create the snake game for me. Let's see how it runs."
   ]
  },
  {
   "cell_type": "markdown",
   "id": "82d6bb70-630b-4141-a137-5def6448f7ac",
   "metadata": {},
   "source": [
    "----"
   ]
  },
  {
   "cell_type": "code",
   "execution_count": null,
   "id": "ea4b4509-4669-455a-ade8-81cfaac68bfa",
   "metadata": {},
   "outputs": [],
   "source": [
    "## First Variation"
   ]
  },
  {
   "cell_type": "code",
   "execution_count": 3,
   "id": "0ebb5f83-a74b-4ed8-a04b-7757af3b15f2",
   "metadata": {},
   "outputs": [
    {
     "name": "stdout",
     "output_type": "stream",
     "text": [
      "\u001b[H\u001b[2J####################\n",
      "#                  #\n",
      "#                  #\n",
      "#  *               #\n",
      "#                  #\n",
      "#    O             #\n",
      "#                  #\n",
      "#                  #\n",
      "#                  #\n",
      "####################\n",
      "Score: 0\n",
      "Move with W/A/S/D then press Enter (Q to quit):\n"
     ]
    },
    {
     "name": "stdin",
     "output_type": "stream",
     "text": [
      " A\n"
     ]
    },
    {
     "name": "stdout",
     "output_type": "stream",
     "text": [
      "\u001b[H\u001b[2J####################\n",
      "#                  #\n",
      "#                  #\n",
      "#  *               #\n",
      "#                  #\n",
      "#     O            #\n",
      "#                  #\n",
      "#                  #\n",
      "#                  #\n",
      "####################\n",
      "Score: 0\n",
      "Move with W/A/S/D then press Enter (Q to quit):\n"
     ]
    },
    {
     "name": "stdin",
     "output_type": "stream",
     "text": [
      " A\n"
     ]
    },
    {
     "name": "stdout",
     "output_type": "stream",
     "text": [
      "\u001b[H\u001b[2J####################\n",
      "#                  #\n",
      "#                  #\n",
      "#  *               #\n",
      "#                  #\n",
      "#      O           #\n",
      "#                  #\n",
      "#                  #\n",
      "#                  #\n",
      "####################\n",
      "Score: 0\n",
      "Move with W/A/S/D then press Enter (Q to quit):\n"
     ]
    },
    {
     "name": "stdin",
     "output_type": "stream",
     "text": [
      " A\n"
     ]
    },
    {
     "name": "stdout",
     "output_type": "stream",
     "text": [
      "\u001b[H\u001b[2J####################\n",
      "#                  #\n",
      "#                  #\n",
      "#  *               #\n",
      "#                  #\n",
      "#       O          #\n",
      "#                  #\n",
      "#                  #\n",
      "#                  #\n",
      "####################\n",
      "Score: 0\n",
      "Move with W/A/S/D then press Enter (Q to quit):\n"
     ]
    },
    {
     "name": "stdin",
     "output_type": "stream",
     "text": [
      " Q\n"
     ]
    },
    {
     "name": "stdout",
     "output_type": "stream",
     "text": [
      "Goodbye!\n"
     ]
    }
   ],
   "source": [
    "import os\n",
    "import random\n",
    "import time\n",
    "\n",
    "WIDTH = 20\n",
    "HEIGHT = 10\n",
    "SLEEP_TIME = 0.2\n",
    "\n",
    "snake = [[5, 5]]\n",
    "direction = [0, 1]\n",
    "food = [random.randint(1, HEIGHT - 2), random.randint(1, WIDTH - 2)]\n",
    "score = 0\n",
    "\n",
    "def clear():\n",
    "    os.system('cls' if os.name == 'nt' else 'clear')\n",
    "\n",
    "def draw():\n",
    "    clear()\n",
    "    for y in range(HEIGHT):\n",
    "        row = \"\"\n",
    "        for x in range(WIDTH):\n",
    "            if [y, x] == food:\n",
    "                row += \"*\"\n",
    "            elif [y, x] in snake:\n",
    "                row += \"O\"\n",
    "            elif y == 0 or y == HEIGHT - 1 or x == 0 or x == WIDTH - 1:\n",
    "                row += \"#\"\n",
    "            else:\n",
    "                row += \" \"\n",
    "        print(row)\n",
    "    print(f\"Score: {score}\")\n",
    "    print(\"Move with W/A/S/D then press Enter (Q to quit):\")\n",
    "\n",
    "def move_snake():\n",
    "    global food, score\n",
    "    new_head = [snake[0][0] + direction[0], snake[0][1] + direction[1]]\n",
    "    if (new_head in snake or\n",
    "        new_head[0] == 0 or new_head[0] == HEIGHT - 1 or\n",
    "        new_head[1] == 0 or new_head[1] == WIDTH - 1):\n",
    "        return False\n",
    "    snake.insert(0, new_head)\n",
    "    if new_head == food:\n",
    "        score += 1\n",
    "        while True:\n",
    "            food = [random.randint(1, HEIGHT - 2), random.randint(1, WIDTH - 2)]\n",
    "            if food not in snake:\n",
    "                break\n",
    "    else:\n",
    "        snake.pop()\n",
    "    return True\n",
    "\n",
    "# Main game loop\n",
    "while True:\n",
    "    draw()\n",
    "    key = input().lower()\n",
    "    if key == 'w' and direction != [1, 0]:\n",
    "        direction = [-1, 0]\n",
    "    elif key == 's' and direction != [-1, 0]:\n",
    "        direction = [1, 0]\n",
    "    elif key == 'a' and direction != [0, 1]:\n",
    "        direction = [0, -1]\n",
    "    elif key == 'd' and direction != [0, -1]:\n",
    "        direction = [0, 1]\n",
    "    elif key == 'q':\n",
    "        print(\"Goodbye!\")\n",
    "        break\n",
    "    if not move_snake():\n",
    "        draw()\n",
    "        print(\"Game Over!\")\n",
    "        break\n",
    "    time.sleep(SLEEP_TIME)\n"
   ]
  },
  {
   "cell_type": "markdown",
   "id": "758ac683-0292-4945-817c-7806461d8354",
   "metadata": {},
   "source": [
    "I press A, but it moves the other way. Also, I don't like how it's printing like this, there's no colors or anything."
   ]
  },
  {
   "cell_type": "markdown",
   "id": "ca649d85-e157-4b46-97e6-ced9f2eb89d4",
   "metadata": {},
   "source": [
    "---"
   ]
  },
  {
   "cell_type": "code",
   "execution_count": null,
   "id": "a6282133-f244-4fa7-a95f-018023fa3eba",
   "metadata": {},
   "outputs": [],
   "source": [
    "## Second Variation "
   ]
  },
  {
   "cell_type": "code",
   "execution_count": 7,
   "id": "81e126a3-32ac-46b8-8af6-0ea3c29b9d61",
   "metadata": {},
   "outputs": [
    {
     "name": "stdout",
     "output_type": "stream",
     "text": [
      "..........\n",
      "..........\n",
      "..........\n",
      "........*.\n",
      "..........\n",
      ".....O....\n",
      "..........\n",
      "..........\n",
      "..........\n",
      "..........\n",
      "\n"
     ]
    },
    {
     "name": "stdin",
     "output_type": "stream",
     "text": [
      "Move (WASD or Q to quit):  d\n"
     ]
    },
    {
     "name": "stdout",
     "output_type": "stream",
     "text": [
      "..........\n",
      "..........\n",
      "..........\n",
      "........*.\n",
      "..........\n",
      "......O...\n",
      "..........\n",
      "..........\n",
      "..........\n",
      "..........\n",
      "\n"
     ]
    },
    {
     "name": "stdin",
     "output_type": "stream",
     "text": [
      "Move (WASD or Q to quit):  d\n"
     ]
    },
    {
     "name": "stdout",
     "output_type": "stream",
     "text": [
      "..........\n",
      "..........\n",
      "..........\n",
      "........*.\n",
      "..........\n",
      ".......O..\n",
      "..........\n",
      "..........\n",
      "..........\n",
      "..........\n",
      "\n"
     ]
    },
    {
     "name": "stdin",
     "output_type": "stream",
     "text": [
      "Move (WASD or Q to quit):  \n"
     ]
    },
    {
     "name": "stdout",
     "output_type": "stream",
     "text": [
      "..........\n",
      "..........\n",
      "..........\n",
      "........*.\n",
      "..........\n",
      "........O.\n",
      "..........\n",
      "..........\n",
      "..........\n",
      "..........\n",
      "\n"
     ]
    },
    {
     "name": "stdin",
     "output_type": "stream",
     "text": [
      "Move (WASD or Q to quit):  Q\n"
     ]
    },
    {
     "name": "stdout",
     "output_type": "stream",
     "text": [
      "Thanks for playing!\n"
     ]
    }
   ],
   "source": [
    "# Run this simplified snake \"simulator\" in a Jupyter notebook\n",
    "\n",
    "import random\n",
    "\n",
    "width, height = 10, 10\n",
    "snake = [[5, 5]]\n",
    "direction = (0, 1)\n",
    "food = [random.randint(1, height - 2), random.randint(1, width - 2)]\n",
    "\n",
    "def draw():\n",
    "    for y in range(height):\n",
    "        row = \"\"\n",
    "        for x in range(width):\n",
    "            if [y, x] == food:\n",
    "                row += \"*\"\n",
    "            elif [y, x] in snake:\n",
    "                row += \"O\"\n",
    "            else:\n",
    "                row += \".\"\n",
    "        print(row)\n",
    "    print()\n",
    "\n",
    "def move():\n",
    "    head = snake[0]\n",
    "    new_head = [head[0] + direction[0], head[1] + direction[1]]\n",
    "\n",
    "    if new_head == food:\n",
    "        snake.insert(0, new_head)\n",
    "        while True:\n",
    "            new_food = [random.randint(1, height - 2), random.randint(1, width - 2)]\n",
    "            if new_food not in snake:\n",
    "                break\n",
    "        return new_food, False\n",
    "    elif new_head in snake or not (0 <= new_head[0] < height and 0 <= new_head[1] < width):\n",
    "        return food, True\n",
    "    else:\n",
    "        snake.insert(0, new_head)\n",
    "        snake.pop()\n",
    "        return food, False\n",
    "\n",
    "# Run interactively\n",
    "while True:\n",
    "    draw()\n",
    "    move_input = input(\"Move (WASD or Q to quit): \").lower()\n",
    "    if move_input == 'w':\n",
    "        direction = (-1, 0)\n",
    "    elif move_input == 's':\n",
    "        direction = (1, 0)\n",
    "    elif move_input == 'a':\n",
    "        direction = (0, -1)\n",
    "    elif move_input == 'd':\n",
    "        direction = (0, 1)\n",
    "    elif move_input == 'q':\n",
    "        print(\"Thanks for playing!\")\n",
    "        break\n",
    "\n",
    "    food, game_over = move()\n",
    "    if game_over:\n",
    "        draw()\n",
    "        print(\"Game Over!\")\n",
    "        break\n"
   ]
  },
  {
   "cell_type": "markdown",
   "id": "da714250-5359-4817-9303-11796cc50133",
   "metadata": {},
   "source": [
    "Well, this is a better visual, but it's still not running like I really want it to."
   ]
  },
  {
   "cell_type": "markdown",
   "id": "720f7de4-cc0f-4f1e-b572-5a826f7860c8",
   "metadata": {},
   "source": [
    "----"
   ]
  },
  {
   "cell_type": "markdown",
   "id": "dd477b08-68fe-449c-9b88-5c30746dc96e",
   "metadata": {},
   "source": [
    "## Third Variation"
   ]
  },
  {
   "cell_type": "code",
   "execution_count": 10,
   "id": "75bb02dd-867b-4f33-a3dc-2e8d8a51b080",
   "metadata": {},
   "outputs": [
    {
     "data": {
      "image/png": "[encoded data removed]",
      "text/plain": [
       "<Figure size 500x500 with 1 Axes>"
      ]
     },
     "metadata": {},
     "output_type": "display_data"
    },
    {
     "name": "stdin",
     "output_type": "stream",
     "text": [
      "Move (W/A/S/D or Q to quit):  Q\n"
     ]
    },
    {
     "name": "stdout",
     "output_type": "stream",
     "text": [
      "Game quit.\n"
     ]
    }
   ],
   "source": [
    "%matplotlib inline\n",
    "import matplotlib.pyplot as plt\n",
    "from IPython.display import clear_output\n",
    "import random\n",
    "import time\n",
    "\n",
    "# Game settings\n",
    "GRID_SIZE = 10\n",
    "snake = [(5, 5), (5, 4), (5, 3)]\n",
    "direction = (0, 1)  # Right\n",
    "food = (random.randint(0, GRID_SIZE-1), random.randint(0, GRID_SIZE-1))\n",
    "score = 0\n",
    "\n",
    "def place_food():\n",
    "    while True:\n",
    "        new_food = (random.randint(0, GRID_SIZE-1), random.randint(0, GRID_SIZE-1))\n",
    "        if new_food not in snake:\n",
    "            return new_food\n",
    "\n",
    "def draw_game():\n",
    "    clear_output(wait=True)\n",
    "    plt.figure(figsize=(5, 5))\n",
    "    ax = plt.gca()\n",
    "    ax.set_xlim(0, GRID_SIZE)\n",
    "    ax.set_ylim(0, GRID_SIZE)\n",
    "    ax.set_xticks([])\n",
    "    ax.set_yticks([])\n",
    "    ax.set_aspect('equal')\n",
    "\n",
    "    # Draw snake\n",
    "    for segment in snake:\n",
    "        rect = plt.Rectangle(segment, 1, 1, color=\"green\")\n",
    "        ax.add_patch(rect)\n",
    "\n",
    "    # Draw food\n",
    "    rect = plt.Rectangle(food, 1, 1, color=\"red\")\n",
    "    ax.add_patch(rect)\n",
    "\n",
    "    plt.title(f\"Score: {score}\")\n",
    "    plt.show()\n",
    "\n",
    "def move_snake(dir):\n",
    "    global food, score\n",
    "    head = snake[0]\n",
    "    new_head = (head[0] + dir[0], head[1] + dir[1])\n",
    "\n",
    "    # Check collision\n",
    "    if (new_head in snake or\n",
    "        not (0 <= new_head[0] < GRID_SIZE) or\n",
    "        not (0 <= new_head[1] < GRID_SIZE)):\n",
    "        return False\n",
    "\n",
    "    snake.insert(0, new_head)\n",
    "\n",
    "    if new_head == food:\n",
    "        score += 1\n",
    "        food = place_food()\n",
    "    else:\n",
    "        snake.pop()\n",
    "    return True\n",
    "\n",
    "# Game loop\n",
    "while True:\n",
    "    draw_game()\n",
    "    move = input(\"Move (W/A/S/D or Q to quit): \").lower()\n",
    "    if move == 'w' and direction != (1, 0):\n",
    "        direction = (-1, 0)\n",
    "    elif move == 's' and direction != (-1, 0):\n",
    "        direction = (1, 0)\n",
    "    elif move == 'a' and direction != (0, 1):\n",
    "        direction = (0, -1)\n",
    "    elif move == 'd' and direction != (0, -1):\n",
    "        direction = (0, 1)\n",
    "    elif move == 'q':\n",
    "        print(\"Game quit.\")\n",
    "        break\n",
    "\n",
    "    if not move_snake(direction):\n",
    "        draw_game()\n",
    "        print(\"Game Over!\")\n",
    "        break\n",
    "\n",
    "    time.sleep(0.1)\n"
   ]
  },
  {
   "cell_type": "markdown",
   "id": "16141b15-8153-442b-9b57-8944d6989ef6",
   "metadata": {},
   "source": [
    "You can't see this happening, but everytime I click \"W\" it's going the right way up! I think I'm satisfied."
   ]
  },
  {
   "cell_type": "markdown",
   "id": "50a3b85e-39e4-4bfa-b140-cd5b39e940e7",
   "metadata": {},
   "source": [
    "---"
   ]
  },
  {
   "cell_type": "markdown",
   "id": "aae466e3-4c38-406a-b5e2-3a26ea5dec7e",
   "metadata": {},
   "source": [
    "## Conclusion\n",
    "\n",
    "</br>\n",
    "\n",
    "It only took a few more prompting techniques to get the snake game to work properly! It was able to do everything I asked, I only had to understand **how** to ask the right questions to get it working. In the end, it's because I had to figure out code that would run inside the Jupyter notebook cell and uses nothing in the backend. "
   ]
  }
 ],
 "metadata": {
  "kernelspec": {
   "display_name": "Python 3-12 (COMM4190)",
   "language": "python",
   "name": "python3-12_comm4190"
  },
  "language_info": {
   "codemirror_mode": {
    "name": "ipython",
    "version": 3
   },
   "file_extension": ".py",
   "mimetype": "text/x-python",
   "name": "python",
   "nbconvert_exporter": "python",
   "pygments_lexer": "ipython3",
   "version": "3.12.8"
  }
 },
 "nbformat": 4,
 "nbformat_minor": 5
}
