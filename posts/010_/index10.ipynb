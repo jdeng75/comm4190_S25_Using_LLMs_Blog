{
 "cells": [
  {
   "cell_type": "raw",
   "id": "3ccf7d15-1f55-4f02-8a15-9fc5236e1559",
   "metadata": {},
   "source": [
    "---\n",
    "title: \"Popular at UPenn: Let's Test the Range of ChatGPT Tools!\"\n",
    "description: \"HALF MARATHON PLAN?????\"\n",
    "author: \"Jenn Deng\"\n",
    "date: \"3/11/2024\"\n",
    "categories:\n",
    "  - LLMs\n",
    "  - prompting\n",
    "---"
   ]
  },
  {
   "cell_type": "markdown",
   "id": "2a18739b-ef29-4c75-b3b1-28a9fe4fe2b5",
   "metadata": {},
   "source": [
    "# Let's Explore the **Popular at Upenn** Section of ChatGPT"
   ]
  },
  {
   "cell_type": "markdown",
   "id": "11c9edde-68ac-4e9b-8ce5-eca2f5770770",
   "metadata": {},
   "source": [
    "<img src=\"1.png\" width=\"100%\"/>"
   ]
  },
  {
   "cell_type": "markdown",
   "id": "de82956e-70ec-4f30-a99c-faf7d62c5dc0",
   "metadata": {},
   "source": [
    "### I've only ever used the chat box of my Upenn ChatGPT account to ask questions to help me study for midterms"
   ]
  },
  {
   "cell_type": "markdown",
   "id": "3950aeb8-200e-4787-a03c-45f11bea70c9",
   "metadata": {},
   "source": [
    "Today as I was thinking about what I should experiment with for my 10th blog post (yay!), I decided to explore my UPenn ChatGPT account that was granted to me by my statistics class. </br>\n",
    "</br>\n",
    "Tell me why I just discovered a whole section called **Explore GPTs**. Under the **Top Picks** section, there's a section called **Popular at Upenn**. There's a whole list of popular GPTs in my workspace which include; Love Run Half-Marathon Training GPT, Interactive Cooking & Recipe Innovator, Rental Analyzer, ConsultingDad.AI, and much more. The list seems infinite! And so niche to a lot of people's different interests. The more I keep looking, the more my jaw keeps dropping. If I knew about these earlier, I think my life would be easier."
   ]
  },
  {
   "cell_type": "markdown",
   "id": "3c1827b5-4adc-437c-a50c-32ef6dc8d2af",
   "metadata": {},
   "source": [
    "### I'm curious about some of these..."
   ]
  },
  {
   "cell_type": "markdown",
   "id": "203ed080-8a8e-4512-b7e5-58a4e37b6235",
   "metadata": {},
   "source": [
    "I want to see if they're actually useful, or if I could just stick to making my own path in life. </br>\n",
    "</br>\n",
    "Let's go in order. I'm excited. Let's go!"
   ]
  },
  {
   "cell_type": "markdown",
   "id": "41382daa-5262-4429-965d-afd46979db11",
   "metadata": {},
   "source": [
    "### **1. TaroGPT** </br>\n",
    "(Ask me anything for direction by kawaima@upenn.edu) </br>\n",
    "</br>\n",
    "</br>\n",
    "I don't know what they mean by direction. But after I asked, it seems like a tarot card reading situation. I decided to choose **tarot** because there was a section on career. As of now, I'm still on the job hunt so I am curious to see how this chat box will read my situation\n",
    "> <img src=\"2.png\" width=\"100%\"/>\n",
    "> <img src=\"3.png\" width=\"100%\"/> </br>\n",
    "</br>\n",
    "</br>\n",
    "I would say that it's pretty spot on. I'm pretty sure the creator prompted it with a series of different ones that rotate based on what the user types. Nothing else more to add. Let's go to the next one."
   ]
  },
  {
   "cell_type": "markdown",
   "id": "94185b50-2c17-437a-b230-47c9760f14ef",
   "metadata": {},
   "source": [
    "### **2. Love Run Half-Marathon Training GPT** </br>\n",
    "(This GPT aims to assist runners to succeed in the 2025 Philly Love Run. Whether the runner be a first-timer or looking to get back in shape, this GPT will help design the perfect training plan factoring in wellness, our busy schedules, and fitness goals. By community builder)"
   ]
  }
 ],
 "metadata": {
  "kernelspec": {
   "display_name": "Python 3-12 (COMM4190)",
   "language": "python",
   "name": "python3-12_comm4190"
  },
  "language_info": {
   "codemirror_mode": {
    "name": "ipython",
    "version": 3
   },
   "file_extension": ".py",
   "mimetype": "text/x-python",
   "name": "python",
   "nbconvert_exporter": "python",
   "pygments_lexer": "ipython3",
   "version": "3.12.8"
  }
 },
 "nbformat": 4,
 "nbformat_minor": 5
}
